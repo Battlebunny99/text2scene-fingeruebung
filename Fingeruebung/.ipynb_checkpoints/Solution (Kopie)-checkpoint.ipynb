{
 "cells": [
  {
   "cell_type": "markdown",
   "id": "answering-demonstration",
   "metadata": {},
   "source": [
    "# Text2Scene\n",
    "Dies ist die Lösung der Fingerübung für das Praktikum Text2Scene des Sommersemesters 2021\n",
    "\n",
    "Autor: Xuan Anh Nguyen <br>\n",
    "Email: xuananh6077@stud.uni-frankfurt.de"
   ]
  },
  {
   "cell_type": "code",
   "execution_count": 1,
   "id": "colonial-aside",
   "metadata": {},
   "outputs": [],
   "source": [
    "import numpy\n",
    "import matplotlib.pyplot as plt\n",
    "import torch\n",
    "import tensorflow as tf\n",
    "import spacy\n",
    "import networkx as nx\n",
    "import xml.etree.ElementTree as ET\n",
    "import itertools\n",
    "import os\n",
    "import pathlib\n",
    "import random\n",
    "from tqdm import tqdm\n",
    "from spacy.training import Example\n"
   ]
  },
  {
   "cell_type": "code",
   "execution_count": 2,
   "id": "hourly-polyester",
   "metadata": {},
   "outputs": [],
   "source": [
    "def count_pos(ls):\n",
    "     x_set = set(ls)\n",
    "     x_dict = {}\n",
    "\n",
    "     for entry in x_set:\n",
    "          x_dict[entry] = ls.count(entry)\n",
    "\n",
    "     return x_dict"
   ]
  },
  {
   "cell_type": "markdown",
   "id": "local-syndrome",
   "metadata": {},
   "source": [
    "## Aufgabe 2.2 Vorverarbeitung\n",
    "Einlesen der Trainingsdaten sowie Training des Models mit dem NLP Paket **SpaCy**\n"
   ]
  },
  {
   "cell_type": "code",
   "execution_count": 3,
   "id": "cordless-diana",
   "metadata": {},
   "outputs": [
    {
     "name": "stdout",
     "output_type": "stream",
     "text": [
      "confirmed\n",
      "confirmed\n",
      "['PLACE', 'PATH', 'SPATIAL_ENTITY', 'NONMOTION_EVENT', 'MOTION', 'SPATIAL_SIGNAL', 'MOTION_SIGNAL', 'MEASURE', 'QSLINK', 'OLINK', 'MOVELINK', 'MLINK', 'METALINK', 'MEASURELINK', 'CP', 'URL']\n"
     ]
    }
   ],
   "source": [
    "# read all valid files used for training\n",
    "\n",
    "train_data = [] # save only valid data for training (i.e. important tags)\n",
    "full_data = [] # save all (xml) data\n",
    "poss_tags = []\n",
    "\n",
    "root = pathlib.Path().absolute()\n",
    "for subdir, dirs, files in os.walk(root):\n",
    "    # skip all hidden directories and files\n",
    "    files = [f for f in files if not f[0] == '.']\n",
    "    dirs[:] = [d for d in dirs if not d[0] == '.']\n",
    "    if not subdir.startswith('.'):\n",
    "        for filename in files:\n",
    "            filepath = subdir + os.sep + filename\n",
    "            if filepath.endswith(\".xml\"):\n",
    "                # filepath will now point towards a valid .xml file\n",
    "                \n",
    "                # read and parse xml files\n",
    "                tree = ET.parse(filepath)\n",
    "                root = tree.getroot()\n",
    "                \n",
    "                full_data.append(root)\n",
    "                \n",
    "                # label text with entities \n",
    "                entities = []\n",
    "                for elem in root[1]:\n",
    "                    # filter non usable entries\n",
    "                    if (elem.get('start') != None) and (elem.get('end') != None) and (elem.get('start') != '-1') and (elem.get('end') != '-1'):\n",
    "                        new_ent = (int(elem.get('start')), int(elem.get('end')), elem.tag)\n",
    "                        entities.append(new_ent)\n",
    "                    if elem.tag not in poss_tags:\n",
    "                        poss_tags.append(elem.tag)\n",
    "                        \n",
    "                # save the 2 special xml files extra so we can access them easier later\n",
    "                if filepath.endswith(\"Bicycles.xml\"):\n",
    "                    print(\"confirmed\")\n",
    "                    special1 = root\n",
    "                elif filepath.endswith(\"Highlights_of_the_Prado_Museum.xml\"):\n",
    "                    print(\"confirmed\")\n",
    "                    special2 = root\n",
    "\n",
    "                        \n",
    "                train_data.append((root[0].text, {'entities': entities}))\n",
    "    \n",
    "# print(TRAIN_DATA[1][0])\n",
    "print(poss_tags)"
   ]
  },
  {
   "cell_type": "code",
   "execution_count": null,
   "id": "french-intake",
   "metadata": {},
   "outputs": [
    {
     "name": "stderr",
     "output_type": "stream",
     "text": [
      "  0%|          | 0/59 [00:00<?, ?it/s]"
     ]
    },
    {
     "name": "stdout",
     "output_type": "stream",
     "text": [
      "Created blank 'en' model\n",
      "59\n"
     ]
    },
    {
     "name": "stderr",
     "output_type": "stream",
     "text": [
      "100%|██████████| 59/59 [00:06<00:00,  9.38it/s]\n",
      "  2%|▏         | 1/59 [00:00<00:07,  7.33it/s]"
     ]
    },
    {
     "name": "stdout",
     "output_type": "stream",
     "text": [
      "{'ner': 11655.506783469242}\n",
      "59\n"
     ]
    },
    {
     "name": "stderr",
     "output_type": "stream",
     "text": [
      "100%|██████████| 59/59 [00:05<00:00, 11.62it/s]\n",
      "  3%|▎         | 2/59 [00:00<00:04, 11.60it/s]"
     ]
    },
    {
     "name": "stdout",
     "output_type": "stream",
     "text": [
      "{'ner': 7719.798544920315}\n",
      "59\n"
     ]
    },
    {
     "name": "stderr",
     "output_type": "stream",
     "text": [
      "100%|██████████| 59/59 [00:04<00:00, 14.44it/s]\n",
      "  2%|▏         | 1/59 [00:00<00:06,  9.37it/s]"
     ]
    },
    {
     "name": "stdout",
     "output_type": "stream",
     "text": [
      "{'ner': 6726.973589986497}\n",
      "59\n"
     ]
    },
    {
     "name": "stderr",
     "output_type": "stream",
     "text": [
      "100%|██████████| 59/59 [00:04<00:00, 14.61it/s]\n",
      "  3%|▎         | 2/59 [00:00<00:04, 12.48it/s]"
     ]
    },
    {
     "name": "stdout",
     "output_type": "stream",
     "text": [
      "{'ner': 6037.877928842854}\n",
      "59\n"
     ]
    },
    {
     "name": "stderr",
     "output_type": "stream",
     "text": [
      "100%|██████████| 59/59 [00:03<00:00, 15.30it/s]\n",
      "  3%|▎         | 2/59 [00:00<00:04, 13.01it/s]"
     ]
    },
    {
     "name": "stdout",
     "output_type": "stream",
     "text": [
      "{'ner': 5582.750694634453}\n",
      "59\n"
     ]
    },
    {
     "name": "stderr",
     "output_type": "stream",
     "text": [
      "100%|██████████| 59/59 [00:03<00:00, 15.08it/s]\n",
      "  2%|▏         | 1/59 [00:00<00:06,  8.49it/s]"
     ]
    },
    {
     "name": "stdout",
     "output_type": "stream",
     "text": [
      "{'ner': 5271.907818306192}\n",
      "59\n"
     ]
    },
    {
     "name": "stderr",
     "output_type": "stream",
     "text": [
      "100%|██████████| 59/59 [00:03<00:00, 14.87it/s]\n",
      "  3%|▎         | 2/59 [00:00<00:03, 15.94it/s]"
     ]
    },
    {
     "name": "stdout",
     "output_type": "stream",
     "text": [
      "{'ner': 4942.75034140778}\n",
      "59\n"
     ]
    },
    {
     "name": "stderr",
     "output_type": "stream",
     "text": [
      "100%|██████████| 59/59 [00:03<00:00, 15.28it/s]\n",
      "  3%|▎         | 2/59 [00:00<00:04, 12.32it/s]"
     ]
    },
    {
     "name": "stdout",
     "output_type": "stream",
     "text": [
      "{'ner': 4807.367420760081}\n",
      "59\n"
     ]
    },
    {
     "name": "stderr",
     "output_type": "stream",
     "text": [
      "100%|██████████| 59/59 [00:03<00:00, 15.36it/s]\n",
      "  3%|▎         | 2/59 [00:00<00:04, 11.93it/s]"
     ]
    },
    {
     "name": "stdout",
     "output_type": "stream",
     "text": [
      "{'ner': 4417.442761878394}\n",
      "59\n"
     ]
    },
    {
     "name": "stderr",
     "output_type": "stream",
     "text": [
      "100%|██████████| 59/59 [00:04<00:00, 14.58it/s]\n",
      "  2%|▏         | 1/59 [00:00<00:06,  9.18it/s]"
     ]
    },
    {
     "name": "stdout",
     "output_type": "stream",
     "text": [
      "{'ner': 4315.426803416556}\n",
      "59\n"
     ]
    },
    {
     "name": "stderr",
     "output_type": "stream",
     "text": [
      "100%|██████████| 59/59 [00:03<00:00, 15.55it/s]\n",
      "  3%|▎         | 2/59 [00:00<00:04, 12.67it/s]"
     ]
    },
    {
     "name": "stdout",
     "output_type": "stream",
     "text": [
      "{'ner': 4158.1025248333035}\n",
      "59\n"
     ]
    },
    {
     "name": "stderr",
     "output_type": "stream",
     "text": [
      "100%|██████████| 59/59 [00:03<00:00, 15.07it/s]\n",
      "  3%|▎         | 2/59 [00:00<00:04, 12.35it/s]"
     ]
    },
    {
     "name": "stdout",
     "output_type": "stream",
     "text": [
      "{'ner': 4025.1280015047496}\n",
      "59\n"
     ]
    },
    {
     "name": "stderr",
     "output_type": "stream",
     "text": [
      "100%|██████████| 59/59 [00:03<00:00, 14.84it/s]\n",
      "  5%|▌         | 3/59 [00:00<00:02, 20.60it/s]"
     ]
    },
    {
     "name": "stdout",
     "output_type": "stream",
     "text": [
      "{'ner': 3869.7932363454906}\n",
      "59\n"
     ]
    },
    {
     "name": "stderr",
     "output_type": "stream",
     "text": [
      "100%|██████████| 59/59 [00:03<00:00, 14.91it/s]\n",
      "  3%|▎         | 2/59 [00:00<00:05, 10.96it/s]"
     ]
    },
    {
     "name": "stdout",
     "output_type": "stream",
     "text": [
      "{'ner': 3714.981352565781}\n",
      "59\n"
     ]
    },
    {
     "name": "stderr",
     "output_type": "stream",
     "text": [
      "100%|██████████| 59/59 [00:04<00:00, 14.62it/s]\n",
      "  2%|▏         | 1/59 [00:00<00:06,  9.14it/s]"
     ]
    },
    {
     "name": "stdout",
     "output_type": "stream",
     "text": [
      "{'ner': 3579.2709086033065}\n",
      "59\n"
     ]
    },
    {
     "name": "stderr",
     "output_type": "stream",
     "text": [
      "100%|██████████| 59/59 [00:04<00:00, 14.67it/s]\n",
      "  2%|▏         | 1/59 [00:00<00:06,  8.76it/s]"
     ]
    },
    {
     "name": "stdout",
     "output_type": "stream",
     "text": [
      "{'ner': 3470.929783817163}\n",
      "59\n"
     ]
    },
    {
     "name": "stderr",
     "output_type": "stream",
     "text": [
      "100%|██████████| 59/59 [00:04<00:00, 14.55it/s]\n",
      "  8%|▊         | 5/59 [00:00<00:01, 49.27it/s]"
     ]
    },
    {
     "name": "stdout",
     "output_type": "stream",
     "text": [
      "{'ner': 3437.8726707393375}\n",
      "59\n"
     ]
    },
    {
     "name": "stderr",
     "output_type": "stream",
     "text": [
      "100%|██████████| 59/59 [00:03<00:00, 15.33it/s]\n",
      "  8%|▊         | 5/59 [00:00<00:01, 29.96it/s]"
     ]
    },
    {
     "name": "stdout",
     "output_type": "stream",
     "text": [
      "{'ner': 3278.7090307624717}\n",
      "59\n"
     ]
    },
    {
     "name": "stderr",
     "output_type": "stream",
     "text": [
      "100%|██████████| 59/59 [00:03<00:00, 15.38it/s]\n",
      "  0%|          | 0/59 [00:00<?, ?it/s]"
     ]
    },
    {
     "name": "stdout",
     "output_type": "stream",
     "text": [
      "{'ner': 3114.585259769558}\n",
      "59\n"
     ]
    },
    {
     "name": "stderr",
     "output_type": "stream",
     "text": [
      "100%|██████████| 59/59 [00:04<00:00, 14.12it/s]\n",
      "  2%|▏         | 1/59 [00:00<00:07,  7.42it/s]"
     ]
    },
    {
     "name": "stdout",
     "output_type": "stream",
     "text": [
      "{'ner': 3118.320055188102}\n",
      "59\n"
     ]
    },
    {
     "name": "stderr",
     "output_type": "stream",
     "text": [
      "100%|██████████| 59/59 [00:04<00:00, 13.89it/s]\n",
      "  3%|▎         | 2/59 [00:00<00:05, 11.06it/s]"
     ]
    },
    {
     "name": "stdout",
     "output_type": "stream",
     "text": [
      "{'ner': 3052.463623608549}\n",
      "59\n"
     ]
    },
    {
     "name": "stderr",
     "output_type": "stream",
     "text": [
      "100%|██████████| 59/59 [00:03<00:00, 15.17it/s]\n",
      "  2%|▏         | 1/59 [00:00<00:06,  8.98it/s]"
     ]
    },
    {
     "name": "stdout",
     "output_type": "stream",
     "text": [
      "{'ner': 2985.687764883653}\n",
      "59\n"
     ]
    },
    {
     "name": "stderr",
     "output_type": "stream",
     "text": [
      "100%|██████████| 59/59 [00:04<00:00, 14.46it/s]\n",
      "  3%|▎         | 2/59 [00:00<00:03, 15.46it/s]"
     ]
    },
    {
     "name": "stdout",
     "output_type": "stream",
     "text": [
      "{'ner': 2941.726435036469}\n",
      "59\n"
     ]
    },
    {
     "name": "stderr",
     "output_type": "stream",
     "text": [
      "100%|██████████| 59/59 [00:04<00:00, 14.70it/s]\n",
      "  3%|▎         | 2/59 [00:00<00:04, 14.06it/s]"
     ]
    },
    {
     "name": "stdout",
     "output_type": "stream",
     "text": [
      "{'ner': 2814.9625284923654}\n",
      "59\n"
     ]
    },
    {
     "name": "stderr",
     "output_type": "stream",
     "text": [
      "100%|██████████| 59/59 [00:04<00:00, 14.25it/s]\n",
      "  3%|▎         | 2/59 [00:00<00:04, 11.79it/s]"
     ]
    },
    {
     "name": "stdout",
     "output_type": "stream",
     "text": [
      "{'ner': 2808.8881260930393}\n",
      "59\n"
     ]
    },
    {
     "name": "stderr",
     "output_type": "stream",
     "text": [
      "100%|██████████| 59/59 [00:04<00:00, 14.56it/s]\n",
      "  3%|▎         | 2/59 [00:00<00:03, 16.30it/s]"
     ]
    },
    {
     "name": "stdout",
     "output_type": "stream",
     "text": [
      "{'ner': 2827.057818695106}\n",
      "59\n"
     ]
    },
    {
     "name": "stderr",
     "output_type": "stream",
     "text": [
      "100%|██████████| 59/59 [00:03<00:00, 15.18it/s]\n",
      "  3%|▎         | 2/59 [00:00<00:04, 13.99it/s]"
     ]
    },
    {
     "name": "stdout",
     "output_type": "stream",
     "text": [
      "{'ner': 2600.3022702151197}\n",
      "59\n"
     ]
    },
    {
     "name": "stderr",
     "output_type": "stream",
     "text": [
      "100%|██████████| 59/59 [00:03<00:00, 15.30it/s]\n",
      "  3%|▎         | 2/59 [00:00<00:03, 15.36it/s]"
     ]
    },
    {
     "name": "stdout",
     "output_type": "stream",
     "text": [
      "{'ner': 2781.3249937998503}\n",
      "59\n"
     ]
    },
    {
     "name": "stderr",
     "output_type": "stream",
     "text": [
      "100%|██████████| 59/59 [00:03<00:00, 14.87it/s]\n",
      "  3%|▎         | 2/59 [00:00<00:03, 15.24it/s]"
     ]
    },
    {
     "name": "stdout",
     "output_type": "stream",
     "text": [
      "{'ner': 2559.06676064843}\n",
      "59\n"
     ]
    },
    {
     "name": "stderr",
     "output_type": "stream",
     "text": [
      "100%|██████████| 59/59 [00:03<00:00, 14.96it/s]\n",
      "  3%|▎         | 2/59 [00:00<00:03, 16.41it/s]"
     ]
    },
    {
     "name": "stdout",
     "output_type": "stream",
     "text": [
      "{'ner': 2528.4198142850373}\n",
      "59\n"
     ]
    },
    {
     "name": "stderr",
     "output_type": "stream",
     "text": [
      "100%|██████████| 59/59 [00:03<00:00, 15.44it/s]\n",
      "  3%|▎         | 2/59 [00:00<00:04, 12.27it/s]"
     ]
    },
    {
     "name": "stdout",
     "output_type": "stream",
     "text": [
      "{'ner': 2514.954101647015}\n",
      "59\n"
     ]
    },
    {
     "name": "stderr",
     "output_type": "stream",
     "text": [
      "100%|██████████| 59/59 [00:04<00:00, 14.31it/s]\n",
      "  3%|▎         | 2/59 [00:00<00:04, 12.85it/s]"
     ]
    },
    {
     "name": "stdout",
     "output_type": "stream",
     "text": [
      "{'ner': 2421.9913601439207}\n",
      "59\n"
     ]
    },
    {
     "name": "stderr",
     "output_type": "stream",
     "text": [
      "100%|██████████| 59/59 [00:03<00:00, 14.94it/s]\n",
      "  3%|▎         | 2/59 [00:00<00:04, 14.02it/s]"
     ]
    },
    {
     "name": "stdout",
     "output_type": "stream",
     "text": [
      "{'ner': 2328.6984874050036}\n",
      "59\n"
     ]
    },
    {
     "name": "stderr",
     "output_type": "stream",
     "text": [
      "100%|██████████| 59/59 [00:03<00:00, 15.00it/s]\n",
      "  2%|▏         | 1/59 [00:00<00:06,  8.43it/s]"
     ]
    },
    {
     "name": "stdout",
     "output_type": "stream",
     "text": [
      "{'ner': 2332.445813838483}\n",
      "59\n"
     ]
    },
    {
     "name": "stderr",
     "output_type": "stream",
     "text": [
      "100%|██████████| 59/59 [00:04<00:00, 14.00it/s]\n",
      "  2%|▏         | 1/59 [00:00<00:06,  8.73it/s]"
     ]
    },
    {
     "name": "stdout",
     "output_type": "stream",
     "text": [
      "{'ner': 2221.719393268503}\n",
      "59\n"
     ]
    },
    {
     "name": "stderr",
     "output_type": "stream",
     "text": [
      "100%|██████████| 59/59 [00:04<00:00, 13.87it/s]\n",
      "  3%|▎         | 2/59 [00:00<00:04, 12.09it/s]"
     ]
    },
    {
     "name": "stdout",
     "output_type": "stream",
     "text": [
      "{'ner': 2262.1218399892464}\n",
      "59\n"
     ]
    },
    {
     "name": "stderr",
     "output_type": "stream",
     "text": [
      "100%|██████████| 59/59 [00:03<00:00, 15.22it/s]\n",
      "  7%|▋         | 4/59 [00:00<00:01, 28.76it/s]"
     ]
    },
    {
     "name": "stdout",
     "output_type": "stream",
     "text": [
      "{'ner': 2223.0906220616143}\n",
      "59\n"
     ]
    },
    {
     "name": "stderr",
     "output_type": "stream",
     "text": [
      "100%|██████████| 59/59 [00:03<00:00, 15.21it/s]\n",
      "  5%|▌         | 3/59 [00:00<00:02, 21.63it/s]"
     ]
    },
    {
     "name": "stdout",
     "output_type": "stream",
     "text": [
      "{'ner': 2227.7136615583413}\n",
      "59\n"
     ]
    },
    {
     "name": "stderr",
     "output_type": "stream",
     "text": [
      "100%|██████████| 59/59 [00:03<00:00, 14.76it/s]\n",
      "  5%|▌         | 3/59 [00:00<00:03, 15.43it/s]"
     ]
    },
    {
     "name": "stdout",
     "output_type": "stream",
     "text": [
      "{'ner': 2204.1150373588325}\n",
      "59\n"
     ]
    },
    {
     "name": "stderr",
     "output_type": "stream",
     "text": [
      "100%|██████████| 59/59 [00:03<00:00, 15.30it/s]\n",
      "  3%|▎         | 2/59 [00:00<00:03, 14.26it/s]"
     ]
    },
    {
     "name": "stdout",
     "output_type": "stream",
     "text": [
      "{'ner': 2173.2759317719047}\n",
      "59\n"
     ]
    },
    {
     "name": "stderr",
     "output_type": "stream",
     "text": [
      "100%|██████████| 59/59 [00:04<00:00, 14.74it/s]\n",
      "  3%|▎         | 2/59 [00:00<00:03, 15.95it/s]"
     ]
    },
    {
     "name": "stdout",
     "output_type": "stream",
     "text": [
      "{'ner': 2073.0619101436073}\n",
      "59\n"
     ]
    },
    {
     "name": "stderr",
     "output_type": "stream",
     "text": [
      "100%|██████████| 59/59 [00:04<00:00, 14.58it/s]\n",
      "  3%|▎         | 2/59 [00:00<00:04, 12.13it/s]"
     ]
    },
    {
     "name": "stdout",
     "output_type": "stream",
     "text": [
      "{'ner': 2021.3726903114143}\n",
      "59\n"
     ]
    },
    {
     "name": "stderr",
     "output_type": "stream",
     "text": [
      "100%|██████████| 59/59 [00:04<00:00, 12.99it/s]\n",
      "  2%|▏         | 1/59 [00:00<00:08,  6.51it/s]"
     ]
    },
    {
     "name": "stdout",
     "output_type": "stream",
     "text": [
      "{'ner': 2007.5455813178378}\n",
      "59\n"
     ]
    },
    {
     "name": "stderr",
     "output_type": "stream",
     "text": [
      "100%|██████████| 59/59 [00:03<00:00, 14.80it/s]\n",
      "  2%|▏         | 1/59 [00:00<00:05,  9.69it/s]"
     ]
    },
    {
     "name": "stdout",
     "output_type": "stream",
     "text": [
      "{'ner': 1965.3990582382648}\n",
      "59\n"
     ]
    },
    {
     "name": "stderr",
     "output_type": "stream",
     "text": [
      "100%|██████████| 59/59 [00:04<00:00, 13.91it/s]\n",
      "  5%|▌         | 3/59 [00:00<00:03, 17.15it/s]"
     ]
    },
    {
     "name": "stdout",
     "output_type": "stream",
     "text": [
      "{'ner': 1998.7647063417967}\n",
      "59\n"
     ]
    },
    {
     "name": "stderr",
     "output_type": "stream",
     "text": [
      "100%|██████████| 59/59 [00:04<00:00, 14.73it/s]\n",
      "  5%|▌         | 3/59 [00:00<00:02, 19.05it/s]"
     ]
    },
    {
     "name": "stdout",
     "output_type": "stream",
     "text": [
      "{'ner': 1938.8017872821097}\n",
      "59\n"
     ]
    },
    {
     "name": "stderr",
     "output_type": "stream",
     "text": [
      "100%|██████████| 59/59 [00:04<00:00, 14.57it/s]\n",
      "  3%|▎         | 2/59 [00:00<00:03, 18.99it/s]"
     ]
    },
    {
     "name": "stdout",
     "output_type": "stream",
     "text": [
      "{'ner': 1881.2883576164081}\n",
      "59\n"
     ]
    },
    {
     "name": "stderr",
     "output_type": "stream",
     "text": [
      "100%|██████████| 59/59 [00:04<00:00, 14.44it/s]\n",
      "  7%|▋         | 4/59 [00:00<00:01, 27.94it/s]"
     ]
    },
    {
     "name": "stdout",
     "output_type": "stream",
     "text": [
      "{'ner': 1940.146318381322}\n",
      "59\n"
     ]
    },
    {
     "name": "stderr",
     "output_type": "stream",
     "text": [
      "100%|██████████| 59/59 [00:04<00:00, 14.28it/s]\n",
      "  2%|▏         | 1/59 [00:00<00:06,  9.58it/s]"
     ]
    },
    {
     "name": "stdout",
     "output_type": "stream",
     "text": [
      "{'ner': 1908.5221620271254}\n",
      "59\n"
     ]
    },
    {
     "name": "stderr",
     "output_type": "stream",
     "text": [
      "100%|██████████| 59/59 [00:03<00:00, 15.44it/s]\n",
      "  5%|▌         | 3/59 [00:00<00:02, 21.96it/s]"
     ]
    },
    {
     "name": "stdout",
     "output_type": "stream",
     "text": [
      "{'ner': 1844.8974551502702}\n",
      "59\n"
     ]
    },
    {
     "name": "stderr",
     "output_type": "stream",
     "text": [
      "100%|██████████| 59/59 [00:03<00:00, 15.08it/s]\n",
      "  3%|▎         | 2/59 [00:00<00:04, 13.94it/s]"
     ]
    },
    {
     "name": "stdout",
     "output_type": "stream",
     "text": [
      "{'ner': 1829.4588410236565}\n",
      "59\n"
     ]
    },
    {
     "name": "stderr",
     "output_type": "stream",
     "text": [
      "100%|██████████| 59/59 [00:04<00:00, 14.03it/s]\n",
      "  5%|▌         | 3/59 [00:00<00:03, 16.31it/s]"
     ]
    },
    {
     "name": "stdout",
     "output_type": "stream",
     "text": [
      "{'ner': 1784.737203128921}\n",
      "59\n"
     ]
    },
    {
     "name": "stderr",
     "output_type": "stream",
     "text": [
      "100%|██████████| 59/59 [00:03<00:00, 14.94it/s]\n",
      "  5%|▌         | 3/59 [00:00<00:02, 19.33it/s]"
     ]
    },
    {
     "name": "stdout",
     "output_type": "stream",
     "text": [
      "{'ner': 1667.1133954650843}\n",
      "59\n"
     ]
    },
    {
     "name": "stderr",
     "output_type": "stream",
     "text": [
      "100%|██████████| 59/59 [00:04<00:00, 14.69it/s]\n",
      "  2%|▏         | 1/59 [00:00<00:06,  9.19it/s]"
     ]
    },
    {
     "name": "stdout",
     "output_type": "stream",
     "text": [
      "{'ner': 1767.3582258121776}\n",
      "59\n"
     ]
    },
    {
     "name": "stderr",
     "output_type": "stream",
     "text": [
      "100%|██████████| 59/59 [00:04<00:00, 13.22it/s]\n",
      "  3%|▎         | 2/59 [00:00<00:04, 12.40it/s]"
     ]
    },
    {
     "name": "stdout",
     "output_type": "stream",
     "text": [
      "{'ner': 1788.2183690311122}\n",
      "59\n"
     ]
    },
    {
     "name": "stderr",
     "output_type": "stream",
     "text": [
      "100%|██████████| 59/59 [00:03<00:00, 15.10it/s]\n",
      "  0%|          | 0/59 [00:00<?, ?it/s]"
     ]
    },
    {
     "name": "stdout",
     "output_type": "stream",
     "text": [
      "{'ner': 1723.151181410646}\n",
      "59\n"
     ]
    },
    {
     "name": "stderr",
     "output_type": "stream",
     "text": [
      "100%|██████████| 59/59 [00:04<00:00, 14.57it/s]\n",
      "  2%|▏         | 1/59 [00:00<00:07,  7.60it/s]"
     ]
    },
    {
     "name": "stdout",
     "output_type": "stream",
     "text": [
      "{'ner': 1686.70519012188}\n",
      "59\n"
     ]
    },
    {
     "name": "stderr",
     "output_type": "stream",
     "text": [
      "100%|██████████| 59/59 [00:04<00:00, 14.48it/s]\n",
      "  0%|          | 0/59 [00:00<?, ?it/s]"
     ]
    },
    {
     "name": "stdout",
     "output_type": "stream",
     "text": [
      "{'ner': 1707.7459630373846}\n",
      "59\n"
     ]
    },
    {
     "name": "stderr",
     "output_type": "stream",
     "text": [
      "100%|██████████| 59/59 [00:04<00:00, 13.62it/s]\n",
      "  3%|▎         | 2/59 [00:00<00:05, 10.07it/s]"
     ]
    },
    {
     "name": "stdout",
     "output_type": "stream",
     "text": [
      "{'ner': 1704.6598198609001}\n",
      "59\n"
     ]
    },
    {
     "name": "stderr",
     "output_type": "stream",
     "text": [
      "100%|██████████| 59/59 [00:04<00:00, 13.22it/s]\n",
      "  5%|▌         | 3/59 [00:00<00:03, 18.47it/s]"
     ]
    },
    {
     "name": "stdout",
     "output_type": "stream",
     "text": [
      "{'ner': 1690.256876850814}\n",
      "59\n"
     ]
    },
    {
     "name": "stderr",
     "output_type": "stream",
     "text": [
      "100%|██████████| 59/59 [00:04<00:00, 13.96it/s]\n",
      "  3%|▎         | 2/59 [00:00<00:04, 12.37it/s]"
     ]
    },
    {
     "name": "stdout",
     "output_type": "stream",
     "text": [
      "{'ner': 1625.4568762989556}\n",
      "59\n"
     ]
    },
    {
     "name": "stderr",
     "output_type": "stream",
     "text": [
      "100%|██████████| 59/59 [00:03<00:00, 14.89it/s]\n",
      "  5%|▌         | 3/59 [00:00<00:03, 16.96it/s]"
     ]
    },
    {
     "name": "stdout",
     "output_type": "stream",
     "text": [
      "{'ner': 1614.1981682843677}\n",
      "59\n"
     ]
    },
    {
     "name": "stderr",
     "output_type": "stream",
     "text": [
      "100%|██████████| 59/59 [00:04<00:00, 13.96it/s]\n",
      "  2%|▏         | 1/59 [00:00<00:09,  6.26it/s]"
     ]
    },
    {
     "name": "stdout",
     "output_type": "stream",
     "text": [
      "{'ner': 1600.7239217233262}\n",
      "59\n"
     ]
    },
    {
     "name": "stderr",
     "output_type": "stream",
     "text": [
      "100%|██████████| 59/59 [00:04<00:00, 14.35it/s]\n",
      "  5%|▌         | 3/59 [00:00<00:03, 18.23it/s]"
     ]
    },
    {
     "name": "stdout",
     "output_type": "stream",
     "text": [
      "{'ner': 1527.9531098432744}\n",
      "59\n"
     ]
    },
    {
     "name": "stderr",
     "output_type": "stream",
     "text": [
      "100%|██████████| 59/59 [00:04<00:00, 13.76it/s]\n",
      "  5%|▌         | 3/59 [00:00<00:02, 19.84it/s]"
     ]
    },
    {
     "name": "stdout",
     "output_type": "stream",
     "text": [
      "{'ner': 1542.252149935525}\n",
      "59\n"
     ]
    },
    {
     "name": "stderr",
     "output_type": "stream",
     "text": [
      "100%|██████████| 59/59 [00:04<00:00, 13.83it/s]\n",
      "  2%|▏         | 1/59 [00:00<00:07,  7.63it/s]"
     ]
    },
    {
     "name": "stdout",
     "output_type": "stream",
     "text": [
      "{'ner': 1579.9602067671774}\n",
      "59\n"
     ]
    },
    {
     "name": "stderr",
     "output_type": "stream",
     "text": [
      "100%|██████████| 59/59 [00:04<00:00, 14.03it/s]\n",
      "  3%|▎         | 2/59 [00:00<00:03, 17.28it/s]"
     ]
    },
    {
     "name": "stdout",
     "output_type": "stream",
     "text": [
      "{'ner': 1475.40935406669}\n",
      "59\n"
     ]
    },
    {
     "name": "stderr",
     "output_type": "stream",
     "text": [
      "100%|██████████| 59/59 [00:03<00:00, 14.99it/s]\n",
      "  3%|▎         | 2/59 [00:00<00:03, 14.68it/s]"
     ]
    },
    {
     "name": "stdout",
     "output_type": "stream",
     "text": [
      "{'ner': 1516.8678581197712}\n",
      "59\n"
     ]
    },
    {
     "name": "stderr",
     "output_type": "stream",
     "text": [
      "100%|██████████| 59/59 [00:03<00:00, 15.01it/s]\n",
      "  3%|▎         | 2/59 [00:00<00:04, 12.83it/s]"
     ]
    },
    {
     "name": "stdout",
     "output_type": "stream",
     "text": [
      "{'ner': 1470.356604471826}\n",
      "59\n"
     ]
    },
    {
     "name": "stderr",
     "output_type": "stream",
     "text": [
      "100%|██████████| 59/59 [00:03<00:00, 15.13it/s]\n",
      "  5%|▌         | 3/59 [00:00<00:02, 27.61it/s]"
     ]
    },
    {
     "name": "stdout",
     "output_type": "stream",
     "text": [
      "{'ner': 1391.3978278844938}\n",
      "59\n"
     ]
    },
    {
     "name": "stderr",
     "output_type": "stream",
     "text": [
      "100%|██████████| 59/59 [00:04<00:00, 14.51it/s]\n",
      "  0%|          | 0/59 [00:00<?, ?it/s]"
     ]
    },
    {
     "name": "stdout",
     "output_type": "stream",
     "text": [
      "{'ner': 1473.6096880873095}\n",
      "59\n"
     ]
    },
    {
     "name": "stderr",
     "output_type": "stream",
     "text": [
      "100%|██████████| 59/59 [00:03<00:00, 14.80it/s]\n",
      "  3%|▎         | 2/59 [00:00<00:03, 17.30it/s]"
     ]
    },
    {
     "name": "stdout",
     "output_type": "stream",
     "text": [
      "{'ner': 1452.4157346868851}\n",
      "59\n"
     ]
    },
    {
     "name": "stderr",
     "output_type": "stream",
     "text": [
      "100%|██████████| 59/59 [00:04<00:00, 14.51it/s]\n",
      "  3%|▎         | 2/59 [00:00<00:05, 10.96it/s]"
     ]
    },
    {
     "name": "stdout",
     "output_type": "stream",
     "text": [
      "{'ner': 1375.4891588719534}\n",
      "59\n"
     ]
    },
    {
     "name": "stderr",
     "output_type": "stream",
     "text": [
      "100%|██████████| 59/59 [00:04<00:00, 14.30it/s]\n",
      "  3%|▎         | 2/59 [00:00<00:03, 14.47it/s]"
     ]
    },
    {
     "name": "stdout",
     "output_type": "stream",
     "text": [
      "{'ner': 1363.9887055043666}\n",
      "59\n"
     ]
    },
    {
     "name": "stderr",
     "output_type": "stream",
     "text": [
      "100%|██████████| 59/59 [00:04<00:00, 14.50it/s]\n",
      "  3%|▎         | 2/59 [00:00<00:05, 10.66it/s]"
     ]
    },
    {
     "name": "stdout",
     "output_type": "stream",
     "text": [
      "{'ner': 1335.8221420478037}\n",
      "59\n"
     ]
    },
    {
     "name": "stderr",
     "output_type": "stream",
     "text": [
      "100%|██████████| 59/59 [00:04<00:00, 14.01it/s]\n",
      "  2%|▏         | 1/59 [00:00<00:06,  8.55it/s]"
     ]
    },
    {
     "name": "stdout",
     "output_type": "stream",
     "text": [
      "{'ner': 1335.6253095308357}\n",
      "59\n"
     ]
    },
    {
     "name": "stderr",
     "output_type": "stream",
     "text": [
      "100%|██████████| 59/59 [00:04<00:00, 13.53it/s]\n",
      "  2%|▏         | 1/59 [00:00<00:06,  9.43it/s]"
     ]
    },
    {
     "name": "stdout",
     "output_type": "stream",
     "text": [
      "{'ner': 1343.8157771257668}\n",
      "59\n"
     ]
    },
    {
     "name": "stderr",
     "output_type": "stream",
     "text": [
      "100%|██████████| 59/59 [00:03<00:00, 14.93it/s]\n",
      "  2%|▏         | 1/59 [00:00<00:06,  9.23it/s]"
     ]
    },
    {
     "name": "stdout",
     "output_type": "stream",
     "text": [
      "{'ner': 1402.4892638705514}\n",
      "59\n"
     ]
    },
    {
     "name": "stderr",
     "output_type": "stream",
     "text": [
      "100%|██████████| 59/59 [00:04<00:00, 13.92it/s]\n",
      "  3%|▎         | 2/59 [00:00<00:04, 12.10it/s]"
     ]
    },
    {
     "name": "stdout",
     "output_type": "stream",
     "text": [
      "{'ner': 1245.8801561734085}\n",
      "59\n"
     ]
    },
    {
     "name": "stderr",
     "output_type": "stream",
     "text": [
      "100%|██████████| 59/59 [00:04<00:00, 14.34it/s]\n",
      "  3%|▎         | 2/59 [00:00<00:04, 12.77it/s]"
     ]
    },
    {
     "name": "stdout",
     "output_type": "stream",
     "text": [
      "{'ner': 1315.6566529062218}\n",
      "59\n"
     ]
    },
    {
     "name": "stderr",
     "output_type": "stream",
     "text": [
      "100%|██████████| 59/59 [00:04<00:00, 14.60it/s]\n",
      "  3%|▎         | 2/59 [00:00<00:04, 12.06it/s]"
     ]
    },
    {
     "name": "stdout",
     "output_type": "stream",
     "text": [
      "{'ner': 1253.9232090603414}\n",
      "59\n"
     ]
    },
    {
     "name": "stderr",
     "output_type": "stream",
     "text": [
      "100%|██████████| 59/59 [00:03<00:00, 14.88it/s]\n",
      "  2%|▏         | 1/59 [00:00<00:06,  9.53it/s]"
     ]
    },
    {
     "name": "stdout",
     "output_type": "stream",
     "text": [
      "{'ner': 1235.5884901239933}\n",
      "59\n"
     ]
    },
    {
     "name": "stderr",
     "output_type": "stream",
     "text": [
      "100%|██████████| 59/59 [00:04<00:00, 13.99it/s]\n",
      "  3%|▎         | 2/59 [00:00<00:04, 12.39it/s]"
     ]
    },
    {
     "name": "stdout",
     "output_type": "stream",
     "text": [
      "{'ner': 1310.7836076856074}\n",
      "59\n"
     ]
    },
    {
     "name": "stderr",
     "output_type": "stream",
     "text": [
      "100%|██████████| 59/59 [00:04<00:00, 13.35it/s]\n",
      "  2%|▏         | 1/59 [00:00<00:05,  9.92it/s]"
     ]
    },
    {
     "name": "stdout",
     "output_type": "stream",
     "text": [
      "{'ner': 1221.356670739312}\n",
      "59\n"
     ]
    },
    {
     "name": "stderr",
     "output_type": "stream",
     "text": [
      "100%|██████████| 59/59 [00:04<00:00, 14.14it/s]\n",
      "  3%|▎         | 2/59 [00:00<00:03, 17.80it/s]"
     ]
    },
    {
     "name": "stdout",
     "output_type": "stream",
     "text": [
      "{'ner': 1195.8242133654423}\n",
      "59\n"
     ]
    },
    {
     "name": "stderr",
     "output_type": "stream",
     "text": [
      "100%|██████████| 59/59 [00:04<00:00, 14.62it/s]\n",
      "  5%|▌         | 3/59 [00:00<00:02, 19.77it/s]"
     ]
    },
    {
     "name": "stdout",
     "output_type": "stream",
     "text": [
      "{'ner': 1203.0564618786966}\n",
      "59\n"
     ]
    },
    {
     "name": "stderr",
     "output_type": "stream",
     "text": [
      "100%|██████████| 59/59 [00:04<00:00, 13.92it/s]\n",
      "  2%|▏         | 1/59 [00:00<00:07,  8.15it/s]"
     ]
    },
    {
     "name": "stdout",
     "output_type": "stream",
     "text": [
      "{'ner': 1206.7551478879795}\n",
      "59\n"
     ]
    },
    {
     "name": "stderr",
     "output_type": "stream",
     "text": [
      "100%|██████████| 59/59 [00:04<00:00, 13.30it/s]\n",
      "  3%|▎         | 2/59 [00:00<00:04, 13.40it/s]"
     ]
    },
    {
     "name": "stdout",
     "output_type": "stream",
     "text": [
      "{'ner': 1232.0230763791371}\n",
      "59\n"
     ]
    },
    {
     "name": "stderr",
     "output_type": "stream",
     "text": [
      "100%|██████████| 59/59 [00:04<00:00, 14.18it/s]\n",
      "  5%|▌         | 3/59 [00:00<00:02, 24.16it/s]"
     ]
    },
    {
     "name": "stdout",
     "output_type": "stream",
     "text": [
      "{'ner': 1242.3021653629464}\n",
      "59\n"
     ]
    },
    {
     "name": "stderr",
     "output_type": "stream",
     "text": [
      "100%|██████████| 59/59 [00:03<00:00, 15.32it/s]\n",
      "  3%|▎         | 2/59 [00:00<00:05, 11.14it/s]"
     ]
    },
    {
     "name": "stdout",
     "output_type": "stream",
     "text": [
      "{'ner': 1183.8609440749478}\n",
      "59\n"
     ]
    },
    {
     "name": "stderr",
     "output_type": "stream",
     "text": [
      "100%|██████████| 59/59 [00:04<00:00, 13.36it/s]\n",
      "  2%|▏         | 1/59 [00:00<00:07,  8.11it/s]"
     ]
    },
    {
     "name": "stdout",
     "output_type": "stream",
     "text": [
      "{'ner': 1093.5019408770695}\n",
      "59\n"
     ]
    },
    {
     "name": "stderr",
     "output_type": "stream",
     "text": [
      "100%|██████████| 59/59 [00:04<00:00, 13.30it/s]\n",
      "  5%|▌         | 3/59 [00:00<00:02, 19.28it/s]"
     ]
    },
    {
     "name": "stdout",
     "output_type": "stream",
     "text": [
      "{'ner': 1079.9781199601407}\n",
      "59\n"
     ]
    },
    {
     "name": "stderr",
     "output_type": "stream",
     "text": [
      "100%|██████████| 59/59 [00:04<00:00, 14.64it/s]\n",
      "  3%|▎         | 2/59 [00:00<00:04, 11.46it/s]"
     ]
    },
    {
     "name": "stdout",
     "output_type": "stream",
     "text": [
      "{'ner': 1153.328363688389}\n",
      "59\n"
     ]
    },
    {
     "name": "stderr",
     "output_type": "stream",
     "text": [
      "100%|██████████| 59/59 [00:03<00:00, 14.80it/s]\n",
      "  3%|▎         | 2/59 [00:00<00:04, 13.91it/s]"
     ]
    },
    {
     "name": "stdout",
     "output_type": "stream",
     "text": [
      "{'ner': 1131.1103948991963}\n",
      "59\n"
     ]
    },
    {
     "name": "stderr",
     "output_type": "stream",
     "text": [
      "100%|██████████| 59/59 [00:03<00:00, 15.32it/s]\n",
      "  3%|▎         | 2/59 [00:00<00:03, 16.28it/s]"
     ]
    },
    {
     "name": "stdout",
     "output_type": "stream",
     "text": [
      "{'ner': 1082.25310147056}\n",
      "59\n"
     ]
    },
    {
     "name": "stderr",
     "output_type": "stream",
     "text": [
      "100%|██████████| 59/59 [00:04<00:00, 14.69it/s]\n",
      "  3%|▎         | 2/59 [00:00<00:04, 13.76it/s]"
     ]
    },
    {
     "name": "stdout",
     "output_type": "stream",
     "text": [
      "{'ner': 1142.9893800696486}\n",
      "59\n"
     ]
    },
    {
     "name": "stderr",
     "output_type": "stream",
     "text": [
      "100%|██████████| 59/59 [00:03<00:00, 15.32it/s]\n",
      "  3%|▎         | 2/59 [00:00<00:04, 13.07it/s]"
     ]
    },
    {
     "name": "stdout",
     "output_type": "stream",
     "text": [
      "{'ner': 1119.1121647000123}\n",
      "59\n"
     ]
    },
    {
     "name": "stderr",
     "output_type": "stream",
     "text": [
      "100%|██████████| 59/59 [00:04<00:00, 14.20it/s]\n",
      "  3%|▎         | 2/59 [00:00<00:04, 13.29it/s]"
     ]
    },
    {
     "name": "stdout",
     "output_type": "stream",
     "text": [
      "{'ner': 1076.2535283551015}\n",
      "59\n"
     ]
    },
    {
     "name": "stderr",
     "output_type": "stream",
     "text": [
      "100%|██████████| 59/59 [00:04<00:00, 14.51it/s]\n",
      "  5%|▌         | 3/59 [00:00<00:03, 16.69it/s]"
     ]
    },
    {
     "name": "stdout",
     "output_type": "stream",
     "text": [
      "{'ner': 1118.3214948302361}\n",
      "59\n"
     ]
    },
    {
     "name": "stderr",
     "output_type": "stream",
     "text": [
      "100%|██████████| 59/59 [00:04<00:00, 14.64it/s]\n",
      "  5%|▌         | 3/59 [00:00<00:03, 17.45it/s]"
     ]
    },
    {
     "name": "stdout",
     "output_type": "stream",
     "text": [
      "{'ner': 1135.2402923740103}\n",
      "59\n"
     ]
    },
    {
     "name": "stderr",
     "output_type": "stream",
     "text": [
      "100%|██████████| 59/59 [00:04<00:00, 13.50it/s]\n",
      "  2%|▏         | 1/59 [00:00<00:06,  9.37it/s]"
     ]
    },
    {
     "name": "stdout",
     "output_type": "stream",
     "text": [
      "{'ner': 1049.0940612636055}\n",
      "59\n"
     ]
    },
    {
     "name": "stderr",
     "output_type": "stream",
     "text": [
      "100%|██████████| 59/59 [00:04<00:00, 13.90it/s]\n",
      "  2%|▏         | 1/59 [00:00<00:07,  8.07it/s]"
     ]
    },
    {
     "name": "stdout",
     "output_type": "stream",
     "text": [
      "{'ner': 1059.1448663428075}\n",
      "59\n"
     ]
    },
    {
     "name": "stderr",
     "output_type": "stream",
     "text": [
      "100%|██████████| 59/59 [00:04<00:00, 12.85it/s]\n",
      "  2%|▏         | 1/59 [00:00<00:07,  7.94it/s]"
     ]
    },
    {
     "name": "stdout",
     "output_type": "stream",
     "text": [
      "{'ner': 1058.8247826245097}\n",
      "59\n"
     ]
    },
    {
     "name": "stderr",
     "output_type": "stream",
     "text": [
      "100%|██████████| 59/59 [00:04<00:00, 13.01it/s]\n",
      "  3%|▎         | 2/59 [00:00<00:04, 11.93it/s]"
     ]
    },
    {
     "name": "stdout",
     "output_type": "stream",
     "text": [
      "{'ner': 1052.0866887839138}\n",
      "59\n"
     ]
    },
    {
     "name": "stderr",
     "output_type": "stream",
     "text": [
      "100%|██████████| 59/59 [00:04<00:00, 14.40it/s]\n",
      "  5%|▌         | 3/59 [00:00<00:02, 23.34it/s]"
     ]
    },
    {
     "name": "stdout",
     "output_type": "stream",
     "text": [
      "{'ner': 1020.0859883622932}\n",
      "59\n"
     ]
    },
    {
     "name": "stderr",
     "output_type": "stream",
     "text": [
      "100%|██████████| 59/59 [00:04<00:00, 13.40it/s]\n",
      "  5%|▌         | 3/59 [00:00<00:03, 16.89it/s]"
     ]
    },
    {
     "name": "stdout",
     "output_type": "stream",
     "text": [
      "{'ner': 1017.6539439912394}\n",
      "59\n"
     ]
    },
    {
     "name": "stderr",
     "output_type": "stream",
     "text": [
      "100%|██████████| 59/59 [00:04<00:00, 14.06it/s]\n",
      "  2%|▏         | 1/59 [00:00<00:06,  8.90it/s]"
     ]
    },
    {
     "name": "stdout",
     "output_type": "stream",
     "text": [
      "{'ner': 1082.9674556968127}\n",
      "59\n"
     ]
    },
    {
     "name": "stderr",
     "output_type": "stream",
     "text": [
      "100%|██████████| 59/59 [00:04<00:00, 14.55it/s]\n",
      "  2%|▏         | 1/59 [00:00<00:06,  9.48it/s]"
     ]
    },
    {
     "name": "stdout",
     "output_type": "stream",
     "text": [
      "{'ner': 1009.0379638837861}\n",
      "59\n"
     ]
    },
    {
     "name": "stderr",
     "output_type": "stream",
     "text": [
      "100%|██████████| 59/59 [00:04<00:00, 12.58it/s]\n",
      "  3%|▎         | 2/59 [00:00<00:05, 10.91it/s]"
     ]
    },
    {
     "name": "stdout",
     "output_type": "stream",
     "text": [
      "{'ner': 1006.0381507510319}\n",
      "59\n"
     ]
    },
    {
     "name": "stderr",
     "output_type": "stream",
     "text": [
      "100%|██████████| 59/59 [00:04<00:00, 13.06it/s]\n",
      "  3%|▎         | 2/59 [00:00<00:03, 17.19it/s]"
     ]
    },
    {
     "name": "stdout",
     "output_type": "stream",
     "text": [
      "{'ner': 998.3603223277609}\n",
      "59\n"
     ]
    },
    {
     "name": "stderr",
     "output_type": "stream",
     "text": [
      "100%|██████████| 59/59 [00:04<00:00, 12.99it/s]\n",
      "  2%|▏         | 1/59 [00:00<00:06,  8.90it/s]"
     ]
    },
    {
     "name": "stdout",
     "output_type": "stream",
     "text": [
      "{'ner': 984.3446631557529}\n",
      "59\n"
     ]
    },
    {
     "name": "stderr",
     "output_type": "stream",
     "text": [
      "100%|██████████| 59/59 [00:04<00:00, 13.22it/s]\n",
      "  3%|▎         | 2/59 [00:00<00:03, 18.79it/s]"
     ]
    },
    {
     "name": "stdout",
     "output_type": "stream",
     "text": [
      "{'ner': 1018.879035204066}\n",
      "59\n"
     ]
    },
    {
     "name": "stderr",
     "output_type": "stream",
     "text": [
      "100%|██████████| 59/59 [00:03<00:00, 15.51it/s]\n",
      "  3%|▎         | 2/59 [00:00<00:03, 17.42it/s]"
     ]
    },
    {
     "name": "stdout",
     "output_type": "stream",
     "text": [
      "{'ner': 944.7720558601811}\n",
      "59\n"
     ]
    },
    {
     "name": "stderr",
     "output_type": "stream",
     "text": [
      "100%|██████████| 59/59 [00:03<00:00, 15.81it/s]\n",
      "  5%|▌         | 3/59 [00:00<00:02, 19.96it/s]"
     ]
    },
    {
     "name": "stdout",
     "output_type": "stream",
     "text": [
      "{'ner': 987.3113986016813}\n",
      "59\n"
     ]
    },
    {
     "name": "stderr",
     "output_type": "stream",
     "text": [
      "100%|██████████| 59/59 [00:04<00:00, 14.22it/s]\n",
      "  5%|▌         | 3/59 [00:00<00:02, 19.64it/s]"
     ]
    },
    {
     "name": "stdout",
     "output_type": "stream",
     "text": [
      "{'ner': 908.46352431974}\n",
      "59\n"
     ]
    },
    {
     "name": "stderr",
     "output_type": "stream",
     "text": [
      "100%|██████████| 59/59 [00:03<00:00, 15.28it/s]\n",
      "  3%|▎         | 2/59 [00:00<00:04, 12.00it/s]"
     ]
    },
    {
     "name": "stdout",
     "output_type": "stream",
     "text": [
      "{'ner': 971.3298008523695}\n",
      "59\n"
     ]
    },
    {
     "name": "stderr",
     "output_type": "stream",
     "text": [
      "100%|██████████| 59/59 [00:03<00:00, 14.86it/s]\n",
      "  3%|▎         | 2/59 [00:00<00:03, 15.87it/s]"
     ]
    },
    {
     "name": "stdout",
     "output_type": "stream",
     "text": [
      "{'ner': 945.6827249812309}\n",
      "59\n"
     ]
    },
    {
     "name": "stderr",
     "output_type": "stream",
     "text": [
      "100%|██████████| 59/59 [00:04<00:00, 14.64it/s]\n",
      "  3%|▎         | 2/59 [00:00<00:03, 16.20it/s]"
     ]
    },
    {
     "name": "stdout",
     "output_type": "stream",
     "text": [
      "{'ner': 965.2921669967184}\n",
      "59\n"
     ]
    },
    {
     "name": "stderr",
     "output_type": "stream",
     "text": [
      "100%|██████████| 59/59 [00:03<00:00, 15.12it/s]\n",
      "  3%|▎         | 2/59 [00:00<00:04, 12.08it/s]"
     ]
    },
    {
     "name": "stdout",
     "output_type": "stream",
     "text": [
      "{'ner': 917.510132428871}\n",
      "59\n"
     ]
    },
    {
     "name": "stderr",
     "output_type": "stream",
     "text": [
      "100%|██████████| 59/59 [00:03<00:00, 15.62it/s]\n",
      "  3%|▎         | 2/59 [00:00<00:04, 12.67it/s]"
     ]
    },
    {
     "name": "stdout",
     "output_type": "stream",
     "text": [
      "{'ner': 944.7286740997876}\n",
      "59\n"
     ]
    },
    {
     "name": "stderr",
     "output_type": "stream",
     "text": [
      "100%|██████████| 59/59 [00:03<00:00, 15.13it/s]\n",
      "  3%|▎         | 2/59 [00:00<00:04, 14.12it/s]"
     ]
    },
    {
     "name": "stdout",
     "output_type": "stream",
     "text": [
      "{'ner': 948.2986105506626}\n",
      "59\n"
     ]
    },
    {
     "name": "stderr",
     "output_type": "stream",
     "text": [
      "100%|██████████| 59/59 [00:03<00:00, 15.67it/s]\n",
      "  0%|          | 0/59 [00:00<?, ?it/s]"
     ]
    },
    {
     "name": "stdout",
     "output_type": "stream",
     "text": [
      "{'ner': 888.1358169076124}\n",
      "59\n"
     ]
    },
    {
     "name": "stderr",
     "output_type": "stream",
     "text": [
      "100%|██████████| 59/59 [00:03<00:00, 15.63it/s]\n",
      "  3%|▎         | 2/59 [00:00<00:02, 19.23it/s]"
     ]
    },
    {
     "name": "stdout",
     "output_type": "stream",
     "text": [
      "{'ner': 934.5240040662709}\n",
      "59\n"
     ]
    },
    {
     "name": "stderr",
     "output_type": "stream",
     "text": [
      "100%|██████████| 59/59 [00:03<00:00, 15.63it/s]\n",
      "  0%|          | 0/59 [00:00<?, ?it/s]"
     ]
    },
    {
     "name": "stdout",
     "output_type": "stream",
     "text": [
      "{'ner': 943.5531007466268}\n",
      "59\n"
     ]
    },
    {
     "name": "stderr",
     "output_type": "stream",
     "text": [
      "100%|██████████| 59/59 [00:03<00:00, 14.92it/s]\n",
      "  3%|▎         | 2/59 [00:00<00:03, 14.85it/s]"
     ]
    },
    {
     "name": "stdout",
     "output_type": "stream",
     "text": [
      "{'ner': 888.0816771125795}\n",
      "59\n"
     ]
    },
    {
     "name": "stderr",
     "output_type": "stream",
     "text": [
      "100%|██████████| 59/59 [00:03<00:00, 15.50it/s]\n",
      "  3%|▎         | 2/59 [00:00<00:04, 13.64it/s]"
     ]
    },
    {
     "name": "stdout",
     "output_type": "stream",
     "text": [
      "{'ner': 887.8278640804259}\n",
      "59\n"
     ]
    },
    {
     "name": "stderr",
     "output_type": "stream",
     "text": [
      "100%|██████████| 59/59 [00:03<00:00, 15.63it/s]\n",
      "  3%|▎         | 2/59 [00:00<00:03, 15.93it/s]"
     ]
    },
    {
     "name": "stdout",
     "output_type": "stream",
     "text": [
      "{'ner': 971.8556482911073}\n",
      "59\n"
     ]
    },
    {
     "name": "stderr",
     "output_type": "stream",
     "text": [
      "100%|██████████| 59/59 [00:03<00:00, 15.30it/s]\n",
      "  3%|▎         | 2/59 [00:00<00:04, 12.65it/s]"
     ]
    },
    {
     "name": "stdout",
     "output_type": "stream",
     "text": [
      "{'ner': 815.6393430588294}\n",
      "59\n"
     ]
    },
    {
     "name": "stderr",
     "output_type": "stream",
     "text": [
      "100%|██████████| 59/59 [00:03<00:00, 15.61it/s]\n",
      "  3%|▎         | 2/59 [00:00<00:04, 12.86it/s]"
     ]
    },
    {
     "name": "stdout",
     "output_type": "stream",
     "text": [
      "{'ner': 907.0238880942295}\n",
      "59\n"
     ]
    },
    {
     "name": "stderr",
     "output_type": "stream",
     "text": [
      "100%|██████████| 59/59 [00:03<00:00, 15.44it/s]\n",
      "  2%|▏         | 1/59 [00:00<00:07,  7.44it/s]"
     ]
    },
    {
     "name": "stdout",
     "output_type": "stream",
     "text": [
      "{'ner': 833.2266084073204}\n",
      "59\n"
     ]
    },
    {
     "name": "stderr",
     "output_type": "stream",
     "text": [
      "100%|██████████| 59/59 [00:03<00:00, 15.10it/s]\n",
      "  2%|▏         | 1/59 [00:00<00:06,  9.50it/s]"
     ]
    },
    {
     "name": "stdout",
     "output_type": "stream",
     "text": [
      "{'ner': 827.8225514503572}\n",
      "59\n"
     ]
    },
    {
     "name": "stderr",
     "output_type": "stream",
     "text": [
      "100%|██████████| 59/59 [00:03<00:00, 15.66it/s]\n",
      "  3%|▎         | 2/59 [00:00<00:03, 16.44it/s]"
     ]
    },
    {
     "name": "stdout",
     "output_type": "stream",
     "text": [
      "{'ner': 854.9927352402981}\n",
      "59\n"
     ]
    },
    {
     "name": "stderr",
     "output_type": "stream",
     "text": [
      "100%|██████████| 59/59 [00:03<00:00, 15.46it/s]\n",
      "  3%|▎         | 2/59 [00:00<00:04, 11.48it/s]"
     ]
    },
    {
     "name": "stdout",
     "output_type": "stream",
     "text": [
      "{'ner': 858.4449043112014}\n",
      "59\n"
     ]
    },
    {
     "name": "stderr",
     "output_type": "stream",
     "text": [
      "100%|██████████| 59/59 [00:03<00:00, 15.78it/s]\n",
      "  3%|▎         | 2/59 [00:00<00:04, 13.25it/s]"
     ]
    },
    {
     "name": "stdout",
     "output_type": "stream",
     "text": [
      "{'ner': 838.6034873799862}\n",
      "59\n"
     ]
    },
    {
     "name": "stderr",
     "output_type": "stream",
     "text": [
      "100%|██████████| 59/59 [00:03<00:00, 15.18it/s]\n",
      "  3%|▎         | 2/59 [00:00<00:04, 13.36it/s]"
     ]
    },
    {
     "name": "stdout",
     "output_type": "stream",
     "text": [
      "{'ner': 841.7461686804522}\n",
      "59\n"
     ]
    },
    {
     "name": "stderr",
     "output_type": "stream",
     "text": [
      "100%|██████████| 59/59 [00:03<00:00, 15.28it/s]\n",
      "  5%|▌         | 3/59 [00:00<00:02, 22.87it/s]"
     ]
    },
    {
     "name": "stdout",
     "output_type": "stream",
     "text": [
      "{'ner': 823.611951462884}\n",
      "59\n"
     ]
    },
    {
     "name": "stderr",
     "output_type": "stream",
     "text": [
      "100%|██████████| 59/59 [00:04<00:00, 14.31it/s]\n",
      "  0%|          | 0/59 [00:00<?, ?it/s]"
     ]
    },
    {
     "name": "stdout",
     "output_type": "stream",
     "text": [
      "{'ner': 821.9950219366971}\n",
      "59\n"
     ]
    },
    {
     "name": "stderr",
     "output_type": "stream",
     "text": [
      "100%|██████████| 59/59 [00:04<00:00, 12.93it/s]\n",
      "  5%|▌         | 3/59 [00:00<00:03, 15.59it/s]"
     ]
    },
    {
     "name": "stdout",
     "output_type": "stream",
     "text": [
      "{'ner': 871.6744806926257}\n",
      "59\n"
     ]
    },
    {
     "name": "stderr",
     "output_type": "stream",
     "text": [
      "100%|██████████| 59/59 [00:04<00:00, 14.08it/s]\n",
      "  5%|▌         | 3/59 [00:00<00:03, 18.13it/s]"
     ]
    },
    {
     "name": "stdout",
     "output_type": "stream",
     "text": [
      "{'ner': 813.7509448193626}\n",
      "59\n"
     ]
    },
    {
     "name": "stderr",
     "output_type": "stream",
     "text": [
      "100%|██████████| 59/59 [00:04<00:00, 13.66it/s]\n",
      "  3%|▎         | 2/59 [00:00<00:04, 14.15it/s]"
     ]
    },
    {
     "name": "stdout",
     "output_type": "stream",
     "text": [
      "{'ner': 764.0594505107443}\n",
      "59\n"
     ]
    },
    {
     "name": "stderr",
     "output_type": "stream",
     "text": [
      "100%|██████████| 59/59 [00:04<00:00, 14.59it/s]\n",
      "  3%|▎         | 2/59 [00:00<00:04, 12.96it/s]"
     ]
    },
    {
     "name": "stdout",
     "output_type": "stream",
     "text": [
      "{'ner': 821.9799551115226}\n",
      "59\n"
     ]
    },
    {
     "name": "stderr",
     "output_type": "stream",
     "text": [
      "100%|██████████| 59/59 [00:03<00:00, 15.40it/s]\n",
      "  5%|▌         | 3/59 [00:00<00:02, 22.09it/s]"
     ]
    },
    {
     "name": "stdout",
     "output_type": "stream",
     "text": [
      "{'ner': 851.3378145929723}\n",
      "59\n"
     ]
    },
    {
     "name": "stderr",
     "output_type": "stream",
     "text": [
      "100%|██████████| 59/59 [00:04<00:00, 14.46it/s]\n",
      "  5%|▌         | 3/59 [00:00<00:03, 18.31it/s]"
     ]
    },
    {
     "name": "stdout",
     "output_type": "stream",
     "text": [
      "{'ner': 743.9215095911684}\n",
      "59\n"
     ]
    },
    {
     "name": "stderr",
     "output_type": "stream",
     "text": [
      "100%|██████████| 59/59 [00:04<00:00, 14.33it/s]\n",
      "  5%|▌         | 3/59 [00:00<00:02, 24.87it/s]"
     ]
    },
    {
     "name": "stdout",
     "output_type": "stream",
     "text": [
      "{'ner': 742.4136084129625}\n",
      "59\n"
     ]
    },
    {
     "name": "stderr",
     "output_type": "stream",
     "text": [
      "100%|██████████| 59/59 [00:03<00:00, 15.19it/s]\n",
      "  3%|▎         | 2/59 [00:00<00:04, 13.31it/s]"
     ]
    },
    {
     "name": "stdout",
     "output_type": "stream",
     "text": [
      "{'ner': 807.4259535093729}\n",
      "59\n"
     ]
    },
    {
     "name": "stderr",
     "output_type": "stream",
     "text": [
      "100%|██████████| 59/59 [00:04<00:00, 13.76it/s]\n",
      "  3%|▎         | 2/59 [00:00<00:04, 12.73it/s]"
     ]
    },
    {
     "name": "stdout",
     "output_type": "stream",
     "text": [
      "{'ner': 777.6922571662546}\n",
      "59\n"
     ]
    },
    {
     "name": "stderr",
     "output_type": "stream",
     "text": [
      "100%|██████████| 59/59 [00:03<00:00, 15.04it/s]\n",
      "  5%|▌         | 3/59 [00:00<00:02, 21.79it/s]"
     ]
    },
    {
     "name": "stdout",
     "output_type": "stream",
     "text": [
      "{'ner': 751.9644113878469}\n",
      "59\n"
     ]
    },
    {
     "name": "stderr",
     "output_type": "stream",
     "text": [
      "100%|██████████| 59/59 [00:04<00:00, 14.39it/s]\n",
      "  7%|▋         | 4/59 [00:00<00:02, 26.26it/s]"
     ]
    },
    {
     "name": "stdout",
     "output_type": "stream",
     "text": [
      "{'ner': 731.9916586950953}\n",
      "59\n"
     ]
    },
    {
     "name": "stderr",
     "output_type": "stream",
     "text": [
      "100%|██████████| 59/59 [00:03<00:00, 15.13it/s]\n",
      "  3%|▎         | 2/59 [00:00<00:03, 15.72it/s]"
     ]
    },
    {
     "name": "stdout",
     "output_type": "stream",
     "text": [
      "{'ner': 759.5363640915764}\n",
      "59\n"
     ]
    },
    {
     "name": "stderr",
     "output_type": "stream",
     "text": [
      "100%|██████████| 59/59 [00:04<00:00, 14.73it/s]\n",
      "  3%|▎         | 2/59 [00:00<00:05, 11.34it/s]"
     ]
    },
    {
     "name": "stdout",
     "output_type": "stream",
     "text": [
      "{'ner': 769.3542335047936}\n",
      "59\n"
     ]
    },
    {
     "name": "stderr",
     "output_type": "stream",
     "text": [
      "100%|██████████| 59/59 [00:03<00:00, 15.02it/s]\n",
      "  2%|▏         | 1/59 [00:00<00:05,  9.87it/s]"
     ]
    },
    {
     "name": "stdout",
     "output_type": "stream",
     "text": [
      "{'ner': 771.9668055615041}\n",
      "59\n"
     ]
    },
    {
     "name": "stderr",
     "output_type": "stream",
     "text": [
      "100%|██████████| 59/59 [00:03<00:00, 14.76it/s]\n",
      "  3%|▎         | 2/59 [00:00<00:03, 14.73it/s]"
     ]
    },
    {
     "name": "stdout",
     "output_type": "stream",
     "text": [
      "{'ner': 744.568119709212}\n",
      "59\n"
     ]
    },
    {
     "name": "stderr",
     "output_type": "stream",
     "text": [
      "100%|██████████| 59/59 [00:04<00:00, 14.62it/s]\n",
      "  3%|▎         | 2/59 [00:00<00:04, 12.63it/s]"
     ]
    },
    {
     "name": "stdout",
     "output_type": "stream",
     "text": [
      "{'ner': 696.5099145214568}\n",
      "59\n"
     ]
    },
    {
     "name": "stderr",
     "output_type": "stream",
     "text": [
      "100%|██████████| 59/59 [00:03<00:00, 15.16it/s]\n",
      "  3%|▎         | 2/59 [00:00<00:04, 12.04it/s]"
     ]
    },
    {
     "name": "stdout",
     "output_type": "stream",
     "text": [
      "{'ner': 742.1375671242946}\n",
      "59\n"
     ]
    },
    {
     "name": "stderr",
     "output_type": "stream",
     "text": [
      "100%|██████████| 59/59 [00:03<00:00, 15.21it/s]\n",
      "  3%|▎         | 2/59 [00:00<00:03, 16.02it/s]"
     ]
    },
    {
     "name": "stdout",
     "output_type": "stream",
     "text": [
      "{'ner': 693.0735398895623}\n",
      "59\n"
     ]
    },
    {
     "name": "stderr",
     "output_type": "stream",
     "text": [
      "100%|██████████| 59/59 [00:03<00:00, 15.34it/s]\n",
      "  3%|▎         | 2/59 [00:00<00:03, 15.34it/s]"
     ]
    },
    {
     "name": "stdout",
     "output_type": "stream",
     "text": [
      "{'ner': 709.8116368607712}\n",
      "59\n"
     ]
    },
    {
     "name": "stderr",
     "output_type": "stream",
     "text": [
      "100%|██████████| 59/59 [00:04<00:00, 14.56it/s]\n",
      "  3%|▎         | 2/59 [00:00<00:04, 13.44it/s]"
     ]
    },
    {
     "name": "stdout",
     "output_type": "stream",
     "text": [
      "{'ner': 711.5229712029349}\n",
      "59\n"
     ]
    },
    {
     "name": "stderr",
     "output_type": "stream",
     "text": [
      "100%|██████████| 59/59 [00:03<00:00, 14.79it/s]\n",
      "  3%|▎         | 2/59 [00:00<00:04, 12.87it/s]"
     ]
    },
    {
     "name": "stdout",
     "output_type": "stream",
     "text": [
      "{'ner': 687.2389620026373}\n",
      "59\n"
     ]
    },
    {
     "name": "stderr",
     "output_type": "stream",
     "text": [
      "100%|██████████| 59/59 [00:03<00:00, 14.76it/s]\n",
      "  3%|▎         | 2/59 [00:00<00:03, 18.83it/s]"
     ]
    },
    {
     "name": "stdout",
     "output_type": "stream",
     "text": [
      "{'ner': 682.7605319292635}\n",
      "59\n"
     ]
    },
    {
     "name": "stderr",
     "output_type": "stream",
     "text": [
      "100%|██████████| 59/59 [00:04<00:00, 14.57it/s]\n",
      "  0%|          | 0/59 [00:00<?, ?it/s]"
     ]
    },
    {
     "name": "stdout",
     "output_type": "stream",
     "text": [
      "{'ner': 661.7657514411898}\n",
      "59\n"
     ]
    },
    {
     "name": "stderr",
     "output_type": "stream",
     "text": [
      "100%|██████████| 59/59 [00:03<00:00, 15.07it/s]\n",
      "  3%|▎         | 2/59 [00:00<00:05, 10.59it/s]"
     ]
    },
    {
     "name": "stdout",
     "output_type": "stream",
     "text": [
      "{'ner': 651.0159149285884}\n",
      "59\n"
     ]
    },
    {
     "name": "stderr",
     "output_type": "stream",
     "text": [
      "100%|██████████| 59/59 [00:04<00:00, 14.69it/s]\n",
      "  3%|▎         | 2/59 [00:00<00:04, 12.03it/s]"
     ]
    },
    {
     "name": "stdout",
     "output_type": "stream",
     "text": [
      "{'ner': 667.5323763238904}\n",
      "59\n"
     ]
    },
    {
     "name": "stderr",
     "output_type": "stream",
     "text": [
      "100%|██████████| 59/59 [00:04<00:00, 14.46it/s]\n",
      "  3%|▎         | 2/59 [00:00<00:05, 10.78it/s]"
     ]
    },
    {
     "name": "stdout",
     "output_type": "stream",
     "text": [
      "{'ner': 682.4633651936122}\n",
      "59\n"
     ]
    },
    {
     "name": "stderr",
     "output_type": "stream",
     "text": [
      "100%|██████████| 59/59 [00:04<00:00, 14.74it/s]\n",
      "  2%|▏         | 1/59 [00:00<00:08,  7.15it/s]"
     ]
    },
    {
     "name": "stdout",
     "output_type": "stream",
     "text": [
      "{'ner': 700.671583827128}\n",
      "59\n"
     ]
    },
    {
     "name": "stderr",
     "output_type": "stream",
     "text": [
      "100%|██████████| 59/59 [00:04<00:00, 14.55it/s]\n",
      "  3%|▎         | 2/59 [00:00<00:03, 16.04it/s]"
     ]
    },
    {
     "name": "stdout",
     "output_type": "stream",
     "text": [
      "{'ner': 702.7535152998488}\n",
      "59\n"
     ]
    },
    {
     "name": "stderr",
     "output_type": "stream",
     "text": [
      "100%|██████████| 59/59 [00:04<00:00, 14.36it/s]\n",
      "  7%|▋         | 4/59 [00:00<00:02, 22.97it/s]"
     ]
    },
    {
     "name": "stdout",
     "output_type": "stream",
     "text": [
      "{'ner': 712.1315595485112}\n",
      "59\n"
     ]
    },
    {
     "name": "stderr",
     "output_type": "stream",
     "text": [
      "100%|██████████| 59/59 [00:04<00:00, 14.66it/s]\n",
      "  3%|▎         | 2/59 [00:00<00:03, 15.57it/s]"
     ]
    },
    {
     "name": "stdout",
     "output_type": "stream",
     "text": [
      "{'ner': 700.4506719498014}\n",
      "59\n"
     ]
    },
    {
     "name": "stderr",
     "output_type": "stream",
     "text": [
      "100%|██████████| 59/59 [00:03<00:00, 15.03it/s]\n",
      "  3%|▎         | 2/59 [00:00<00:04, 11.88it/s]"
     ]
    },
    {
     "name": "stdout",
     "output_type": "stream",
     "text": [
      "{'ner': 677.395403459685}\n",
      "59\n"
     ]
    },
    {
     "name": "stderr",
     "output_type": "stream",
     "text": [
      "100%|██████████| 59/59 [00:04<00:00, 14.67it/s]\n",
      "  3%|▎         | 2/59 [00:00<00:04, 14.11it/s]"
     ]
    },
    {
     "name": "stdout",
     "output_type": "stream",
     "text": [
      "{'ner': 671.9028573600737}\n",
      "59\n"
     ]
    },
    {
     "name": "stderr",
     "output_type": "stream",
     "text": [
      "100%|██████████| 59/59 [00:03<00:00, 14.93it/s]\n",
      "  2%|▏         | 1/59 [00:00<00:06,  8.68it/s]"
     ]
    },
    {
     "name": "stdout",
     "output_type": "stream",
     "text": [
      "{'ner': 658.8038324631261}\n",
      "59\n"
     ]
    },
    {
     "name": "stderr",
     "output_type": "stream",
     "text": [
      "100%|██████████| 59/59 [00:03<00:00, 15.02it/s]\n",
      "  3%|▎         | 2/59 [00:00<00:03, 15.69it/s]"
     ]
    },
    {
     "name": "stdout",
     "output_type": "stream",
     "text": [
      "{'ner': 657.9892216045936}\n",
      "59\n"
     ]
    },
    {
     "name": "stderr",
     "output_type": "stream",
     "text": [
      "100%|██████████| 59/59 [00:04<00:00, 14.21it/s]\n",
      "  3%|▎         | 2/59 [00:00<00:04, 12.97it/s]"
     ]
    },
    {
     "name": "stdout",
     "output_type": "stream",
     "text": [
      "{'ner': 717.4996897787678}\n",
      "59\n"
     ]
    },
    {
     "name": "stderr",
     "output_type": "stream",
     "text": [
      "100%|██████████| 59/59 [00:03<00:00, 14.90it/s]\n",
      "  3%|▎         | 2/59 [00:00<00:03, 14.33it/s]"
     ]
    },
    {
     "name": "stdout",
     "output_type": "stream",
     "text": [
      "{'ner': 613.917017111262}\n",
      "59\n"
     ]
    },
    {
     "name": "stderr",
     "output_type": "stream",
     "text": [
      "100%|██████████| 59/59 [00:04<00:00, 14.51it/s]\n",
      "  3%|▎         | 2/59 [00:00<00:02, 19.99it/s]"
     ]
    },
    {
     "name": "stdout",
     "output_type": "stream",
     "text": [
      "{'ner': 630.4996239303568}\n",
      "59\n"
     ]
    },
    {
     "name": "stderr",
     "output_type": "stream",
     "text": [
      "100%|██████████| 59/59 [00:03<00:00, 15.01it/s]\n",
      "  3%|▎         | 2/59 [00:00<00:02, 19.24it/s]"
     ]
    },
    {
     "name": "stdout",
     "output_type": "stream",
     "text": [
      "{'ner': 679.7930022005726}\n",
      "59\n"
     ]
    },
    {
     "name": "stderr",
     "output_type": "stream",
     "text": [
      "100%|██████████| 59/59 [00:04<00:00, 14.47it/s]\n",
      "  3%|▎         | 2/59 [00:00<00:04, 14.00it/s]"
     ]
    },
    {
     "name": "stdout",
     "output_type": "stream",
     "text": [
      "{'ner': 600.4305762508623}\n",
      "59\n"
     ]
    },
    {
     "name": "stderr",
     "output_type": "stream",
     "text": [
      "100%|██████████| 59/59 [00:04<00:00, 14.64it/s]\n",
      "  2%|▏         | 1/59 [00:00<00:06,  9.29it/s]"
     ]
    },
    {
     "name": "stdout",
     "output_type": "stream",
     "text": [
      "{'ner': 639.6874942696336}\n",
      "59\n"
     ]
    },
    {
     "name": "stderr",
     "output_type": "stream",
     "text": [
      "100%|██████████| 59/59 [00:04<00:00, 14.10it/s]\n",
      "  3%|▎         | 2/59 [00:00<00:03, 15.36it/s]"
     ]
    },
    {
     "name": "stdout",
     "output_type": "stream",
     "text": [
      "{'ner': 709.1524392542333}\n",
      "59\n"
     ]
    },
    {
     "name": "stderr",
     "output_type": "stream",
     "text": [
      "100%|██████████| 59/59 [00:04<00:00, 14.67it/s]\n",
      "  3%|▎         | 2/59 [00:00<00:05, 11.29it/s]"
     ]
    },
    {
     "name": "stdout",
     "output_type": "stream",
     "text": [
      "{'ner': 680.149402613605}\n",
      "59\n"
     ]
    },
    {
     "name": "stderr",
     "output_type": "stream",
     "text": [
      "100%|██████████| 59/59 [00:03<00:00, 14.86it/s]\n",
      "  2%|▏         | 1/59 [00:00<00:06,  8.62it/s]"
     ]
    },
    {
     "name": "stdout",
     "output_type": "stream",
     "text": [
      "{'ner': 629.3582083194016}\n",
      "59\n"
     ]
    },
    {
     "name": "stderr",
     "output_type": "stream",
     "text": [
      "100%|██████████| 59/59 [00:03<00:00, 14.79it/s]\n",
      "  3%|▎         | 2/59 [00:00<00:04, 11.43it/s]"
     ]
    },
    {
     "name": "stdout",
     "output_type": "stream",
     "text": [
      "{'ner': 611.2167907307179}\n",
      "59\n"
     ]
    },
    {
     "name": "stderr",
     "output_type": "stream",
     "text": [
      "100%|██████████| 59/59 [00:04<00:00, 14.49it/s]\n",
      "  5%|▌         | 3/59 [00:00<00:03, 15.37it/s]"
     ]
    },
    {
     "name": "stdout",
     "output_type": "stream",
     "text": [
      "{'ner': 640.7841571167626}\n",
      "59\n"
     ]
    },
    {
     "name": "stderr",
     "output_type": "stream",
     "text": [
      "100%|██████████| 59/59 [00:04<00:00, 14.64it/s]\n",
      "  0%|          | 0/59 [00:00<?, ?it/s]"
     ]
    },
    {
     "name": "stdout",
     "output_type": "stream",
     "text": [
      "{'ner': 601.8323756578047}\n",
      "59\n"
     ]
    },
    {
     "name": "stderr",
     "output_type": "stream",
     "text": [
      "100%|██████████| 59/59 [00:04<00:00, 13.63it/s]\n",
      "  3%|▎         | 2/59 [00:00<00:04, 12.32it/s]"
     ]
    },
    {
     "name": "stdout",
     "output_type": "stream",
     "text": [
      "{'ner': 600.62206862383}\n",
      "59\n"
     ]
    },
    {
     "name": "stderr",
     "output_type": "stream",
     "text": [
      "100%|██████████| 59/59 [00:04<00:00, 13.04it/s]\n",
      "  2%|▏         | 1/59 [00:00<00:06,  8.94it/s]"
     ]
    },
    {
     "name": "stdout",
     "output_type": "stream",
     "text": [
      "{'ner': 615.5636110182533}\n",
      "59\n"
     ]
    },
    {
     "name": "stderr",
     "output_type": "stream",
     "text": [
      "100%|██████████| 59/59 [00:04<00:00, 14.26it/s]\n",
      "  3%|▎         | 2/59 [00:00<00:04, 13.63it/s]"
     ]
    },
    {
     "name": "stdout",
     "output_type": "stream",
     "text": [
      "{'ner': 659.8189973655911}\n",
      "59\n"
     ]
    },
    {
     "name": "stderr",
     "output_type": "stream",
     "text": [
      "100%|██████████| 59/59 [00:03<00:00, 14.99it/s]\n",
      "  3%|▎         | 2/59 [00:00<00:03, 18.91it/s]"
     ]
    },
    {
     "name": "stdout",
     "output_type": "stream",
     "text": [
      "{'ner': 588.9043235364721}\n",
      "59\n"
     ]
    },
    {
     "name": "stderr",
     "output_type": "stream",
     "text": [
      "100%|██████████| 59/59 [00:03<00:00, 14.76it/s]\n",
      "  3%|▎         | 2/59 [00:00<00:04, 12.87it/s]"
     ]
    },
    {
     "name": "stdout",
     "output_type": "stream",
     "text": [
      "{'ner': 598.1283608726663}\n",
      "59\n"
     ]
    },
    {
     "name": "stderr",
     "output_type": "stream",
     "text": [
      "100%|██████████| 59/59 [00:03<00:00, 15.08it/s]\n",
      "  3%|▎         | 2/59 [00:00<00:04, 13.97it/s]"
     ]
    },
    {
     "name": "stdout",
     "output_type": "stream",
     "text": [
      "{'ner': 626.9232001638417}\n",
      "59\n"
     ]
    },
    {
     "name": "stderr",
     "output_type": "stream",
     "text": [
      "100%|██████████| 59/59 [00:04<00:00, 14.15it/s]\n",
      "  3%|▎         | 2/59 [00:00<00:03, 14.28it/s]"
     ]
    },
    {
     "name": "stdout",
     "output_type": "stream",
     "text": [
      "{'ner': 602.7724810361076}\n",
      "59\n"
     ]
    },
    {
     "name": "stderr",
     "output_type": "stream",
     "text": [
      "100%|██████████| 59/59 [00:03<00:00, 14.91it/s]\n",
      "  3%|▎         | 2/59 [00:00<00:04, 12.95it/s]"
     ]
    },
    {
     "name": "stdout",
     "output_type": "stream",
     "text": [
      "{'ner': 582.4315654831117}\n",
      "59\n"
     ]
    },
    {
     "name": "stderr",
     "output_type": "stream",
     "text": [
      "100%|██████████| 59/59 [00:03<00:00, 14.78it/s]\n",
      "  0%|          | 0/59 [00:00<?, ?it/s]"
     ]
    },
    {
     "name": "stdout",
     "output_type": "stream",
     "text": [
      "{'ner': 598.9296985337221}\n",
      "59\n"
     ]
    },
    {
     "name": "stderr",
     "output_type": "stream",
     "text": [
      "100%|██████████| 59/59 [00:03<00:00, 15.34it/s]\n",
      "  2%|▏         | 1/59 [00:00<00:06,  9.59it/s]"
     ]
    },
    {
     "name": "stdout",
     "output_type": "stream",
     "text": [
      "{'ner': 618.1169897818573}\n",
      "59\n"
     ]
    },
    {
     "name": "stderr",
     "output_type": "stream",
     "text": [
      "100%|██████████| 59/59 [00:04<00:00, 14.65it/s]\n",
      "  3%|▎         | 2/59 [00:00<00:03, 17.49it/s]"
     ]
    },
    {
     "name": "stdout",
     "output_type": "stream",
     "text": [
      "{'ner': 598.65611011635}\n",
      "59\n"
     ]
    },
    {
     "name": "stderr",
     "output_type": "stream",
     "text": [
      "100%|██████████| 59/59 [00:03<00:00, 15.04it/s]\n",
      "  2%|▏         | 1/59 [00:00<00:06,  9.08it/s]"
     ]
    },
    {
     "name": "stdout",
     "output_type": "stream",
     "text": [
      "{'ner': 579.7794760937836}\n",
      "59\n"
     ]
    },
    {
     "name": "stderr",
     "output_type": "stream",
     "text": [
      "100%|██████████| 59/59 [00:04<00:00, 14.29it/s]\n",
      "  3%|▎         | 2/59 [00:00<00:04, 13.82it/s]"
     ]
    },
    {
     "name": "stdout",
     "output_type": "stream",
     "text": [
      "{'ner': 594.2481765971778}\n",
      "59\n"
     ]
    },
    {
     "name": "stderr",
     "output_type": "stream",
     "text": [
      "100%|██████████| 59/59 [00:04<00:00, 14.72it/s]\n",
      "  3%|▎         | 2/59 [00:00<00:04, 12.49it/s]"
     ]
    },
    {
     "name": "stdout",
     "output_type": "stream",
     "text": [
      "{'ner': 564.0955198124387}\n",
      "59\n"
     ]
    },
    {
     "name": "stderr",
     "output_type": "stream",
     "text": [
      "100%|██████████| 59/59 [00:03<00:00, 15.11it/s]\n",
      "  5%|▌         | 3/59 [00:00<00:02, 21.40it/s]"
     ]
    },
    {
     "name": "stdout",
     "output_type": "stream",
     "text": [
      "{'ner': 592.4199379418279}\n",
      "59\n"
     ]
    },
    {
     "name": "stderr",
     "output_type": "stream",
     "text": [
      "100%|██████████| 59/59 [00:03<00:00, 14.76it/s]\n",
      "  3%|▎         | 2/59 [00:00<00:03, 17.87it/s]"
     ]
    },
    {
     "name": "stdout",
     "output_type": "stream",
     "text": [
      "{'ner': 563.1748269133901}\n",
      "59\n"
     ]
    },
    {
     "name": "stderr",
     "output_type": "stream",
     "text": [
      "100%|██████████| 59/59 [00:04<00:00, 14.59it/s]\n",
      "  3%|▎         | 2/59 [00:00<00:05, 11.26it/s]"
     ]
    },
    {
     "name": "stdout",
     "output_type": "stream",
     "text": [
      "{'ner': 524.0445540313915}\n",
      "59\n"
     ]
    },
    {
     "name": "stderr",
     "output_type": "stream",
     "text": [
      "100%|██████████| 59/59 [00:03<00:00, 15.07it/s]\n",
      "  2%|▏         | 1/59 [00:00<00:05,  9.68it/s]"
     ]
    },
    {
     "name": "stdout",
     "output_type": "stream",
     "text": [
      "{'ner': 596.9557055082856}\n",
      "59\n"
     ]
    },
    {
     "name": "stderr",
     "output_type": "stream",
     "text": [
      "100%|██████████| 59/59 [00:04<00:00, 14.49it/s]\n",
      "  2%|▏         | 1/59 [00:00<00:06,  9.64it/s]"
     ]
    },
    {
     "name": "stdout",
     "output_type": "stream",
     "text": [
      "{'ner': 660.446503554953}\n",
      "59\n"
     ]
    },
    {
     "name": "stderr",
     "output_type": "stream",
     "text": [
      "100%|██████████| 59/59 [00:03<00:00, 14.85it/s]\n",
      "  2%|▏         | 1/59 [00:00<00:06,  9.66it/s]"
     ]
    },
    {
     "name": "stdout",
     "output_type": "stream",
     "text": [
      "{'ner': 604.9883707137153}\n",
      "59\n"
     ]
    },
    {
     "name": "stderr",
     "output_type": "stream",
     "text": [
      "100%|██████████| 59/59 [00:04<00:00, 14.74it/s]\n",
      "  2%|▏         | 1/59 [00:00<00:06,  9.29it/s]"
     ]
    },
    {
     "name": "stdout",
     "output_type": "stream",
     "text": [
      "{'ner': 573.4760452887773}\n",
      "59\n"
     ]
    },
    {
     "name": "stderr",
     "output_type": "stream",
     "text": [
      "100%|██████████| 59/59 [00:04<00:00, 14.46it/s]\n",
      "  3%|▎         | 2/59 [00:00<00:02, 19.33it/s]"
     ]
    },
    {
     "name": "stdout",
     "output_type": "stream",
     "text": [
      "{'ner': 589.962166846751}\n",
      "59\n"
     ]
    },
    {
     "name": "stderr",
     "output_type": "stream",
     "text": [
      "100%|██████████| 59/59 [00:04<00:00, 14.58it/s]\n",
      "  3%|▎         | 2/59 [00:00<00:03, 18.12it/s]"
     ]
    },
    {
     "name": "stdout",
     "output_type": "stream",
     "text": [
      "{'ner': 526.1401930044399}\n",
      "59\n"
     ]
    },
    {
     "name": "stderr",
     "output_type": "stream",
     "text": [
      "100%|██████████| 59/59 [00:03<00:00, 15.48it/s]\n",
      "  3%|▎         | 2/59 [00:00<00:03, 14.63it/s]"
     ]
    },
    {
     "name": "stdout",
     "output_type": "stream",
     "text": [
      "{'ner': 534.8611293032319}\n",
      "59\n"
     ]
    },
    {
     "name": "stderr",
     "output_type": "stream",
     "text": [
      "100%|██████████| 59/59 [00:04<00:00, 14.36it/s]\n",
      "  3%|▎         | 2/59 [00:00<00:04, 12.12it/s]"
     ]
    },
    {
     "name": "stdout",
     "output_type": "stream",
     "text": [
      "{'ner': 571.5244706651367}\n",
      "59\n"
     ]
    },
    {
     "name": "stderr",
     "output_type": "stream",
     "text": [
      "100%|██████████| 59/59 [00:03<00:00, 15.04it/s]\n",
      "  3%|▎         | 2/59 [00:00<00:04, 11.60it/s]"
     ]
    },
    {
     "name": "stdout",
     "output_type": "stream",
     "text": [
      "{'ner': 608.6921521105744}\n",
      "59\n"
     ]
    },
    {
     "name": "stderr",
     "output_type": "stream",
     "text": [
      "100%|██████████| 59/59 [00:03<00:00, 15.24it/s]\n",
      "  2%|▏         | 1/59 [00:00<00:10,  5.51it/s]"
     ]
    },
    {
     "name": "stdout",
     "output_type": "stream",
     "text": [
      "{'ner': 559.1557111127112}\n",
      "59\n"
     ]
    },
    {
     "name": "stderr",
     "output_type": "stream",
     "text": [
      "100%|██████████| 59/59 [00:04<00:00, 14.36it/s]\n",
      "  3%|▎         | 2/59 [00:00<00:03, 14.75it/s]"
     ]
    },
    {
     "name": "stdout",
     "output_type": "stream",
     "text": [
      "{'ner': 566.3218622327752}\n",
      "59\n"
     ]
    },
    {
     "name": "stderr",
     "output_type": "stream",
     "text": [
      "100%|██████████| 59/59 [00:04<00:00, 13.89it/s]\n",
      "  2%|▏         | 1/59 [00:00<00:06,  8.48it/s]"
     ]
    },
    {
     "name": "stdout",
     "output_type": "stream",
     "text": [
      "{'ner': 540.4591317176526}\n",
      "59\n"
     ]
    },
    {
     "name": "stderr",
     "output_type": "stream",
     "text": [
      "100%|██████████| 59/59 [00:03<00:00, 14.77it/s]\n",
      "  3%|▎         | 2/59 [00:00<00:04, 13.60it/s]"
     ]
    },
    {
     "name": "stdout",
     "output_type": "stream",
     "text": [
      "{'ner': 502.65971868745277}\n",
      "59\n"
     ]
    },
    {
     "name": "stderr",
     "output_type": "stream",
     "text": [
      "100%|██████████| 59/59 [00:03<00:00, 15.03it/s]\n",
      "  3%|▎         | 2/59 [00:00<00:02, 19.30it/s]"
     ]
    },
    {
     "name": "stdout",
     "output_type": "stream",
     "text": [
      "{'ner': 502.27676633717135}\n",
      "59\n"
     ]
    },
    {
     "name": "stderr",
     "output_type": "stream",
     "text": [
      "100%|██████████| 59/59 [00:04<00:00, 14.70it/s]\n",
      "  5%|▌         | 3/59 [00:00<00:03, 18.04it/s]"
     ]
    },
    {
     "name": "stdout",
     "output_type": "stream",
     "text": [
      "{'ner': 536.3174641162425}\n",
      "59\n"
     ]
    },
    {
     "name": "stderr",
     "output_type": "stream",
     "text": [
      "100%|██████████| 59/59 [00:03<00:00, 14.87it/s]\n",
      "  2%|▏         | 1/59 [00:00<00:07,  8.14it/s]"
     ]
    },
    {
     "name": "stdout",
     "output_type": "stream",
     "text": [
      "{'ner': 552.1182950796835}\n",
      "59\n"
     ]
    },
    {
     "name": "stderr",
     "output_type": "stream",
     "text": [
      "100%|██████████| 59/59 [00:04<00:00, 14.59it/s]\n",
      "  2%|▏         | 1/59 [00:00<00:05,  9.89it/s]"
     ]
    },
    {
     "name": "stdout",
     "output_type": "stream",
     "text": [
      "{'ner': 521.1573357062581}\n",
      "59\n"
     ]
    },
    {
     "name": "stderr",
     "output_type": "stream",
     "text": [
      "100%|██████████| 59/59 [00:04<00:00, 13.87it/s]\n",
      "  3%|▎         | 2/59 [00:00<00:03, 14.71it/s]"
     ]
    },
    {
     "name": "stdout",
     "output_type": "stream",
     "text": [
      "{'ner': 520.3817073801647}\n",
      "59\n"
     ]
    },
    {
     "name": "stderr",
     "output_type": "stream",
     "text": [
      "100%|██████████| 59/59 [00:04<00:00, 14.74it/s]\n",
      "  3%|▎         | 2/59 [00:00<00:04, 13.65it/s]"
     ]
    },
    {
     "name": "stdout",
     "output_type": "stream",
     "text": [
      "{'ner': 526.6965893403938}\n",
      "59\n"
     ]
    },
    {
     "name": "stderr",
     "output_type": "stream",
     "text": [
      "100%|██████████| 59/59 [00:03<00:00, 14.92it/s]\n",
      "  3%|▎         | 2/59 [00:00<00:03, 18.81it/s]"
     ]
    },
    {
     "name": "stdout",
     "output_type": "stream",
     "text": [
      "{'ner': 545.8051020533395}\n",
      "59\n"
     ]
    },
    {
     "name": "stderr",
     "output_type": "stream",
     "text": [
      "100%|██████████| 59/59 [00:04<00:00, 14.69it/s]\n",
      "  8%|▊         | 5/59 [00:00<00:01, 28.95it/s]"
     ]
    },
    {
     "name": "stdout",
     "output_type": "stream",
     "text": [
      "{'ner': 529.6561257176756}\n",
      "59\n"
     ]
    },
    {
     "name": "stderr",
     "output_type": "stream",
     "text": [
      "100%|██████████| 59/59 [00:03<00:00, 15.35it/s]\n",
      "  3%|▎         | 2/59 [00:00<00:03, 15.07it/s]"
     ]
    },
    {
     "name": "stdout",
     "output_type": "stream",
     "text": [
      "{'ner': 499.7574761270181}\n",
      "59\n"
     ]
    },
    {
     "name": "stderr",
     "output_type": "stream",
     "text": [
      "100%|██████████| 59/59 [00:04<00:00, 14.47it/s]\n",
      "  3%|▎         | 2/59 [00:00<00:05, 11.40it/s]"
     ]
    },
    {
     "name": "stdout",
     "output_type": "stream",
     "text": [
      "{'ner': 540.4515538620019}\n",
      "59\n"
     ]
    },
    {
     "name": "stderr",
     "output_type": "stream",
     "text": [
      "100%|██████████| 59/59 [00:03<00:00, 15.11it/s]\n",
      "  5%|▌         | 3/59 [00:00<00:01, 29.44it/s]"
     ]
    },
    {
     "name": "stdout",
     "output_type": "stream",
     "text": [
      "{'ner': 504.59745401797596}\n",
      "59\n"
     ]
    },
    {
     "name": "stderr",
     "output_type": "stream",
     "text": [
      "100%|██████████| 59/59 [00:03<00:00, 15.36it/s]\n",
      "  3%|▎         | 2/59 [00:00<00:04, 12.76it/s]"
     ]
    },
    {
     "name": "stdout",
     "output_type": "stream",
     "text": [
      "{'ner': 569.8658751001168}\n",
      "59\n"
     ]
    },
    {
     "name": "stderr",
     "output_type": "stream",
     "text": [
      "100%|██████████| 59/59 [00:04<00:00, 14.72it/s]\n",
      "  0%|          | 0/59 [00:00<?, ?it/s]"
     ]
    },
    {
     "name": "stdout",
     "output_type": "stream",
     "text": [
      "{'ner': 551.2501383172419}\n",
      "59\n"
     ]
    },
    {
     "name": "stderr",
     "output_type": "stream",
     "text": [
      "100%|██████████| 59/59 [00:04<00:00, 14.29it/s]\n",
      "  3%|▎         | 2/59 [00:00<00:03, 16.53it/s]"
     ]
    },
    {
     "name": "stdout",
     "output_type": "stream",
     "text": [
      "{'ner': 487.26565854602813}\n",
      "59\n"
     ]
    },
    {
     "name": "stderr",
     "output_type": "stream",
     "text": [
      "100%|██████████| 59/59 [00:04<00:00, 14.08it/s]\n",
      "  5%|▌         | 3/59 [00:00<00:02, 20.70it/s]"
     ]
    },
    {
     "name": "stdout",
     "output_type": "stream",
     "text": [
      "{'ner': 475.7537531991549}\n",
      "59\n"
     ]
    },
    {
     "name": "stderr",
     "output_type": "stream",
     "text": [
      "100%|██████████| 59/59 [00:03<00:00, 15.10it/s]\n",
      "  3%|▎         | 2/59 [00:00<00:03, 14.57it/s]"
     ]
    },
    {
     "name": "stdout",
     "output_type": "stream",
     "text": [
      "{'ner': 537.6149255566548}\n",
      "59\n"
     ]
    },
    {
     "name": "stderr",
     "output_type": "stream",
     "text": [
      "100%|██████████| 59/59 [00:04<00:00, 14.51it/s]\n",
      "  3%|▎         | 2/59 [00:00<00:05, 10.06it/s]"
     ]
    },
    {
     "name": "stdout",
     "output_type": "stream",
     "text": [
      "{'ner': 541.0288048008991}\n",
      "59\n"
     ]
    },
    {
     "name": "stderr",
     "output_type": "stream",
     "text": [
      "100%|██████████| 59/59 [00:03<00:00, 15.09it/s]\n",
      "  3%|▎         | 2/59 [00:00<00:03, 15.10it/s]"
     ]
    },
    {
     "name": "stdout",
     "output_type": "stream",
     "text": [
      "{'ner': 538.8664283923042}\n",
      "59\n"
     ]
    },
    {
     "name": "stderr",
     "output_type": "stream",
     "text": [
      "100%|██████████| 59/59 [00:03<00:00, 14.86it/s]\n",
      "  3%|▎         | 2/59 [00:00<00:04, 12.88it/s]"
     ]
    },
    {
     "name": "stdout",
     "output_type": "stream",
     "text": [
      "{'ner': 548.7531371166571}\n",
      "59\n"
     ]
    },
    {
     "name": "stderr",
     "output_type": "stream",
     "text": [
      "100%|██████████| 59/59 [00:04<00:00, 14.39it/s]\n",
      "  3%|▎         | 2/59 [00:00<00:04, 12.54it/s]"
     ]
    },
    {
     "name": "stdout",
     "output_type": "stream",
     "text": [
      "{'ner': 548.9792804715267}\n",
      "59\n"
     ]
    },
    {
     "name": "stderr",
     "output_type": "stream",
     "text": [
      "100%|██████████| 59/59 [00:04<00:00, 14.64it/s]\n",
      "  2%|▏         | 1/59 [00:00<00:06,  8.69it/s]"
     ]
    },
    {
     "name": "stdout",
     "output_type": "stream",
     "text": [
      "{'ner': 465.6998766449813}\n",
      "59\n"
     ]
    },
    {
     "name": "stderr",
     "output_type": "stream",
     "text": [
      "100%|██████████| 59/59 [00:04<00:00, 14.28it/s]\n",
      "  3%|▎         | 2/59 [00:00<00:04, 14.11it/s]"
     ]
    },
    {
     "name": "stdout",
     "output_type": "stream",
     "text": [
      "{'ner': 550.2253111494036}\n",
      "59\n"
     ]
    },
    {
     "name": "stderr",
     "output_type": "stream",
     "text": [
      "100%|██████████| 59/59 [00:04<00:00, 14.68it/s]\n",
      "  3%|▎         | 2/59 [00:00<00:03, 16.11it/s]"
     ]
    },
    {
     "name": "stdout",
     "output_type": "stream",
     "text": [
      "{'ner': 495.81701214824716}\n",
      "59\n"
     ]
    },
    {
     "name": "stderr",
     "output_type": "stream",
     "text": [
      "100%|██████████| 59/59 [00:04<00:00, 14.47it/s]\n",
      "  0%|          | 0/59 [00:00<?, ?it/s]"
     ]
    },
    {
     "name": "stdout",
     "output_type": "stream",
     "text": [
      "{'ner': 555.6358195825333}\n",
      "59\n"
     ]
    },
    {
     "name": "stderr",
     "output_type": "stream",
     "text": [
      "100%|██████████| 59/59 [00:03<00:00, 14.80it/s]\n",
      "  3%|▎         | 2/59 [00:00<00:03, 16.73it/s]"
     ]
    },
    {
     "name": "stdout",
     "output_type": "stream",
     "text": [
      "{'ner': 487.0234993311192}\n",
      "59\n"
     ]
    },
    {
     "name": "stderr",
     "output_type": "stream",
     "text": [
      "100%|██████████| 59/59 [00:04<00:00, 14.16it/s]\n",
      "  2%|▏         | 1/59 [00:00<00:07,  7.89it/s]"
     ]
    },
    {
     "name": "stdout",
     "output_type": "stream",
     "text": [
      "{'ner': 573.4704405745234}\n",
      "59\n"
     ]
    },
    {
     "name": "stderr",
     "output_type": "stream",
     "text": [
      "100%|██████████| 59/59 [00:04<00:00, 13.97it/s]\n",
      "  3%|▎         | 2/59 [00:00<00:03, 15.03it/s]"
     ]
    },
    {
     "name": "stdout",
     "output_type": "stream",
     "text": [
      "{'ner': 491.28771385475795}\n",
      "59\n"
     ]
    },
    {
     "name": "stderr",
     "output_type": "stream",
     "text": [
      "100%|██████████| 59/59 [00:03<00:00, 15.36it/s]\n",
      "  5%|▌         | 3/59 [00:00<00:03, 16.83it/s]"
     ]
    },
    {
     "name": "stdout",
     "output_type": "stream",
     "text": [
      "{'ner': 449.17601904278456}\n",
      "59\n"
     ]
    },
    {
     "name": "stderr",
     "output_type": "stream",
     "text": [
      "100%|██████████| 59/59 [00:04<00:00, 14.73it/s]\n",
      "  0%|          | 0/59 [00:00<?, ?it/s]"
     ]
    },
    {
     "name": "stdout",
     "output_type": "stream",
     "text": [
      "{'ner': 466.1376311019731}\n",
      "59\n"
     ]
    },
    {
     "name": "stderr",
     "output_type": "stream",
     "text": [
      "100%|██████████| 59/59 [00:04<00:00, 14.63it/s]\n",
      "  3%|▎         | 2/59 [00:00<00:03, 14.55it/s]"
     ]
    },
    {
     "name": "stdout",
     "output_type": "stream",
     "text": [
      "{'ner': 481.36524209685837}\n",
      "59\n"
     ]
    },
    {
     "name": "stderr",
     "output_type": "stream",
     "text": [
      "100%|██████████| 59/59 [00:04<00:00, 13.84it/s]\n",
      "  5%|▌         | 3/59 [00:00<00:02, 23.06it/s]"
     ]
    },
    {
     "name": "stdout",
     "output_type": "stream",
     "text": [
      "{'ner': 508.5676333819998}\n",
      "59\n"
     ]
    },
    {
     "name": "stderr",
     "output_type": "stream",
     "text": [
      "100%|██████████| 59/59 [00:04<00:00, 14.31it/s]\n",
      "  3%|▎         | 2/59 [00:00<00:04, 13.76it/s]"
     ]
    },
    {
     "name": "stdout",
     "output_type": "stream",
     "text": [
      "{'ner': 458.0433277555036}\n",
      "59\n"
     ]
    },
    {
     "name": "stderr",
     "output_type": "stream",
     "text": [
      "100%|██████████| 59/59 [00:04<00:00, 14.05it/s]\n",
      "  2%|▏         | 1/59 [00:00<00:07,  7.44it/s]"
     ]
    },
    {
     "name": "stdout",
     "output_type": "stream",
     "text": [
      "{'ner': 426.75692650293195}\n",
      "59\n"
     ]
    },
    {
     "name": "stderr",
     "output_type": "stream",
     "text": [
      "100%|██████████| 59/59 [00:04<00:00, 14.06it/s]\n",
      "  3%|▎         | 2/59 [00:00<00:04, 13.56it/s]"
     ]
    },
    {
     "name": "stdout",
     "output_type": "stream",
     "text": [
      "{'ner': 478.3262799042433}\n",
      "59\n"
     ]
    },
    {
     "name": "stderr",
     "output_type": "stream",
     "text": [
      "100%|██████████| 59/59 [00:04<00:00, 13.82it/s]\n",
      "  5%|▌         | 3/59 [00:00<00:03, 17.63it/s]"
     ]
    },
    {
     "name": "stdout",
     "output_type": "stream",
     "text": [
      "{'ner': 531.928873875097}\n",
      "59\n"
     ]
    },
    {
     "name": "stderr",
     "output_type": "stream",
     "text": [
      "100%|██████████| 59/59 [00:04<00:00, 14.00it/s]\n",
      "  3%|▎         | 2/59 [00:00<00:04, 13.56it/s]"
     ]
    },
    {
     "name": "stdout",
     "output_type": "stream",
     "text": [
      "{'ner': 513.3213657125966}\n",
      "59\n"
     ]
    },
    {
     "name": "stderr",
     "output_type": "stream",
     "text": [
      "100%|██████████| 59/59 [00:03<00:00, 14.80it/s]\n",
      "  2%|▏         | 1/59 [00:00<00:06,  9.51it/s]"
     ]
    },
    {
     "name": "stdout",
     "output_type": "stream",
     "text": [
      "{'ner': 435.7319931199517}\n",
      "59\n"
     ]
    },
    {
     "name": "stderr",
     "output_type": "stream",
     "text": [
      "100%|██████████| 59/59 [00:03<00:00, 15.41it/s]\n",
      "  3%|▎         | 2/59 [00:00<00:03, 15.88it/s]"
     ]
    },
    {
     "name": "stdout",
     "output_type": "stream",
     "text": [
      "{'ner': 446.2975831559423}\n",
      "59\n"
     ]
    },
    {
     "name": "stderr",
     "output_type": "stream",
     "text": [
      "100%|██████████| 59/59 [00:03<00:00, 15.85it/s]\n",
      "  0%|          | 0/59 [00:00<?, ?it/s]"
     ]
    },
    {
     "name": "stdout",
     "output_type": "stream",
     "text": [
      "{'ner': 432.9101317087445}\n",
      "59\n"
     ]
    },
    {
     "name": "stderr",
     "output_type": "stream",
     "text": [
      "100%|██████████| 59/59 [00:03<00:00, 15.32it/s]\n",
      "  3%|▎         | 2/59 [00:00<00:03, 18.36it/s]"
     ]
    },
    {
     "name": "stdout",
     "output_type": "stream",
     "text": [
      "{'ner': 425.902872510438}\n",
      "59\n"
     ]
    },
    {
     "name": "stderr",
     "output_type": "stream",
     "text": [
      "100%|██████████| 59/59 [00:03<00:00, 16.16it/s]\n",
      "  3%|▎         | 2/59 [00:00<00:05, 11.03it/s]"
     ]
    },
    {
     "name": "stdout",
     "output_type": "stream",
     "text": [
      "{'ner': 475.1038801583229}\n",
      "59\n"
     ]
    },
    {
     "name": "stderr",
     "output_type": "stream",
     "text": [
      "100%|██████████| 59/59 [00:03<00:00, 15.23it/s]\n",
      "  5%|▌         | 3/59 [00:00<00:02, 18.82it/s]"
     ]
    },
    {
     "name": "stdout",
     "output_type": "stream",
     "text": [
      "{'ner': 491.674412743285}\n",
      "59\n"
     ]
    },
    {
     "name": "stderr",
     "output_type": "stream",
     "text": [
      "100%|██████████| 59/59 [00:03<00:00, 15.26it/s]\n",
      "  3%|▎         | 2/59 [00:00<00:03, 16.52it/s]"
     ]
    },
    {
     "name": "stdout",
     "output_type": "stream",
     "text": [
      "{'ner': 482.4183100750479}\n",
      "59\n"
     ]
    },
    {
     "name": "stderr",
     "output_type": "stream",
     "text": [
      "100%|██████████| 59/59 [00:03<00:00, 15.17it/s]\n",
      "  3%|▎         | 2/59 [00:00<00:04, 11.78it/s]"
     ]
    },
    {
     "name": "stdout",
     "output_type": "stream",
     "text": [
      "{'ner': 463.27072334190035}\n",
      "59\n"
     ]
    },
    {
     "name": "stderr",
     "output_type": "stream",
     "text": [
      "100%|██████████| 59/59 [00:04<00:00, 14.55it/s]\n",
      "  2%|▏         | 1/59 [00:00<00:05,  9.92it/s]"
     ]
    },
    {
     "name": "stdout",
     "output_type": "stream",
     "text": [
      "{'ner': 508.31978375474256}\n",
      "59\n"
     ]
    },
    {
     "name": "stderr",
     "output_type": "stream",
     "text": [
      "100%|██████████| 59/59 [00:04<00:00, 12.47it/s]\n",
      "  5%|▌         | 3/59 [00:00<00:03, 16.77it/s]"
     ]
    },
    {
     "name": "stdout",
     "output_type": "stream",
     "text": [
      "{'ner': 465.17941587042515}\n",
      "59\n"
     ]
    },
    {
     "name": "stderr",
     "output_type": "stream",
     "text": [
      "100%|██████████| 59/59 [00:04<00:00, 14.06it/s]\n",
      "  3%|▎         | 2/59 [00:00<00:04, 13.10it/s]"
     ]
    },
    {
     "name": "stdout",
     "output_type": "stream",
     "text": [
      "{'ner': 432.1367187529132}\n",
      "59\n"
     ]
    },
    {
     "name": "stderr",
     "output_type": "stream",
     "text": [
      "100%|██████████| 59/59 [00:04<00:00, 14.27it/s]\n",
      "  3%|▎         | 2/59 [00:00<00:04, 13.11it/s]"
     ]
    },
    {
     "name": "stdout",
     "output_type": "stream",
     "text": [
      "{'ner': 443.61361422234364}\n",
      "59\n"
     ]
    },
    {
     "name": "stderr",
     "output_type": "stream",
     "text": [
      "100%|██████████| 59/59 [00:04<00:00, 14.64it/s]\n",
      "  0%|          | 0/59 [00:00<?, ?it/s]"
     ]
    },
    {
     "name": "stdout",
     "output_type": "stream",
     "text": [
      "{'ner': 519.1937285445414}\n",
      "59\n"
     ]
    },
    {
     "name": "stderr",
     "output_type": "stream",
     "text": [
      "100%|██████████| 59/59 [00:03<00:00, 15.57it/s]\n",
      "  3%|▎         | 2/59 [00:00<00:04, 13.83it/s]"
     ]
    },
    {
     "name": "stdout",
     "output_type": "stream",
     "text": [
      "{'ner': 436.6497414469547}\n",
      "59\n"
     ]
    },
    {
     "name": "stderr",
     "output_type": "stream",
     "text": [
      "100%|██████████| 59/59 [00:03<00:00, 15.36it/s]\n",
      "  5%|▌         | 3/59 [00:00<00:02, 18.81it/s]"
     ]
    },
    {
     "name": "stdout",
     "output_type": "stream",
     "text": [
      "{'ner': 407.9827988495213}\n",
      "59\n"
     ]
    },
    {
     "name": "stderr",
     "output_type": "stream",
     "text": [
      "100%|██████████| 59/59 [00:04<00:00, 13.25it/s]\n",
      "  0%|          | 0/59 [00:00<?, ?it/s]"
     ]
    },
    {
     "name": "stdout",
     "output_type": "stream",
     "text": [
      "{'ner': 438.6794204552483}\n",
      "59\n"
     ]
    },
    {
     "name": "stderr",
     "output_type": "stream",
     "text": [
      "100%|██████████| 59/59 [00:04<00:00, 13.11it/s]\n",
      "  7%|▋         | 4/59 [00:00<00:01, 33.90it/s]"
     ]
    },
    {
     "name": "stdout",
     "output_type": "stream",
     "text": [
      "{'ner': 458.98743511840513}\n",
      "59\n"
     ]
    },
    {
     "name": "stderr",
     "output_type": "stream",
     "text": [
      "100%|██████████| 59/59 [00:04<00:00, 13.57it/s]\n",
      "  3%|▎         | 2/59 [00:00<00:03, 18.09it/s]"
     ]
    },
    {
     "name": "stdout",
     "output_type": "stream",
     "text": [
      "{'ner': 457.98030051528605}\n",
      "59\n"
     ]
    },
    {
     "name": "stderr",
     "output_type": "stream",
     "text": [
      "100%|██████████| 59/59 [00:04<00:00, 13.59it/s]\n",
      "  2%|▏         | 1/59 [00:00<00:08,  6.56it/s]"
     ]
    },
    {
     "name": "stdout",
     "output_type": "stream",
     "text": [
      "{'ner': 483.09341808979417}\n",
      "59\n"
     ]
    },
    {
     "name": "stderr",
     "output_type": "stream",
     "text": [
      "100%|██████████| 59/59 [00:04<00:00, 13.57it/s]\n",
      "  3%|▎         | 2/59 [00:00<00:04, 13.31it/s]"
     ]
    },
    {
     "name": "stdout",
     "output_type": "stream",
     "text": [
      "{'ner': 419.49186913543934}\n",
      "59\n"
     ]
    },
    {
     "name": "stderr",
     "output_type": "stream",
     "text": [
      "100%|██████████| 59/59 [00:03<00:00, 15.19it/s]\n",
      "  3%|▎         | 2/59 [00:00<00:03, 17.15it/s]"
     ]
    },
    {
     "name": "stdout",
     "output_type": "stream",
     "text": [
      "{'ner': 437.263953844014}\n",
      "59\n"
     ]
    },
    {
     "name": "stderr",
     "output_type": "stream",
     "text": [
      "100%|██████████| 59/59 [00:03<00:00, 15.34it/s]\n",
      "  5%|▌         | 3/59 [00:00<00:02, 22.40it/s]"
     ]
    },
    {
     "name": "stdout",
     "output_type": "stream",
     "text": [
      "{'ner': 429.9552406986543}\n",
      "59\n"
     ]
    },
    {
     "name": "stderr",
     "output_type": "stream",
     "text": [
      "100%|██████████| 59/59 [00:03<00:00, 15.22it/s]\n",
      "  5%|▌         | 3/59 [00:00<00:02, 23.86it/s]"
     ]
    },
    {
     "name": "stdout",
     "output_type": "stream",
     "text": [
      "{'ner': 434.7298075526522}\n",
      "59\n"
     ]
    },
    {
     "name": "stderr",
     "output_type": "stream",
     "text": [
      "100%|██████████| 59/59 [00:03<00:00, 15.57it/s]\n",
      "  3%|▎         | 2/59 [00:00<00:05, 10.94it/s]"
     ]
    },
    {
     "name": "stdout",
     "output_type": "stream",
     "text": [
      "{'ner': 416.47317337357606}\n",
      "59\n"
     ]
    },
    {
     "name": "stderr",
     "output_type": "stream",
     "text": [
      "100%|██████████| 59/59 [00:03<00:00, 15.64it/s]\n",
      "  3%|▎         | 2/59 [00:00<00:04, 13.48it/s]"
     ]
    },
    {
     "name": "stdout",
     "output_type": "stream",
     "text": [
      "{'ner': 445.9116006217959}\n",
      "59\n"
     ]
    },
    {
     "name": "stderr",
     "output_type": "stream",
     "text": [
      "100%|██████████| 59/59 [00:03<00:00, 15.04it/s]\n",
      "  5%|▌         | 3/59 [00:00<00:02, 22.17it/s]"
     ]
    },
    {
     "name": "stdout",
     "output_type": "stream",
     "text": [
      "{'ner': 436.64752459218244}\n",
      "59\n"
     ]
    },
    {
     "name": "stderr",
     "output_type": "stream",
     "text": [
      "100%|██████████| 59/59 [00:04<00:00, 14.71it/s]\n",
      "  2%|▏         | 1/59 [00:00<00:07,  8.10it/s]"
     ]
    },
    {
     "name": "stdout",
     "output_type": "stream",
     "text": [
      "{'ner': 400.53064853473666}\n",
      "59\n"
     ]
    },
    {
     "name": "stderr",
     "output_type": "stream",
     "text": [
      "100%|██████████| 59/59 [00:03<00:00, 14.88it/s]\n",
      "  2%|▏         | 1/59 [00:00<00:05,  9.73it/s]"
     ]
    },
    {
     "name": "stdout",
     "output_type": "stream",
     "text": [
      "{'ner': 437.59095581724335}\n",
      "59\n"
     ]
    },
    {
     "name": "stderr",
     "output_type": "stream",
     "text": [
      "100%|██████████| 59/59 [00:04<00:00, 14.29it/s]\n",
      "  7%|▋         | 4/59 [00:00<00:02, 24.05it/s]"
     ]
    },
    {
     "name": "stdout",
     "output_type": "stream",
     "text": [
      "{'ner': 503.7736307982771}\n",
      "59\n"
     ]
    },
    {
     "name": "stderr",
     "output_type": "stream",
     "text": [
      "100%|██████████| 59/59 [00:04<00:00, 12.65it/s]\n",
      "  2%|▏         | 1/59 [00:00<00:07,  7.69it/s]"
     ]
    },
    {
     "name": "stdout",
     "output_type": "stream",
     "text": [
      "{'ner': 442.76523022146193}\n",
      "59\n"
     ]
    },
    {
     "name": "stderr",
     "output_type": "stream",
     "text": [
      "100%|██████████| 59/59 [00:04<00:00, 13.44it/s]\n",
      "  2%|▏         | 1/59 [00:00<00:06,  8.70it/s]"
     ]
    },
    {
     "name": "stdout",
     "output_type": "stream",
     "text": [
      "{'ner': 431.12730060342574}\n",
      "59\n"
     ]
    },
    {
     "name": "stderr",
     "output_type": "stream",
     "text": [
      "100%|██████████| 59/59 [00:05<00:00, 11.70it/s]\n",
      "  3%|▎         | 2/59 [00:00<00:04, 12.68it/s]"
     ]
    },
    {
     "name": "stdout",
     "output_type": "stream",
     "text": [
      "{'ner': 455.02562087212755}\n",
      "59\n"
     ]
    },
    {
     "name": "stderr",
     "output_type": "stream",
     "text": [
      "100%|██████████| 59/59 [00:04<00:00, 13.91it/s]\n",
      "  3%|▎         | 2/59 [00:00<00:03, 14.95it/s]"
     ]
    },
    {
     "name": "stdout",
     "output_type": "stream",
     "text": [
      "{'ner': 449.3400236001996}\n",
      "59\n"
     ]
    },
    {
     "name": "stderr",
     "output_type": "stream",
     "text": [
      "100%|██████████| 59/59 [00:03<00:00, 15.21it/s]\n",
      "  3%|▎         | 2/59 [00:00<00:04, 11.71it/s]"
     ]
    },
    {
     "name": "stdout",
     "output_type": "stream",
     "text": [
      "{'ner': 393.87404286427886}\n",
      "59\n"
     ]
    },
    {
     "name": "stderr",
     "output_type": "stream",
     "text": [
      "100%|██████████| 59/59 [00:04<00:00, 12.78it/s]\n",
      "  5%|▌         | 3/59 [00:00<00:03, 16.36it/s]"
     ]
    },
    {
     "name": "stdout",
     "output_type": "stream",
     "text": [
      "{'ner': 429.2119997053822}\n",
      "59\n"
     ]
    },
    {
     "name": "stderr",
     "output_type": "stream",
     "text": [
      "100%|██████████| 59/59 [00:05<00:00, 11.22it/s]\n",
      "  3%|▎         | 2/59 [00:00<00:03, 15.53it/s]"
     ]
    },
    {
     "name": "stdout",
     "output_type": "stream",
     "text": [
      "{'ner': 411.8076873408697}\n",
      "59\n"
     ]
    },
    {
     "name": "stderr",
     "output_type": "stream",
     "text": [
      "100%|██████████| 59/59 [00:04<00:00, 12.47it/s]\n",
      "  2%|▏         | 1/59 [00:00<00:08,  6.90it/s]"
     ]
    },
    {
     "name": "stdout",
     "output_type": "stream",
     "text": [
      "{'ner': 387.4847058993759}\n",
      "59\n"
     ]
    },
    {
     "name": "stderr",
     "output_type": "stream",
     "text": [
      "100%|██████████| 59/59 [00:04<00:00, 13.65it/s]\n",
      "  3%|▎         | 2/59 [00:00<00:04, 14.15it/s]"
     ]
    },
    {
     "name": "stdout",
     "output_type": "stream",
     "text": [
      "{'ner': 402.0924145795071}\n",
      "59\n"
     ]
    },
    {
     "name": "stderr",
     "output_type": "stream",
     "text": [
      "100%|██████████| 59/59 [00:04<00:00, 14.14it/s]\n",
      "  2%|▏         | 1/59 [00:00<00:05,  9.92it/s]"
     ]
    },
    {
     "name": "stdout",
     "output_type": "stream",
     "text": [
      "{'ner': 374.82641085421574}\n",
      "59\n"
     ]
    },
    {
     "name": "stderr",
     "output_type": "stream",
     "text": [
      "100%|██████████| 59/59 [00:04<00:00, 14.00it/s]\n",
      "  5%|▌         | 3/59 [00:00<00:03, 18.47it/s]"
     ]
    },
    {
     "name": "stdout",
     "output_type": "stream",
     "text": [
      "{'ner': 381.00787177900173}\n",
      "59\n"
     ]
    },
    {
     "name": "stderr",
     "output_type": "stream",
     "text": [
      "100%|██████████| 59/59 [00:04<00:00, 14.03it/s]\n",
      "  3%|▎         | 2/59 [00:00<00:02, 19.72it/s]"
     ]
    },
    {
     "name": "stdout",
     "output_type": "stream",
     "text": [
      "{'ner': 381.9549369469288}\n",
      "59\n"
     ]
    },
    {
     "name": "stderr",
     "output_type": "stream",
     "text": [
      "100%|██████████| 59/59 [00:03<00:00, 15.67it/s]\n",
      "  3%|▎         | 2/59 [00:00<00:04, 12.40it/s]"
     ]
    },
    {
     "name": "stdout",
     "output_type": "stream",
     "text": [
      "{'ner': 369.4583002784346}\n",
      "59\n"
     ]
    },
    {
     "name": "stderr",
     "output_type": "stream",
     "text": [
      "100%|██████████| 59/59 [00:03<00:00, 14.83it/s]\n",
      "  2%|▏         | 1/59 [00:00<00:07,  8.05it/s]"
     ]
    },
    {
     "name": "stdout",
     "output_type": "stream",
     "text": [
      "{'ner': 407.72396126485745}\n",
      "59\n"
     ]
    },
    {
     "name": "stderr",
     "output_type": "stream",
     "text": [
      "100%|██████████| 59/59 [00:04<00:00, 14.08it/s]\n",
      "  5%|▌         | 3/59 [00:00<00:02, 24.95it/s]"
     ]
    },
    {
     "name": "stdout",
     "output_type": "stream",
     "text": [
      "{'ner': 391.92626583779594}\n",
      "59\n"
     ]
    },
    {
     "name": "stderr",
     "output_type": "stream",
     "text": [
      "100%|██████████| 59/59 [00:04<00:00, 13.98it/s]\n",
      "  2%|▏         | 1/59 [00:00<00:07,  7.98it/s]"
     ]
    },
    {
     "name": "stdout",
     "output_type": "stream",
     "text": [
      "{'ner': 432.2997999802899}\n",
      "59\n"
     ]
    },
    {
     "name": "stderr",
     "output_type": "stream",
     "text": [
      "100%|██████████| 59/59 [00:04<00:00, 14.01it/s]\n",
      "  3%|▎         | 2/59 [00:00<00:04, 11.94it/s]"
     ]
    },
    {
     "name": "stdout",
     "output_type": "stream",
     "text": [
      "{'ner': 398.24301054455276}\n",
      "59\n"
     ]
    },
    {
     "name": "stderr",
     "output_type": "stream",
     "text": [
      "100%|██████████| 59/59 [00:04<00:00, 14.60it/s]\n",
      "  2%|▏         | 1/59 [00:00<00:07,  8.24it/s]"
     ]
    },
    {
     "name": "stdout",
     "output_type": "stream",
     "text": [
      "{'ner': 407.1815050774602}\n",
      "59\n"
     ]
    },
    {
     "name": "stderr",
     "output_type": "stream",
     "text": [
      "100%|██████████| 59/59 [00:04<00:00, 13.14it/s]\n",
      "  5%|▌         | 3/59 [00:00<00:02, 25.97it/s]"
     ]
    },
    {
     "name": "stdout",
     "output_type": "stream",
     "text": [
      "{'ner': 406.7602553810339}\n",
      "59\n"
     ]
    },
    {
     "name": "stderr",
     "output_type": "stream",
     "text": [
      "100%|██████████| 59/59 [00:04<00:00, 14.67it/s]\n",
      "  3%|▎         | 2/59 [00:00<00:03, 15.28it/s]"
     ]
    },
    {
     "name": "stdout",
     "output_type": "stream",
     "text": [
      "{'ner': 359.74041372555143}\n",
      "59\n"
     ]
    },
    {
     "name": "stderr",
     "output_type": "stream",
     "text": [
      "100%|██████████| 59/59 [00:03<00:00, 14.96it/s]\n",
      "  5%|▌         | 3/59 [00:00<00:01, 28.81it/s]"
     ]
    },
    {
     "name": "stdout",
     "output_type": "stream",
     "text": [
      "{'ner': 404.08742518173335}\n",
      "59\n"
     ]
    },
    {
     "name": "stderr",
     "output_type": "stream",
     "text": [
      "100%|██████████| 59/59 [00:03<00:00, 14.94it/s]\n",
      "  2%|▏         | 1/59 [00:00<00:06,  8.61it/s]"
     ]
    },
    {
     "name": "stdout",
     "output_type": "stream",
     "text": [
      "{'ner': 422.60888112176065}\n",
      "59\n"
     ]
    },
    {
     "name": "stderr",
     "output_type": "stream",
     "text": [
      "100%|██████████| 59/59 [00:03<00:00, 15.30it/s]\n",
      "  5%|▌         | 3/59 [00:00<00:03, 16.49it/s]"
     ]
    },
    {
     "name": "stdout",
     "output_type": "stream",
     "text": [
      "{'ner': 403.1197317166666}\n",
      "59\n"
     ]
    },
    {
     "name": "stderr",
     "output_type": "stream",
     "text": [
      "100%|██████████| 59/59 [00:03<00:00, 15.05it/s]\n",
      "  5%|▌         | 3/59 [00:00<00:03, 17.68it/s]"
     ]
    },
    {
     "name": "stdout",
     "output_type": "stream",
     "text": [
      "{'ner': 407.8849201553284}\n",
      "59\n"
     ]
    },
    {
     "name": "stderr",
     "output_type": "stream",
     "text": [
      "100%|██████████| 59/59 [00:03<00:00, 15.54it/s]\n",
      "  3%|▎         | 2/59 [00:00<00:04, 13.76it/s]"
     ]
    },
    {
     "name": "stdout",
     "output_type": "stream",
     "text": [
      "{'ner': 412.01841207578417}\n",
      "59\n"
     ]
    },
    {
     "name": "stderr",
     "output_type": "stream",
     "text": [
      "100%|██████████| 59/59 [00:04<00:00, 13.98it/s]\n",
      "  5%|▌         | 3/59 [00:00<00:02, 20.75it/s]"
     ]
    },
    {
     "name": "stdout",
     "output_type": "stream",
     "text": [
      "{'ner': 396.1021385715552}\n",
      "59\n"
     ]
    },
    {
     "name": "stderr",
     "output_type": "stream",
     "text": [
      "100%|██████████| 59/59 [00:03<00:00, 14.80it/s]\n",
      "  3%|▎         | 2/59 [00:00<00:03, 18.56it/s]"
     ]
    },
    {
     "name": "stdout",
     "output_type": "stream",
     "text": [
      "{'ner': 433.23108199670014}\n",
      "59\n"
     ]
    },
    {
     "name": "stderr",
     "output_type": "stream",
     "text": [
      "100%|██████████| 59/59 [00:03<00:00, 15.23it/s]\n",
      "  3%|▎         | 2/59 [00:00<00:03, 17.17it/s]"
     ]
    },
    {
     "name": "stdout",
     "output_type": "stream",
     "text": [
      "{'ner': 417.3089732021244}\n",
      "59\n"
     ]
    },
    {
     "name": "stderr",
     "output_type": "stream",
     "text": [
      "100%|██████████| 59/59 [00:03<00:00, 15.11it/s]\n",
      "  5%|▌         | 3/59 [00:00<00:02, 21.12it/s]"
     ]
    },
    {
     "name": "stdout",
     "output_type": "stream",
     "text": [
      "{'ner': 412.1216212511142}\n",
      "59\n"
     ]
    },
    {
     "name": "stderr",
     "output_type": "stream",
     "text": [
      "100%|██████████| 59/59 [00:04<00:00, 14.24it/s]\n",
      "  5%|▌         | 3/59 [00:00<00:03, 17.63it/s]"
     ]
    },
    {
     "name": "stdout",
     "output_type": "stream",
     "text": [
      "{'ner': 383.4638938056693}\n",
      "59\n"
     ]
    },
    {
     "name": "stderr",
     "output_type": "stream",
     "text": [
      "100%|██████████| 59/59 [00:03<00:00, 15.29it/s]\n",
      "  0%|          | 0/59 [00:00<?, ?it/s]"
     ]
    },
    {
     "name": "stdout",
     "output_type": "stream",
     "text": [
      "{'ner': 390.97054569034594}\n",
      "59\n"
     ]
    },
    {
     "name": "stderr",
     "output_type": "stream",
     "text": [
      "100%|██████████| 59/59 [00:03<00:00, 15.71it/s]\n",
      "  3%|▎         | 2/59 [00:00<00:03, 17.49it/s]"
     ]
    },
    {
     "name": "stdout",
     "output_type": "stream",
     "text": [
      "{'ner': 390.4045317390822}\n",
      "59\n"
     ]
    },
    {
     "name": "stderr",
     "output_type": "stream",
     "text": [
      "100%|██████████| 59/59 [00:03<00:00, 15.55it/s]\n",
      "  3%|▎         | 2/59 [00:00<00:02, 19.24it/s]"
     ]
    },
    {
     "name": "stdout",
     "output_type": "stream",
     "text": [
      "{'ner': 401.3098130938513}\n",
      "59\n"
     ]
    },
    {
     "name": "stderr",
     "output_type": "stream",
     "text": [
      "100%|██████████| 59/59 [00:03<00:00, 15.66it/s]\n",
      "  3%|▎         | 2/59 [00:00<00:03, 14.30it/s]"
     ]
    },
    {
     "name": "stdout",
     "output_type": "stream",
     "text": [
      "{'ner': 438.013714909039}\n",
      "59\n"
     ]
    },
    {
     "name": "stderr",
     "output_type": "stream",
     "text": [
      "100%|██████████| 59/59 [00:03<00:00, 16.34it/s]\n",
      "  3%|▎         | 2/59 [00:00<00:04, 11.79it/s]"
     ]
    },
    {
     "name": "stdout",
     "output_type": "stream",
     "text": [
      "{'ner': 380.0199043911964}\n",
      "59\n"
     ]
    },
    {
     "name": "stderr",
     "output_type": "stream",
     "text": [
      "100%|██████████| 59/59 [00:03<00:00, 15.43it/s]\n",
      "  3%|▎         | 2/59 [00:00<00:04, 12.27it/s]"
     ]
    },
    {
     "name": "stdout",
     "output_type": "stream",
     "text": [
      "{'ner': 372.9994676264925}\n",
      "59\n"
     ]
    },
    {
     "name": "stderr",
     "output_type": "stream",
     "text": [
      "100%|██████████| 59/59 [00:03<00:00, 15.11it/s]\n",
      "  3%|▎         | 2/59 [00:00<00:04, 12.32it/s]"
     ]
    },
    {
     "name": "stdout",
     "output_type": "stream",
     "text": [
      "{'ner': 428.2018605518441}\n",
      "59\n"
     ]
    },
    {
     "name": "stderr",
     "output_type": "stream",
     "text": [
      "100%|██████████| 59/59 [00:03<00:00, 15.10it/s]\n",
      "  3%|▎         | 2/59 [00:00<00:04, 12.66it/s]"
     ]
    },
    {
     "name": "stdout",
     "output_type": "stream",
     "text": [
      "{'ner': 412.7591706434401}\n",
      "59\n"
     ]
    },
    {
     "name": "stderr",
     "output_type": "stream",
     "text": [
      "100%|██████████| 59/59 [00:03<00:00, 15.38it/s]\n",
      "  0%|          | 0/59 [00:00<?, ?it/s]"
     ]
    },
    {
     "name": "stdout",
     "output_type": "stream",
     "text": [
      "{'ner': 437.19187685524065}\n",
      "59\n"
     ]
    },
    {
     "name": "stderr",
     "output_type": "stream",
     "text": [
      "100%|██████████| 59/59 [00:04<00:00, 14.41it/s]\n",
      "  5%|▌         | 3/59 [00:00<00:02, 25.97it/s]"
     ]
    },
    {
     "name": "stdout",
     "output_type": "stream",
     "text": [
      "{'ner': 421.1038442499736}\n",
      "59\n"
     ]
    },
    {
     "name": "stderr",
     "output_type": "stream",
     "text": [
      "100%|██████████| 59/59 [00:04<00:00, 14.43it/s]\n",
      "  3%|▎         | 2/59 [00:00<00:04, 13.59it/s]"
     ]
    },
    {
     "name": "stdout",
     "output_type": "stream",
     "text": [
      "{'ner': 408.3285402030687}\n",
      "59\n"
     ]
    },
    {
     "name": "stderr",
     "output_type": "stream",
     "text": [
      "100%|██████████| 59/59 [00:03<00:00, 14.76it/s]\n",
      "  3%|▎         | 2/59 [00:00<00:05, 10.76it/s]"
     ]
    },
    {
     "name": "stdout",
     "output_type": "stream",
     "text": [
      "{'ner': 363.8579140259854}\n",
      "59\n"
     ]
    },
    {
     "name": "stderr",
     "output_type": "stream",
     "text": [
      "100%|██████████| 59/59 [00:04<00:00, 14.50it/s]\n",
      "  5%|▌         | 3/59 [00:00<00:02, 22.29it/s]"
     ]
    },
    {
     "name": "stdout",
     "output_type": "stream",
     "text": [
      "{'ner': 421.09963077759943}\n",
      "59\n"
     ]
    },
    {
     "name": "stderr",
     "output_type": "stream",
     "text": [
      "100%|██████████| 59/59 [00:04<00:00, 13.74it/s]\n",
      "  2%|▏         | 1/59 [00:00<00:06,  8.86it/s]"
     ]
    },
    {
     "name": "stdout",
     "output_type": "stream",
     "text": [
      "{'ner': 350.7464354489908}\n",
      "59\n"
     ]
    },
    {
     "name": "stderr",
     "output_type": "stream",
     "text": [
      "100%|██████████| 59/59 [00:04<00:00, 13.53it/s]\n",
      "  3%|▎         | 2/59 [00:00<00:02, 19.63it/s]"
     ]
    },
    {
     "name": "stdout",
     "output_type": "stream",
     "text": [
      "{'ner': 429.7111550222427}\n",
      "59\n"
     ]
    },
    {
     "name": "stderr",
     "output_type": "stream",
     "text": [
      "100%|██████████| 59/59 [00:04<00:00, 13.74it/s]\n",
      "  3%|▎         | 2/59 [00:00<00:05, 10.50it/s]"
     ]
    },
    {
     "name": "stdout",
     "output_type": "stream",
     "text": [
      "{'ner': 374.77280294192997}\n",
      "59\n"
     ]
    },
    {
     "name": "stderr",
     "output_type": "stream",
     "text": [
      "100%|██████████| 59/59 [00:03<00:00, 14.84it/s]\n",
      "  3%|▎         | 2/59 [00:00<00:03, 18.19it/s]"
     ]
    },
    {
     "name": "stdout",
     "output_type": "stream",
     "text": [
      "{'ner': 378.60674050342584}\n",
      "59\n"
     ]
    },
    {
     "name": "stderr",
     "output_type": "stream",
     "text": [
      "100%|██████████| 59/59 [00:03<00:00, 15.64it/s]\n",
      "  3%|▎         | 2/59 [00:00<00:03, 17.38it/s]"
     ]
    },
    {
     "name": "stdout",
     "output_type": "stream",
     "text": [
      "{'ner': 352.323209690579}\n",
      "59\n"
     ]
    },
    {
     "name": "stderr",
     "output_type": "stream",
     "text": [
      "100%|██████████| 59/59 [00:03<00:00, 15.26it/s]\n",
      "  7%|▋         | 4/59 [00:00<00:02, 23.67it/s]"
     ]
    },
    {
     "name": "stdout",
     "output_type": "stream",
     "text": [
      "{'ner': 366.9296868814351}\n",
      "59\n"
     ]
    },
    {
     "name": "stderr",
     "output_type": "stream",
     "text": [
      "100%|██████████| 59/59 [00:03<00:00, 15.81it/s]\n",
      "  5%|▌         | 3/59 [00:00<00:03, 17.93it/s]"
     ]
    },
    {
     "name": "stdout",
     "output_type": "stream",
     "text": [
      "{'ner': 366.46971184985097}\n",
      "59\n"
     ]
    },
    {
     "name": "stderr",
     "output_type": "stream",
     "text": [
      "100%|██████████| 59/59 [00:03<00:00, 15.73it/s]\n",
      "  3%|▎         | 2/59 [00:00<00:03, 14.94it/s]"
     ]
    },
    {
     "name": "stdout",
     "output_type": "stream",
     "text": [
      "{'ner': 344.4791707276733}\n",
      "59\n"
     ]
    },
    {
     "name": "stderr",
     "output_type": "stream",
     "text": [
      "100%|██████████| 59/59 [00:03<00:00, 15.49it/s]\n",
      "  8%|▊         | 5/59 [00:00<00:01, 45.79it/s]"
     ]
    },
    {
     "name": "stdout",
     "output_type": "stream",
     "text": [
      "{'ner': 375.142852176217}\n",
      "59\n"
     ]
    },
    {
     "name": "stderr",
     "output_type": "stream",
     "text": [
      "100%|██████████| 59/59 [00:03<00:00, 16.06it/s]\n",
      "  3%|▎         | 2/59 [00:00<00:03, 18.79it/s]"
     ]
    },
    {
     "name": "stdout",
     "output_type": "stream",
     "text": [
      "{'ner': 413.0028367848418}\n",
      "59\n"
     ]
    },
    {
     "name": "stderr",
     "output_type": "stream",
     "text": [
      "100%|██████████| 59/59 [00:04<00:00, 13.41it/s]\n",
      "  2%|▏         | 1/59 [00:00<00:07,  8.05it/s]"
     ]
    },
    {
     "name": "stdout",
     "output_type": "stream",
     "text": [
      "{'ner': 388.809823189243}\n",
      "59\n"
     ]
    },
    {
     "name": "stderr",
     "output_type": "stream",
     "text": [
      "100%|██████████| 59/59 [00:04<00:00, 13.68it/s]\n",
      "  2%|▏         | 1/59 [00:00<00:06,  9.20it/s]"
     ]
    },
    {
     "name": "stdout",
     "output_type": "stream",
     "text": [
      "{'ner': 339.1032899430677}\n",
      "59\n"
     ]
    },
    {
     "name": "stderr",
     "output_type": "stream",
     "text": [
      "100%|██████████| 59/59 [00:04<00:00, 13.46it/s]\n",
      "  2%|▏         | 1/59 [00:00<00:07,  7.60it/s]"
     ]
    },
    {
     "name": "stdout",
     "output_type": "stream",
     "text": [
      "{'ner': 394.5745162460074}\n",
      "59\n"
     ]
    },
    {
     "name": "stderr",
     "output_type": "stream",
     "text": [
      "100%|██████████| 59/59 [00:04<00:00, 13.37it/s]\n",
      "  0%|          | 0/59 [00:00<?, ?it/s]"
     ]
    },
    {
     "name": "stdout",
     "output_type": "stream",
     "text": [
      "{'ner': 339.0829573942052}\n",
      "59\n"
     ]
    },
    {
     "name": "stderr",
     "output_type": "stream",
     "text": [
      "100%|██████████| 59/59 [00:04<00:00, 13.21it/s]\n",
      "  2%|▏         | 1/59 [00:00<00:06,  9.25it/s]"
     ]
    },
    {
     "name": "stdout",
     "output_type": "stream",
     "text": [
      "{'ner': 372.64275543310225}\n",
      "59\n"
     ]
    },
    {
     "name": "stderr",
     "output_type": "stream",
     "text": [
      "100%|██████████| 59/59 [00:04<00:00, 13.14it/s]\n",
      "  3%|▎         | 2/59 [00:00<00:04, 12.60it/s]"
     ]
    },
    {
     "name": "stdout",
     "output_type": "stream",
     "text": [
      "{'ner': 346.22430822698385}\n",
      "59\n"
     ]
    },
    {
     "name": "stderr",
     "output_type": "stream",
     "text": [
      "100%|██████████| 59/59 [00:04<00:00, 14.11it/s]\n",
      "  5%|▌         | 3/59 [00:00<00:02, 19.57it/s]"
     ]
    },
    {
     "name": "stdout",
     "output_type": "stream",
     "text": [
      "{'ner': 388.64088763147504}\n",
      "59\n"
     ]
    },
    {
     "name": "stderr",
     "output_type": "stream",
     "text": [
      "100%|██████████| 59/59 [00:04<00:00, 14.57it/s]\n",
      "  3%|▎         | 2/59 [00:00<00:03, 14.77it/s]"
     ]
    },
    {
     "name": "stdout",
     "output_type": "stream",
     "text": [
      "{'ner': 329.3355982892869}\n",
      "59\n"
     ]
    },
    {
     "name": "stderr",
     "output_type": "stream",
     "text": [
      "100%|██████████| 59/59 [00:03<00:00, 16.08it/s]\n",
      "  7%|▋         | 4/59 [00:00<00:01, 28.31it/s]"
     ]
    },
    {
     "name": "stdout",
     "output_type": "stream",
     "text": [
      "{'ner': 373.23637869315087}\n",
      "59\n"
     ]
    },
    {
     "name": "stderr",
     "output_type": "stream",
     "text": [
      "100%|██████████| 59/59 [00:03<00:00, 16.02it/s]\n",
      "  3%|▎         | 2/59 [00:00<00:04, 14.17it/s]"
     ]
    },
    {
     "name": "stdout",
     "output_type": "stream",
     "text": [
      "{'ner': 352.918455874482}\n",
      "59\n"
     ]
    },
    {
     "name": "stderr",
     "output_type": "stream",
     "text": [
      "100%|██████████| 59/59 [00:03<00:00, 15.01it/s]\n",
      "  5%|▌         | 3/59 [00:00<00:02, 24.89it/s]"
     ]
    },
    {
     "name": "stdout",
     "output_type": "stream",
     "text": [
      "{'ner': 351.3261862877461}\n",
      "59\n"
     ]
    },
    {
     "name": "stderr",
     "output_type": "stream",
     "text": [
      "100%|██████████| 59/59 [00:03<00:00, 15.96it/s]\n",
      "  2%|▏         | 1/59 [00:00<00:06,  8.35it/s]"
     ]
    },
    {
     "name": "stdout",
     "output_type": "stream",
     "text": [
      "{'ner': 374.57229775122846}\n",
      "59\n"
     ]
    },
    {
     "name": "stderr",
     "output_type": "stream",
     "text": [
      "100%|██████████| 59/59 [00:03<00:00, 15.72it/s]\n",
      "  3%|▎         | 2/59 [00:00<00:04, 13.94it/s]"
     ]
    },
    {
     "name": "stdout",
     "output_type": "stream",
     "text": [
      "{'ner': 367.09176597541676}\n",
      "59\n"
     ]
    },
    {
     "name": "stderr",
     "output_type": "stream",
     "text": [
      "100%|██████████| 59/59 [00:03<00:00, 15.11it/s]\n",
      "  3%|▎         | 2/59 [00:00<00:03, 17.21it/s]"
     ]
    },
    {
     "name": "stdout",
     "output_type": "stream",
     "text": [
      "{'ner': 353.9791513559286}\n",
      "59\n"
     ]
    },
    {
     "name": "stderr",
     "output_type": "stream",
     "text": [
      "100%|██████████| 59/59 [00:03<00:00, 15.73it/s]\n",
      "  3%|▎         | 2/59 [00:00<00:05, 11.01it/s]"
     ]
    },
    {
     "name": "stdout",
     "output_type": "stream",
     "text": [
      "{'ner': 350.0849123314242}\n",
      "59\n"
     ]
    },
    {
     "name": "stderr",
     "output_type": "stream",
     "text": [
      "100%|██████████| 59/59 [00:03<00:00, 15.07it/s]\n",
      "  5%|▌         | 3/59 [00:00<00:02, 19.10it/s]"
     ]
    },
    {
     "name": "stdout",
     "output_type": "stream",
     "text": [
      "{'ner': 368.0352072178585}\n",
      "59\n"
     ]
    },
    {
     "name": "stderr",
     "output_type": "stream",
     "text": [
      "100%|██████████| 59/59 [00:03<00:00, 15.39it/s]\n",
      "  3%|▎         | 2/59 [00:00<00:03, 16.71it/s]"
     ]
    },
    {
     "name": "stdout",
     "output_type": "stream",
     "text": [
      "{'ner': 336.85677026058966}\n",
      "59\n"
     ]
    },
    {
     "name": "stderr",
     "output_type": "stream",
     "text": [
      "100%|██████████| 59/59 [00:04<00:00, 14.48it/s]\n",
      "  3%|▎         | 2/59 [00:00<00:04, 13.49it/s]"
     ]
    },
    {
     "name": "stdout",
     "output_type": "stream",
     "text": [
      "{'ner': 378.35198843943135}\n",
      "59\n"
     ]
    },
    {
     "name": "stderr",
     "output_type": "stream",
     "text": [
      "100%|██████████| 59/59 [00:03<00:00, 14.92it/s]\n",
      "  3%|▎         | 2/59 [00:00<00:03, 16.59it/s]"
     ]
    },
    {
     "name": "stdout",
     "output_type": "stream",
     "text": [
      "{'ner': 322.2513406995661}\n",
      "59\n"
     ]
    },
    {
     "name": "stderr",
     "output_type": "stream",
     "text": [
      "100%|██████████| 59/59 [00:03<00:00, 15.52it/s]\n",
      "  5%|▌         | 3/59 [00:00<00:01, 28.06it/s]"
     ]
    },
    {
     "name": "stdout",
     "output_type": "stream",
     "text": [
      "{'ner': 342.557742980196}\n",
      "59\n"
     ]
    },
    {
     "name": "stderr",
     "output_type": "stream",
     "text": [
      "100%|██████████| 59/59 [00:03<00:00, 14.91it/s]\n",
      "  3%|▎         | 2/59 [00:00<00:04, 12.50it/s]"
     ]
    },
    {
     "name": "stdout",
     "output_type": "stream",
     "text": [
      "{'ner': 345.09311613948773}\n",
      "59\n"
     ]
    },
    {
     "name": "stderr",
     "output_type": "stream",
     "text": [
      "100%|██████████| 59/59 [00:03<00:00, 14.88it/s]\n",
      "  2%|▏         | 1/59 [00:00<00:06,  9.34it/s]"
     ]
    },
    {
     "name": "stdout",
     "output_type": "stream",
     "text": [
      "{'ner': 341.10026093275343}\n",
      "59\n"
     ]
    },
    {
     "name": "stderr",
     "output_type": "stream",
     "text": [
      "100%|██████████| 59/59 [00:03<00:00, 15.01it/s]\n",
      "  3%|▎         | 2/59 [00:00<00:04, 13.71it/s]"
     ]
    },
    {
     "name": "stdout",
     "output_type": "stream",
     "text": [
      "{'ner': 323.09108360967616}\n",
      "59\n"
     ]
    },
    {
     "name": "stderr",
     "output_type": "stream",
     "text": [
      "100%|██████████| 59/59 [00:04<00:00, 14.65it/s]\n",
      "  3%|▎         | 2/59 [00:00<00:03, 14.79it/s]"
     ]
    },
    {
     "name": "stdout",
     "output_type": "stream",
     "text": [
      "{'ner': 344.6036664066724}\n",
      "59\n"
     ]
    },
    {
     "name": "stderr",
     "output_type": "stream",
     "text": [
      "100%|██████████| 59/59 [00:03<00:00, 15.64it/s]\n",
      "  5%|▌         | 3/59 [00:00<00:02, 19.25it/s]"
     ]
    },
    {
     "name": "stdout",
     "output_type": "stream",
     "text": [
      "{'ner': 372.7090774355393}\n",
      "59\n"
     ]
    },
    {
     "name": "stderr",
     "output_type": "stream",
     "text": [
      "100%|██████████| 59/59 [00:03<00:00, 15.54it/s]\n",
      "  3%|▎         | 2/59 [00:00<00:04, 13.54it/s]"
     ]
    },
    {
     "name": "stdout",
     "output_type": "stream",
     "text": [
      "{'ner': 380.9958352283649}\n",
      "59\n"
     ]
    },
    {
     "name": "stderr",
     "output_type": "stream",
     "text": [
      "100%|██████████| 59/59 [00:03<00:00, 15.10it/s]\n",
      "  3%|▎         | 2/59 [00:00<00:03, 14.32it/s]"
     ]
    },
    {
     "name": "stdout",
     "output_type": "stream",
     "text": [
      "{'ner': 329.80924461162067}\n",
      "59\n"
     ]
    },
    {
     "name": "stderr",
     "output_type": "stream",
     "text": [
      "100%|██████████| 59/59 [00:03<00:00, 15.22it/s]\n",
      "  3%|▎         | 2/59 [00:00<00:03, 14.64it/s]"
     ]
    },
    {
     "name": "stdout",
     "output_type": "stream",
     "text": [
      "{'ner': 378.51808064667256}\n",
      "59\n"
     ]
    },
    {
     "name": "stderr",
     "output_type": "stream",
     "text": [
      "100%|██████████| 59/59 [00:03<00:00, 14.86it/s]\n",
      "  3%|▎         | 2/59 [00:00<00:04, 12.82it/s]"
     ]
    },
    {
     "name": "stdout",
     "output_type": "stream",
     "text": [
      "{'ner': 360.2484463212799}\n",
      "59\n"
     ]
    },
    {
     "name": "stderr",
     "output_type": "stream",
     "text": [
      "100%|██████████| 59/59 [00:03<00:00, 15.40it/s]\n",
      "  3%|▎         | 2/59 [00:00<00:03, 15.46it/s]"
     ]
    },
    {
     "name": "stdout",
     "output_type": "stream",
     "text": [
      "{'ner': 292.92938822400356}\n",
      "59\n"
     ]
    },
    {
     "name": "stderr",
     "output_type": "stream",
     "text": [
      "100%|██████████| 59/59 [00:04<00:00, 14.30it/s]\n",
      "  3%|▎         | 2/59 [00:00<00:03, 15.91it/s]"
     ]
    },
    {
     "name": "stdout",
     "output_type": "stream",
     "text": [
      "{'ner': 340.92783098708935}\n",
      "59\n"
     ]
    },
    {
     "name": "stderr",
     "output_type": "stream",
     "text": [
      "100%|██████████| 59/59 [00:03<00:00, 15.18it/s]\n",
      "  5%|▌         | 3/59 [00:00<00:02, 20.37it/s]"
     ]
    },
    {
     "name": "stdout",
     "output_type": "stream",
     "text": [
      "{'ner': 400.2309725659044}\n",
      "59\n"
     ]
    },
    {
     "name": "stderr",
     "output_type": "stream",
     "text": [
      "100%|██████████| 59/59 [00:03<00:00, 14.88it/s]\n",
      "  3%|▎         | 2/59 [00:00<00:04, 13.90it/s]"
     ]
    },
    {
     "name": "stdout",
     "output_type": "stream",
     "text": [
      "{'ner': 324.3551757830113}\n",
      "59\n"
     ]
    },
    {
     "name": "stderr",
     "output_type": "stream",
     "text": [
      "100%|██████████| 59/59 [00:03<00:00, 15.22it/s]\n",
      "  3%|▎         | 2/59 [00:00<00:04, 13.95it/s]"
     ]
    },
    {
     "name": "stdout",
     "output_type": "stream",
     "text": [
      "{'ner': 314.23547064513554}\n",
      "59\n"
     ]
    },
    {
     "name": "stderr",
     "output_type": "stream",
     "text": [
      "100%|██████████| 59/59 [00:03<00:00, 14.92it/s]\n",
      "  3%|▎         | 2/59 [00:00<00:04, 12.03it/s]"
     ]
    },
    {
     "name": "stdout",
     "output_type": "stream",
     "text": [
      "{'ner': 303.2348815403995}\n",
      "59\n"
     ]
    },
    {
     "name": "stderr",
     "output_type": "stream",
     "text": [
      "100%|██████████| 59/59 [00:03<00:00, 14.76it/s]\n",
      "  0%|          | 0/59 [00:00<?, ?it/s]"
     ]
    },
    {
     "name": "stdout",
     "output_type": "stream",
     "text": [
      "{'ner': 304.2695540940288}\n",
      "59\n"
     ]
    },
    {
     "name": "stderr",
     "output_type": "stream",
     "text": [
      "100%|██████████| 59/59 [00:03<00:00, 15.18it/s]\n",
      "  3%|▎         | 2/59 [00:00<00:03, 18.59it/s]"
     ]
    },
    {
     "name": "stdout",
     "output_type": "stream",
     "text": [
      "{'ner': 405.917396474928}\n",
      "59\n"
     ]
    },
    {
     "name": "stderr",
     "output_type": "stream",
     "text": [
      "100%|██████████| 59/59 [00:03<00:00, 15.39it/s]\n",
      "  3%|▎         | 2/59 [00:00<00:04, 12.79it/s]"
     ]
    },
    {
     "name": "stdout",
     "output_type": "stream",
     "text": [
      "{'ner': 386.4767212364149}\n",
      "59\n"
     ]
    },
    {
     "name": "stderr",
     "output_type": "stream",
     "text": [
      "100%|██████████| 59/59 [00:03<00:00, 15.39it/s]\n",
      "  0%|          | 0/59 [00:00<?, ?it/s]"
     ]
    },
    {
     "name": "stdout",
     "output_type": "stream",
     "text": [
      "{'ner': 310.6354849275658}\n",
      "59\n"
     ]
    },
    {
     "name": "stderr",
     "output_type": "stream",
     "text": [
      "100%|██████████| 59/59 [00:03<00:00, 14.77it/s]\n",
      "  3%|▎         | 2/59 [00:00<00:04, 12.45it/s]"
     ]
    },
    {
     "name": "stdout",
     "output_type": "stream",
     "text": [
      "{'ner': 315.64684011919223}\n",
      "59\n"
     ]
    },
    {
     "name": "stderr",
     "output_type": "stream",
     "text": [
      "100%|██████████| 59/59 [00:03<00:00, 15.96it/s]\n",
      "  3%|▎         | 2/59 [00:00<00:04, 11.90it/s]"
     ]
    },
    {
     "name": "stdout",
     "output_type": "stream",
     "text": [
      "{'ner': 330.97501921059444}\n",
      "59\n"
     ]
    },
    {
     "name": "stderr",
     "output_type": "stream",
     "text": [
      "100%|██████████| 59/59 [00:03<00:00, 15.38it/s]\n",
      "  7%|▋         | 4/59 [00:00<00:01, 29.26it/s]"
     ]
    },
    {
     "name": "stdout",
     "output_type": "stream",
     "text": [
      "{'ner': 308.0137588239736}\n",
      "59\n"
     ]
    },
    {
     "name": "stderr",
     "output_type": "stream",
     "text": [
      "100%|██████████| 59/59 [00:03<00:00, 15.30it/s]\n",
      "  2%|▏         | 1/59 [00:00<00:07,  7.53it/s]"
     ]
    },
    {
     "name": "stdout",
     "output_type": "stream",
     "text": [
      "{'ner': 358.0852631625918}\n",
      "59\n"
     ]
    },
    {
     "name": "stderr",
     "output_type": "stream",
     "text": [
      "100%|██████████| 59/59 [00:03<00:00, 15.80it/s]\n",
      "  3%|▎         | 2/59 [00:00<00:04, 13.03it/s]"
     ]
    },
    {
     "name": "stdout",
     "output_type": "stream",
     "text": [
      "{'ner': 400.00584594265365}\n",
      "59\n"
     ]
    },
    {
     "name": "stderr",
     "output_type": "stream",
     "text": [
      "100%|██████████| 59/59 [00:03<00:00, 15.05it/s]\n",
      "  5%|▌         | 3/59 [00:00<00:03, 15.68it/s]"
     ]
    },
    {
     "name": "stdout",
     "output_type": "stream",
     "text": [
      "{'ner': 322.4883717055657}\n",
      "59\n"
     ]
    },
    {
     "name": "stderr",
     "output_type": "stream",
     "text": [
      "100%|██████████| 59/59 [00:04<00:00, 13.94it/s]\n",
      "  2%|▏         | 1/59 [00:00<00:06,  9.42it/s]"
     ]
    },
    {
     "name": "stdout",
     "output_type": "stream",
     "text": [
      "{'ner': 336.2204852917858}\n",
      "59\n"
     ]
    },
    {
     "name": "stderr",
     "output_type": "stream",
     "text": [
      "100%|██████████| 59/59 [00:04<00:00, 12.52it/s]\n",
      "  3%|▎         | 2/59 [00:00<00:03, 17.51it/s]"
     ]
    },
    {
     "name": "stdout",
     "output_type": "stream",
     "text": [
      "{'ner': 354.69415167708127}\n",
      "59\n"
     ]
    },
    {
     "name": "stderr",
     "output_type": "stream",
     "text": [
      "100%|██████████| 59/59 [00:04<00:00, 13.68it/s]\n",
      "  5%|▌         | 3/59 [00:00<00:02, 21.01it/s]"
     ]
    },
    {
     "name": "stdout",
     "output_type": "stream",
     "text": [
      "{'ner': 319.3682308542464}\n",
      "59\n"
     ]
    },
    {
     "name": "stderr",
     "output_type": "stream",
     "text": [
      "100%|██████████| 59/59 [00:04<00:00, 13.10it/s]\n",
      "  3%|▎         | 2/59 [00:00<00:05, 10.35it/s]"
     ]
    },
    {
     "name": "stdout",
     "output_type": "stream",
     "text": [
      "{'ner': 361.9820343908959}\n",
      "59\n"
     ]
    },
    {
     "name": "stderr",
     "output_type": "stream",
     "text": [
      "100%|██████████| 59/59 [00:04<00:00, 13.24it/s]\n",
      "  3%|▎         | 2/59 [00:00<00:04, 11.80it/s]"
     ]
    },
    {
     "name": "stdout",
     "output_type": "stream",
     "text": [
      "{'ner': 351.48193156316677}\n",
      "59\n"
     ]
    },
    {
     "name": "stderr",
     "output_type": "stream",
     "text": [
      "100%|██████████| 59/59 [00:04<00:00, 13.76it/s]\n",
      "  3%|▎         | 2/59 [00:00<00:03, 14.78it/s]"
     ]
    },
    {
     "name": "stdout",
     "output_type": "stream",
     "text": [
      "{'ner': 318.9255809857666}\n",
      "59\n"
     ]
    },
    {
     "name": "stderr",
     "output_type": "stream",
     "text": [
      "100%|██████████| 59/59 [00:04<00:00, 13.35it/s]\n",
      "  3%|▎         | 2/59 [00:00<00:03, 14.39it/s]"
     ]
    },
    {
     "name": "stdout",
     "output_type": "stream",
     "text": [
      "{'ner': 384.6277229593047}\n",
      "59\n"
     ]
    },
    {
     "name": "stderr",
     "output_type": "stream",
     "text": [
      "100%|██████████| 59/59 [00:04<00:00, 14.50it/s]\n",
      "  0%|          | 0/59 [00:00<?, ?it/s]"
     ]
    },
    {
     "name": "stdout",
     "output_type": "stream",
     "text": [
      "{'ner': 380.8762703947899}\n",
      "59\n"
     ]
    },
    {
     "name": "stderr",
     "output_type": "stream",
     "text": [
      "100%|██████████| 59/59 [00:03<00:00, 14.82it/s]\n",
      "  3%|▎         | 2/59 [00:00<00:03, 17.64it/s]"
     ]
    },
    {
     "name": "stdout",
     "output_type": "stream",
     "text": [
      "{'ner': 300.9478227520576}\n",
      "59\n"
     ]
    },
    {
     "name": "stderr",
     "output_type": "stream",
     "text": [
      "100%|██████████| 59/59 [00:04<00:00, 14.51it/s]\n",
      "  7%|▋         | 4/59 [00:00<00:01, 35.01it/s]"
     ]
    },
    {
     "name": "stdout",
     "output_type": "stream",
     "text": [
      "{'ner': 338.33471250665673}\n",
      "59\n"
     ]
    },
    {
     "name": "stderr",
     "output_type": "stream",
     "text": [
      "100%|██████████| 59/59 [00:04<00:00, 14.36it/s]\n",
      "  3%|▎         | 2/59 [00:00<00:04, 13.53it/s]"
     ]
    },
    {
     "name": "stdout",
     "output_type": "stream",
     "text": [
      "{'ner': 314.48149400853777}\n",
      "59\n"
     ]
    },
    {
     "name": "stderr",
     "output_type": "stream",
     "text": [
      "100%|██████████| 59/59 [00:04<00:00, 14.66it/s]\n",
      "  3%|▎         | 2/59 [00:00<00:04, 13.94it/s]"
     ]
    },
    {
     "name": "stdout",
     "output_type": "stream",
     "text": [
      "{'ner': 341.50465609433036}\n",
      "59\n"
     ]
    },
    {
     "name": "stderr",
     "output_type": "stream",
     "text": [
      "100%|██████████| 59/59 [00:04<00:00, 14.53it/s]\n",
      "  2%|▏         | 1/59 [00:00<00:05,  9.85it/s]"
     ]
    },
    {
     "name": "stdout",
     "output_type": "stream",
     "text": [
      "{'ner': 358.48276425442606}\n",
      "59\n"
     ]
    },
    {
     "name": "stderr",
     "output_type": "stream",
     "text": [
      "100%|██████████| 59/59 [00:03<00:00, 14.83it/s]\n",
      "  2%|▏         | 1/59 [00:00<00:06,  8.67it/s]"
     ]
    },
    {
     "name": "stdout",
     "output_type": "stream",
     "text": [
      "{'ner': 297.23817363964923}\n",
      "59\n"
     ]
    },
    {
     "name": "stderr",
     "output_type": "stream",
     "text": [
      "100%|██████████| 59/59 [00:04<00:00, 14.27it/s]\n",
      "  3%|▎         | 2/59 [00:00<00:03, 14.74it/s]"
     ]
    },
    {
     "name": "stdout",
     "output_type": "stream",
     "text": [
      "{'ner': 319.5743887001359}\n",
      "59\n"
     ]
    },
    {
     "name": "stderr",
     "output_type": "stream",
     "text": [
      "100%|██████████| 59/59 [00:04<00:00, 13.99it/s]\n",
      "  3%|▎         | 2/59 [00:00<00:03, 16.21it/s]"
     ]
    },
    {
     "name": "stdout",
     "output_type": "stream",
     "text": [
      "{'ner': 339.8128132578401}\n",
      "59\n"
     ]
    },
    {
     "name": "stderr",
     "output_type": "stream",
     "text": [
      "100%|██████████| 59/59 [00:04<00:00, 14.47it/s]\n",
      "  3%|▎         | 2/59 [00:00<00:03, 18.11it/s]"
     ]
    },
    {
     "name": "stdout",
     "output_type": "stream",
     "text": [
      "{'ner': 306.36117037623524}\n",
      "59\n"
     ]
    },
    {
     "name": "stderr",
     "output_type": "stream",
     "text": [
      "100%|██████████| 59/59 [00:04<00:00, 14.64it/s]\n",
      "  3%|▎         | 2/59 [00:00<00:03, 14.57it/s]"
     ]
    },
    {
     "name": "stdout",
     "output_type": "stream",
     "text": [
      "{'ner': 323.37623231785955}\n",
      "59\n"
     ]
    },
    {
     "name": "stderr",
     "output_type": "stream",
     "text": [
      "100%|██████████| 59/59 [00:04<00:00, 14.34it/s]\n",
      "  3%|▎         | 2/59 [00:00<00:03, 16.23it/s]"
     ]
    },
    {
     "name": "stdout",
     "output_type": "stream",
     "text": [
      "{'ner': 299.6413217199269}\n",
      "59\n"
     ]
    },
    {
     "name": "stderr",
     "output_type": "stream",
     "text": [
      "100%|██████████| 59/59 [00:04<00:00, 14.14it/s]\n",
      "  2%|▏         | 1/59 [00:00<00:06,  9.66it/s]"
     ]
    },
    {
     "name": "stdout",
     "output_type": "stream",
     "text": [
      "{'ner': 313.54516858266646}\n",
      "59\n"
     ]
    },
    {
     "name": "stderr",
     "output_type": "stream",
     "text": [
      "100%|██████████| 59/59 [00:04<00:00, 14.49it/s]\n",
      "  5%|▌         | 3/59 [00:00<00:02, 18.83it/s]"
     ]
    },
    {
     "name": "stdout",
     "output_type": "stream",
     "text": [
      "{'ner': 352.1151559894963}\n",
      "59\n"
     ]
    },
    {
     "name": "stderr",
     "output_type": "stream",
     "text": [
      "100%|██████████| 59/59 [00:04<00:00, 14.11it/s]\n",
      "  3%|▎         | 2/59 [00:00<00:04, 12.73it/s]"
     ]
    },
    {
     "name": "stdout",
     "output_type": "stream",
     "text": [
      "{'ner': 321.13754827407826}\n",
      "59\n"
     ]
    },
    {
     "name": "stderr",
     "output_type": "stream",
     "text": [
      "100%|██████████| 59/59 [00:04<00:00, 14.39it/s]\n",
      "  3%|▎         | 2/59 [00:00<00:04, 11.42it/s]"
     ]
    },
    {
     "name": "stdout",
     "output_type": "stream",
     "text": [
      "{'ner': 339.0442324709865}\n",
      "59\n"
     ]
    },
    {
     "name": "stderr",
     "output_type": "stream",
     "text": [
      "100%|██████████| 59/59 [00:04<00:00, 14.73it/s]\n",
      "  3%|▎         | 2/59 [00:00<00:05, 10.42it/s]"
     ]
    },
    {
     "name": "stdout",
     "output_type": "stream",
     "text": [
      "{'ner': 347.78542648137795}\n",
      "59\n"
     ]
    },
    {
     "name": "stderr",
     "output_type": "stream",
     "text": [
      "100%|██████████| 59/59 [00:04<00:00, 14.52it/s]\n",
      "  5%|▌         | 3/59 [00:00<00:02, 19.75it/s]"
     ]
    },
    {
     "name": "stdout",
     "output_type": "stream",
     "text": [
      "{'ner': 340.3909969496109}\n",
      "59\n"
     ]
    },
    {
     "name": "stderr",
     "output_type": "stream",
     "text": [
      "100%|██████████| 59/59 [00:03<00:00, 14.99it/s]\n",
      "  5%|▌         | 3/59 [00:00<00:03, 16.65it/s]"
     ]
    },
    {
     "name": "stdout",
     "output_type": "stream",
     "text": [
      "{'ner': 324.25173003204446}\n",
      "59\n"
     ]
    },
    {
     "name": "stderr",
     "output_type": "stream",
     "text": [
      "100%|██████████| 59/59 [00:04<00:00, 14.17it/s]\n",
      "  3%|▎         | 2/59 [00:00<00:02, 19.16it/s]"
     ]
    },
    {
     "name": "stdout",
     "output_type": "stream",
     "text": [
      "{'ner': 271.7040988725531}\n",
      "59\n"
     ]
    },
    {
     "name": "stderr",
     "output_type": "stream",
     "text": [
      "100%|██████████| 59/59 [00:04<00:00, 14.71it/s]\n",
      "  5%|▌         | 3/59 [00:00<00:03, 16.44it/s]"
     ]
    },
    {
     "name": "stdout",
     "output_type": "stream",
     "text": [
      "{'ner': 314.5652866088847}\n",
      "59\n"
     ]
    },
    {
     "name": "stderr",
     "output_type": "stream",
     "text": [
      "100%|██████████| 59/59 [00:03<00:00, 14.85it/s]\n",
      "  3%|▎         | 2/59 [00:00<00:03, 17.34it/s]"
     ]
    },
    {
     "name": "stdout",
     "output_type": "stream",
     "text": [
      "{'ner': 326.0449927649217}\n",
      "59\n"
     ]
    },
    {
     "name": "stderr",
     "output_type": "stream",
     "text": [
      "100%|██████████| 59/59 [00:04<00:00, 14.26it/s]\n",
      "  5%|▌         | 3/59 [00:00<00:03, 16.51it/s]"
     ]
    },
    {
     "name": "stdout",
     "output_type": "stream",
     "text": [
      "{'ner': 330.6442877686032}\n",
      "59\n"
     ]
    },
    {
     "name": "stderr",
     "output_type": "stream",
     "text": [
      "100%|██████████| 59/59 [00:04<00:00, 14.64it/s]\n",
      "  2%|▏         | 1/59 [00:00<00:06,  9.02it/s]"
     ]
    },
    {
     "name": "stdout",
     "output_type": "stream",
     "text": [
      "{'ner': 330.5074035590848}\n",
      "59\n"
     ]
    },
    {
     "name": "stderr",
     "output_type": "stream",
     "text": [
      "100%|██████████| 59/59 [00:03<00:00, 14.80it/s]\n",
      "  3%|▎         | 2/59 [00:00<00:04, 13.16it/s]"
     ]
    },
    {
     "name": "stdout",
     "output_type": "stream",
     "text": [
      "{'ner': 299.80319064540294}\n",
      "59\n"
     ]
    },
    {
     "name": "stderr",
     "output_type": "stream",
     "text": [
      "100%|██████████| 59/59 [00:04<00:00, 14.08it/s]\n",
      "  3%|▎         | 2/59 [00:00<00:04, 12.03it/s]"
     ]
    },
    {
     "name": "stdout",
     "output_type": "stream",
     "text": [
      "{'ner': 323.2195564558483}\n",
      "59\n"
     ]
    },
    {
     "name": "stderr",
     "output_type": "stream",
     "text": [
      "100%|██████████| 59/59 [00:04<00:00, 14.35it/s]\n",
      "  2%|▏         | 1/59 [00:00<00:06,  8.67it/s]"
     ]
    },
    {
     "name": "stdout",
     "output_type": "stream",
     "text": [
      "{'ner': 322.4296241060791}\n",
      "59\n"
     ]
    },
    {
     "name": "stderr",
     "output_type": "stream",
     "text": [
      "100%|██████████| 59/59 [00:04<00:00, 14.23it/s]\n",
      "  3%|▎         | 2/59 [00:00<00:03, 15.64it/s]"
     ]
    },
    {
     "name": "stdout",
     "output_type": "stream",
     "text": [
      "{'ner': 288.82108996782836}\n",
      "59\n"
     ]
    },
    {
     "name": "stderr",
     "output_type": "stream",
     "text": [
      "100%|██████████| 59/59 [00:03<00:00, 14.97it/s]\n",
      "  5%|▌         | 3/59 [00:00<00:03, 16.78it/s]"
     ]
    },
    {
     "name": "stdout",
     "output_type": "stream",
     "text": [
      "{'ner': 256.97440877552856}\n",
      "59\n"
     ]
    },
    {
     "name": "stderr",
     "output_type": "stream",
     "text": [
      "100%|██████████| 59/59 [00:04<00:00, 13.99it/s]\n",
      "  2%|▏         | 1/59 [00:00<00:06,  8.69it/s]"
     ]
    },
    {
     "name": "stdout",
     "output_type": "stream",
     "text": [
      "{'ner': 295.9614164792837}\n",
      "59\n"
     ]
    },
    {
     "name": "stderr",
     "output_type": "stream",
     "text": [
      "100%|██████████| 59/59 [00:04<00:00, 11.94it/s]\n",
      "  3%|▎         | 2/59 [00:00<00:04, 13.17it/s]"
     ]
    },
    {
     "name": "stdout",
     "output_type": "stream",
     "text": [
      "{'ner': 317.9809616795634}\n",
      "59\n"
     ]
    },
    {
     "name": "stderr",
     "output_type": "stream",
     "text": [
      "100%|██████████| 59/59 [00:04<00:00, 13.09it/s]\n",
      "  3%|▎         | 2/59 [00:00<00:03, 15.07it/s]"
     ]
    },
    {
     "name": "stdout",
     "output_type": "stream",
     "text": [
      "{'ner': 309.07068332082065}\n",
      "59\n"
     ]
    },
    {
     "name": "stderr",
     "output_type": "stream",
     "text": [
      "100%|██████████| 59/59 [00:04<00:00, 13.24it/s]\n",
      "  3%|▎         | 2/59 [00:00<00:05, 10.51it/s]"
     ]
    },
    {
     "name": "stdout",
     "output_type": "stream",
     "text": [
      "{'ner': 266.5780125306937}\n",
      "59\n"
     ]
    },
    {
     "name": "stderr",
     "output_type": "stream",
     "text": [
      "100%|██████████| 59/59 [00:04<00:00, 12.76it/s]\n",
      "  0%|          | 0/59 [00:00<?, ?it/s]"
     ]
    },
    {
     "name": "stdout",
     "output_type": "stream",
     "text": [
      "{'ner': 255.0388413180091}\n",
      "59\n"
     ]
    },
    {
     "name": "stderr",
     "output_type": "stream",
     "text": [
      "100%|██████████| 59/59 [00:04<00:00, 13.84it/s]\n",
      "  0%|          | 0/59 [00:00<?, ?it/s]"
     ]
    },
    {
     "name": "stdout",
     "output_type": "stream",
     "text": [
      "{'ner': 308.62921569743344}\n",
      "59\n"
     ]
    },
    {
     "name": "stderr",
     "output_type": "stream",
     "text": [
      "100%|██████████| 59/59 [00:04<00:00, 13.58it/s]\n",
      "  3%|▎         | 2/59 [00:00<00:05, 11.38it/s]"
     ]
    },
    {
     "name": "stdout",
     "output_type": "stream",
     "text": [
      "{'ner': 310.6338231718975}\n",
      "59\n"
     ]
    },
    {
     "name": "stderr",
     "output_type": "stream",
     "text": [
      "100%|██████████| 59/59 [00:04<00:00, 13.72it/s]\n",
      "  3%|▎         | 2/59 [00:00<00:03, 15.65it/s]"
     ]
    },
    {
     "name": "stdout",
     "output_type": "stream",
     "text": [
      "{'ner': 354.2377143901333}\n",
      "59\n"
     ]
    },
    {
     "name": "stderr",
     "output_type": "stream",
     "text": [
      "100%|██████████| 59/59 [00:04<00:00, 14.37it/s]\n",
      "  3%|▎         | 2/59 [00:00<00:03, 15.60it/s]"
     ]
    },
    {
     "name": "stdout",
     "output_type": "stream",
     "text": [
      "{'ner': 315.05324681295565}\n",
      "59\n"
     ]
    },
    {
     "name": "stderr",
     "output_type": "stream",
     "text": [
      "100%|██████████| 59/59 [00:04<00:00, 13.95it/s]\n",
      "  0%|          | 0/59 [00:00<?, ?it/s]"
     ]
    },
    {
     "name": "stdout",
     "output_type": "stream",
     "text": [
      "{'ner': 319.5194622804619}\n",
      "59\n"
     ]
    },
    {
     "name": "stderr",
     "output_type": "stream",
     "text": [
      "100%|██████████| 59/59 [00:04<00:00, 14.18it/s]\n",
      "  2%|▏         | 1/59 [00:00<00:05,  9.98it/s]"
     ]
    },
    {
     "name": "stdout",
     "output_type": "stream",
     "text": [
      "{'ner': 297.08882962060295}\n",
      "59\n"
     ]
    },
    {
     "name": "stderr",
     "output_type": "stream",
     "text": [
      "100%|██████████| 59/59 [00:04<00:00, 13.83it/s]\n",
      "  3%|▎         | 2/59 [00:00<00:04, 14.09it/s]"
     ]
    },
    {
     "name": "stdout",
     "output_type": "stream",
     "text": [
      "{'ner': 314.0363022647634}\n",
      "59\n"
     ]
    },
    {
     "name": "stderr",
     "output_type": "stream",
     "text": [
      "100%|██████████| 59/59 [00:04<00:00, 14.49it/s]\n",
      "  2%|▏         | 1/59 [00:00<00:05,  9.76it/s]"
     ]
    },
    {
     "name": "stdout",
     "output_type": "stream",
     "text": [
      "{'ner': 306.0821834821004}\n",
      "59\n"
     ]
    },
    {
     "name": "stderr",
     "output_type": "stream",
     "text": [
      "100%|██████████| 59/59 [00:04<00:00, 12.91it/s]\n",
      "  3%|▎         | 2/59 [00:00<00:04, 12.12it/s]"
     ]
    },
    {
     "name": "stdout",
     "output_type": "stream",
     "text": [
      "{'ner': 312.65311273658494}\n",
      "59\n"
     ]
    },
    {
     "name": "stderr",
     "output_type": "stream",
     "text": [
      "100%|██████████| 59/59 [00:04<00:00, 13.23it/s]\n",
      "  3%|▎         | 2/59 [00:00<00:04, 12.60it/s]"
     ]
    },
    {
     "name": "stdout",
     "output_type": "stream",
     "text": [
      "{'ner': 282.1758069367009}\n",
      "59\n"
     ]
    },
    {
     "name": "stderr",
     "output_type": "stream",
     "text": [
      "100%|██████████| 59/59 [00:04<00:00, 12.86it/s]\n",
      "  3%|▎         | 2/59 [00:00<00:04, 13.19it/s]"
     ]
    },
    {
     "name": "stdout",
     "output_type": "stream",
     "text": [
      "{'ner': 323.73898739795766}\n",
      "59\n"
     ]
    },
    {
     "name": "stderr",
     "output_type": "stream",
     "text": [
      "100%|██████████| 59/59 [00:04<00:00, 12.96it/s]\n",
      "  3%|▎         | 2/59 [00:00<00:04, 14.17it/s]"
     ]
    },
    {
     "name": "stdout",
     "output_type": "stream",
     "text": [
      "{'ner': 315.91377621555466}\n",
      "59\n"
     ]
    },
    {
     "name": "stderr",
     "output_type": "stream",
     "text": [
      "100%|██████████| 59/59 [00:04<00:00, 12.73it/s]\n",
      "  3%|▎         | 2/59 [00:00<00:03, 14.32it/s]"
     ]
    },
    {
     "name": "stdout",
     "output_type": "stream",
     "text": [
      "{'ner': 262.9000444339619}\n",
      "59\n"
     ]
    },
    {
     "name": "stderr",
     "output_type": "stream",
     "text": [
      "100%|██████████| 59/59 [00:04<00:00, 12.67it/s]\n",
      "  2%|▏         | 1/59 [00:00<00:06,  8.44it/s]"
     ]
    },
    {
     "name": "stdout",
     "output_type": "stream",
     "text": [
      "{'ner': 320.75693545764005}\n",
      "59\n"
     ]
    },
    {
     "name": "stderr",
     "output_type": "stream",
     "text": [
      "100%|██████████| 59/59 [00:04<00:00, 13.50it/s]\n",
      "  3%|▎         | 2/59 [00:00<00:04, 14.18it/s]"
     ]
    },
    {
     "name": "stdout",
     "output_type": "stream",
     "text": [
      "{'ner': 253.12107940021954}\n",
      "59\n"
     ]
    },
    {
     "name": "stderr",
     "output_type": "stream",
     "text": [
      "100%|██████████| 59/59 [00:04<00:00, 13.65it/s]\n",
      "  3%|▎         | 2/59 [00:00<00:04, 13.31it/s]"
     ]
    },
    {
     "name": "stdout",
     "output_type": "stream",
     "text": [
      "{'ner': 297.02077865169997}\n",
      "59\n"
     ]
    },
    {
     "name": "stderr",
     "output_type": "stream",
     "text": [
      "100%|██████████| 59/59 [00:04<00:00, 12.65it/s]\n",
      "  3%|▎         | 2/59 [00:00<00:03, 18.38it/s]"
     ]
    },
    {
     "name": "stdout",
     "output_type": "stream",
     "text": [
      "{'ner': 308.75642240447445}\n",
      "59\n"
     ]
    },
    {
     "name": "stderr",
     "output_type": "stream",
     "text": [
      "100%|██████████| 59/59 [00:05<00:00, 11.39it/s]\n",
      "  2%|▏         | 1/59 [00:00<00:08,  6.54it/s]"
     ]
    },
    {
     "name": "stdout",
     "output_type": "stream",
     "text": [
      "{'ner': 275.3352592275073}\n",
      "59\n"
     ]
    },
    {
     "name": "stderr",
     "output_type": "stream",
     "text": [
      "100%|██████████| 59/59 [00:04<00:00, 12.69it/s]\n",
      "  3%|▎         | 2/59 [00:00<00:05, 11.15it/s]"
     ]
    },
    {
     "name": "stdout",
     "output_type": "stream",
     "text": [
      "{'ner': 291.826347551944}\n",
      "59\n"
     ]
    },
    {
     "name": "stderr",
     "output_type": "stream",
     "text": [
      "100%|██████████| 59/59 [00:05<00:00, 11.43it/s]\n",
      "  2%|▏         | 1/59 [00:00<00:06,  8.48it/s]"
     ]
    },
    {
     "name": "stdout",
     "output_type": "stream",
     "text": [
      "{'ner': 295.8420251576}\n",
      "59\n"
     ]
    },
    {
     "name": "stderr",
     "output_type": "stream",
     "text": [
      "100%|██████████| 59/59 [00:04<00:00, 13.76it/s]\n",
      "  5%|▌         | 3/59 [00:00<00:02, 20.85it/s]"
     ]
    },
    {
     "name": "stdout",
     "output_type": "stream",
     "text": [
      "{'ner': 285.27484843317853}\n",
      "59\n"
     ]
    },
    {
     "name": "stderr",
     "output_type": "stream",
     "text": [
      "100%|██████████| 59/59 [00:04<00:00, 14.22it/s]\n",
      "  3%|▎         | 2/59 [00:00<00:04, 11.92it/s]"
     ]
    },
    {
     "name": "stdout",
     "output_type": "stream",
     "text": [
      "{'ner': 244.29220172560636}\n",
      "59\n"
     ]
    },
    {
     "name": "stderr",
     "output_type": "stream",
     "text": [
      "100%|██████████| 59/59 [00:04<00:00, 13.62it/s]\n",
      "  5%|▌         | 3/59 [00:00<00:03, 17.87it/s]"
     ]
    },
    {
     "name": "stdout",
     "output_type": "stream",
     "text": [
      "{'ner': 289.14522304869115}\n",
      "59\n"
     ]
    },
    {
     "name": "stderr",
     "output_type": "stream",
     "text": [
      "100%|██████████| 59/59 [00:04<00:00, 13.74it/s]\n",
      "  3%|▎         | 2/59 [00:00<00:03, 15.85it/s]"
     ]
    },
    {
     "name": "stdout",
     "output_type": "stream",
     "text": [
      "{'ner': 262.50778016682926}\n",
      "59\n"
     ]
    },
    {
     "name": "stderr",
     "output_type": "stream",
     "text": [
      "100%|██████████| 59/59 [00:04<00:00, 12.33it/s]\n",
      "  3%|▎         | 2/59 [00:00<00:05, 10.93it/s]"
     ]
    },
    {
     "name": "stdout",
     "output_type": "stream",
     "text": [
      "{'ner': 293.3379602091654}\n",
      "59\n"
     ]
    },
    {
     "name": "stderr",
     "output_type": "stream",
     "text": [
      "100%|██████████| 59/59 [00:04<00:00, 14.02it/s]\n",
      "  0%|          | 0/59 [00:00<?, ?it/s]"
     ]
    },
    {
     "name": "stdout",
     "output_type": "stream",
     "text": [
      "{'ner': 291.82376190382365}\n",
      "59\n"
     ]
    },
    {
     "name": "stderr",
     "output_type": "stream",
     "text": [
      "100%|██████████| 59/59 [00:04<00:00, 13.68it/s]\n",
      "  0%|          | 0/59 [00:00<?, ?it/s]"
     ]
    },
    {
     "name": "stdout",
     "output_type": "stream",
     "text": [
      "{'ner': 253.86025145277162}\n",
      "59\n"
     ]
    },
    {
     "name": "stderr",
     "output_type": "stream",
     "text": [
      "100%|██████████| 59/59 [00:04<00:00, 13.27it/s]\n",
      "  2%|▏         | 1/59 [00:00<00:06,  8.63it/s]"
     ]
    },
    {
     "name": "stdout",
     "output_type": "stream",
     "text": [
      "{'ner': 241.80556334175026}\n",
      "59\n"
     ]
    },
    {
     "name": "stderr",
     "output_type": "stream",
     "text": [
      "100%|██████████| 59/59 [00:04<00:00, 13.67it/s]\n",
      "  3%|▎         | 2/59 [00:00<00:03, 15.26it/s]"
     ]
    },
    {
     "name": "stdout",
     "output_type": "stream",
     "text": [
      "{'ner': 315.5392419070301}\n",
      "59\n"
     ]
    },
    {
     "name": "stderr",
     "output_type": "stream",
     "text": [
      "100%|██████████| 59/59 [00:04<00:00, 14.30it/s]\n",
      "  2%|▏         | 1/59 [00:00<00:07,  7.83it/s]"
     ]
    },
    {
     "name": "stdout",
     "output_type": "stream",
     "text": [
      "{'ner': 283.56889943436084}\n",
      "59\n"
     ]
    },
    {
     "name": "stderr",
     "output_type": "stream",
     "text": [
      "100%|██████████| 59/59 [00:04<00:00, 13.95it/s]\n",
      "  0%|          | 0/59 [00:00<?, ?it/s]"
     ]
    },
    {
     "name": "stdout",
     "output_type": "stream",
     "text": [
      "{'ner': 255.86942997743148}\n",
      "59\n"
     ]
    },
    {
     "name": "stderr",
     "output_type": "stream",
     "text": [
      "100%|██████████| 59/59 [00:04<00:00, 14.17it/s]\n",
      "  0%|          | 0/59 [00:00<?, ?it/s]"
     ]
    },
    {
     "name": "stdout",
     "output_type": "stream",
     "text": [
      "{'ner': 329.9038516908331}\n",
      "59\n"
     ]
    },
    {
     "name": "stderr",
     "output_type": "stream",
     "text": [
      "100%|██████████| 59/59 [00:04<00:00, 13.43it/s]\n",
      "  5%|▌         | 3/59 [00:00<00:02, 19.07it/s]"
     ]
    },
    {
     "name": "stdout",
     "output_type": "stream",
     "text": [
      "{'ner': 299.7361702906727}\n",
      "59\n"
     ]
    },
    {
     "name": "stderr",
     "output_type": "stream",
     "text": [
      "100%|██████████| 59/59 [00:04<00:00, 13.21it/s]\n",
      "  5%|▌         | 3/59 [00:00<00:02, 21.97it/s]"
     ]
    },
    {
     "name": "stdout",
     "output_type": "stream",
     "text": [
      "{'ner': 304.07714784563467}\n",
      "59\n"
     ]
    },
    {
     "name": "stderr",
     "output_type": "stream",
     "text": [
      "100%|██████████| 59/59 [00:04<00:00, 14.18it/s]\n",
      "  7%|▋         | 4/59 [00:00<00:02, 24.65it/s]"
     ]
    },
    {
     "name": "stdout",
     "output_type": "stream",
     "text": [
      "{'ner': 263.92844329890687}\n",
      "59\n"
     ]
    },
    {
     "name": "stderr",
     "output_type": "stream",
     "text": [
      "100%|██████████| 59/59 [00:04<00:00, 14.48it/s]\n",
      "  0%|          | 0/59 [00:00<?, ?it/s]"
     ]
    },
    {
     "name": "stdout",
     "output_type": "stream",
     "text": [
      "{'ner': 297.1849166141587}\n",
      "59\n"
     ]
    },
    {
     "name": "stderr",
     "output_type": "stream",
     "text": [
      "100%|██████████| 59/59 [00:04<00:00, 14.11it/s]\n",
      "  5%|▌         | 3/59 [00:00<00:03, 18.09it/s]"
     ]
    },
    {
     "name": "stdout",
     "output_type": "stream",
     "text": [
      "{'ner': 338.12956629905176}\n",
      "59\n"
     ]
    },
    {
     "name": "stderr",
     "output_type": "stream",
     "text": [
      "100%|██████████| 59/59 [00:04<00:00, 14.25it/s]\n",
      "  3%|▎         | 2/59 [00:00<00:04, 11.51it/s]"
     ]
    },
    {
     "name": "stdout",
     "output_type": "stream",
     "text": [
      "{'ner': 248.43076145297368}\n",
      "59\n"
     ]
    },
    {
     "name": "stderr",
     "output_type": "stream",
     "text": [
      "100%|██████████| 59/59 [00:04<00:00, 14.47it/s]\n",
      "  2%|▏         | 1/59 [00:00<00:05,  9.95it/s]"
     ]
    },
    {
     "name": "stdout",
     "output_type": "stream",
     "text": [
      "{'ner': 306.63279913566606}\n",
      "59\n"
     ]
    },
    {
     "name": "stderr",
     "output_type": "stream",
     "text": [
      "100%|██████████| 59/59 [00:04<00:00, 13.86it/s]\n",
      "  3%|▎         | 2/59 [00:00<00:03, 14.93it/s]"
     ]
    },
    {
     "name": "stdout",
     "output_type": "stream",
     "text": [
      "{'ner': 269.1865843822051}\n",
      "59\n"
     ]
    },
    {
     "name": "stderr",
     "output_type": "stream",
     "text": [
      "100%|██████████| 59/59 [00:04<00:00, 13.61it/s]\n",
      "  2%|▏         | 1/59 [00:00<00:07,  7.56it/s]"
     ]
    },
    {
     "name": "stdout",
     "output_type": "stream",
     "text": [
      "{'ner': 271.4342177922238}\n",
      "59\n"
     ]
    },
    {
     "name": "stderr",
     "output_type": "stream",
     "text": [
      "100%|██████████| 59/59 [00:03<00:00, 14.79it/s]\n",
      "  5%|▌         | 3/59 [00:00<00:03, 17.16it/s]"
     ]
    },
    {
     "name": "stdout",
     "output_type": "stream",
     "text": [
      "{'ner': 299.2873227589244}\n",
      "59\n"
     ]
    },
    {
     "name": "stderr",
     "output_type": "stream",
     "text": [
      "100%|██████████| 59/59 [00:04<00:00, 14.35it/s]\n",
      "  2%|▏         | 1/59 [00:00<00:06,  9.17it/s]"
     ]
    },
    {
     "name": "stdout",
     "output_type": "stream",
     "text": [
      "{'ner': 299.19392987499765}\n",
      "59\n"
     ]
    },
    {
     "name": "stderr",
     "output_type": "stream",
     "text": [
      "100%|██████████| 59/59 [00:04<00:00, 14.52it/s]\n",
      "  3%|▎         | 2/59 [00:00<00:04, 13.92it/s]"
     ]
    },
    {
     "name": "stdout",
     "output_type": "stream",
     "text": [
      "{'ner': 276.7446654319269}\n",
      "59\n"
     ]
    },
    {
     "name": "stderr",
     "output_type": "stream",
     "text": [
      "100%|██████████| 59/59 [00:04<00:00, 14.10it/s]\n",
      "  3%|▎         | 2/59 [00:00<00:04, 12.07it/s]"
     ]
    },
    {
     "name": "stdout",
     "output_type": "stream",
     "text": [
      "{'ner': 287.4617120026969}\n",
      "59\n"
     ]
    },
    {
     "name": "stderr",
     "output_type": "stream",
     "text": [
      "100%|██████████| 59/59 [00:04<00:00, 14.10it/s]\n",
      "  7%|▋         | 4/59 [00:00<00:02, 24.01it/s]"
     ]
    },
    {
     "name": "stdout",
     "output_type": "stream",
     "text": [
      "{'ner': 301.4815786479756}\n",
      "59\n"
     ]
    },
    {
     "name": "stderr",
     "output_type": "stream",
     "text": [
      "100%|██████████| 59/59 [00:04<00:00, 14.32it/s]\n",
      "  3%|▎         | 2/59 [00:00<00:03, 14.32it/s]"
     ]
    },
    {
     "name": "stdout",
     "output_type": "stream",
     "text": [
      "{'ner': 297.90530627714986}\n",
      "59\n"
     ]
    },
    {
     "name": "stderr",
     "output_type": "stream",
     "text": [
      "100%|██████████| 59/59 [00:04<00:00, 14.14it/s]\n",
      "  3%|▎         | 2/59 [00:00<00:03, 16.54it/s]"
     ]
    },
    {
     "name": "stdout",
     "output_type": "stream",
     "text": [
      "{'ner': 309.32986167393193}\n",
      "59\n"
     ]
    },
    {
     "name": "stderr",
     "output_type": "stream",
     "text": [
      "100%|██████████| 59/59 [00:04<00:00, 14.48it/s]\n",
      "  2%|▏         | 1/59 [00:00<00:07,  7.82it/s]"
     ]
    },
    {
     "name": "stdout",
     "output_type": "stream",
     "text": [
      "{'ner': 256.67100366265964}\n",
      "59\n"
     ]
    },
    {
     "name": "stderr",
     "output_type": "stream",
     "text": [
      "100%|██████████| 59/59 [00:03<00:00, 14.80it/s]\n",
      "  2%|▏         | 1/59 [00:00<00:06,  9.48it/s]"
     ]
    },
    {
     "name": "stdout",
     "output_type": "stream",
     "text": [
      "{'ner': 274.6694189035375}\n",
      "59\n"
     ]
    },
    {
     "name": "stderr",
     "output_type": "stream",
     "text": [
      "100%|██████████| 59/59 [00:04<00:00, 13.54it/s]\n",
      "  5%|▌         | 3/59 [00:00<00:01, 29.32it/s]"
     ]
    },
    {
     "name": "stdout",
     "output_type": "stream",
     "text": [
      "{'ner': 232.8936484162567}\n",
      "59\n"
     ]
    },
    {
     "name": "stderr",
     "output_type": "stream",
     "text": [
      " 78%|███████▊  | 46/59 [00:03<00:01, 12.82it/s]"
     ]
    }
   ],
   "source": [
    "# train the model with our training data\n",
    "\n",
    "model = None\n",
    "n_iter = 1000\n",
    "\n",
    "if model is not None:\n",
    "    nlp = spacy.load(model)  \n",
    "    print(\"Loaded model '%s'\" % model)\n",
    "else:\n",
    "    nlp = spacy.blank('en')  \n",
    "    print(\"Created blank 'en' model\")\n",
    "\n",
    "#set up the pipeline\n",
    "\n",
    "if 'ner' not in nlp.pipe_names:\n",
    "    nlp.add_pipe('ner', last=True)\n",
    "ner = nlp.get_pipe('ner')\n",
    "\n",
    "for _, annotations in train_data:\n",
    "    for ent in annotations.get('entities'):\n",
    "        ner.add_label(ent[2])\n",
    "     \n",
    "other_pipes = [pipe for pipe in nlp.pipe_names if pipe != 'ner']\n",
    "with nlp.disable_pipes(*other_pipes):  # only train NER\n",
    "    optimizer = nlp.begin_training()\n",
    "    for itn in tqdm(range(n_iter)):\n",
    "        random.shuffle(train_data)\n",
    "        losses = {}\n",
    "        doc = nlp.make_doc(root[0].text)\n",
    "        print(len(train_data))\n",
    "        for text, annotations in train_data:\n",
    "            try:\n",
    "                nlp.update(\n",
    "                    [Example.from_dict(nlp.make_doc(text), annotations)],  \n",
    "                    drop=0.4,  \n",
    "                    sgd=optimizer,\n",
    "                    losses=losses)\n",
    "            except:\n",
    "                fails += 1\n",
    "        print('\\rEpisode {}\\tAverage Score: {:.2f}'.format(itn, losses['net'], end=\"\")\n"
   ]
  },
  {
   "cell_type": "code",
   "execution_count": 4,
   "id": "entire-unknown",
   "metadata": {},
   "outputs": [],
   "source": [
    "# Alternatively load pretrained English tokenizer, tagger, parser and NER\n",
    "nlp = spacy.load(\"en_core_web_sm\")"
   ]
  },
  {
   "cell_type": "markdown",
   "id": "promising-progressive",
   "metadata": {},
   "source": [
    "## 2.3 Auswertung"
   ]
  },
  {
   "cell_type": "markdown",
   "id": "affiliated-cabinet",
   "metadata": {},
   "source": [
    "Wie oft kommen welche PoS-Tags vor?"
   ]
  },
  {
   "cell_type": "code",
   "execution_count": 8,
   "id": "assumed-antique",
   "metadata": {},
   "outputs": [
    {
     "name": "stdout",
     "output_type": "stream",
     "text": [
      "Aufgabe 1:\n",
      "('PUNCT', 3508)\n",
      "('X', 25)\n",
      "('ADP', 3105)\n",
      "('PROPN', 1927)\n",
      "('DET', 2951)\n",
      "('AUX', 897)\n",
      "('SCONJ', 299)\n",
      "('VERB', 2927)\n",
      "('SPACE', 825)\n",
      "('INTJ', 12)\n",
      "('ADV', 1315)\n",
      "('NOUN', 5180)\n",
      "('NUM', 629)\n",
      "('CCONJ', 826)\n",
      "('PART', 518)\n",
      "('SYM', 23)\n",
      "('ADJ', 1828)\n",
      "('PRON', 1627)\n"
     ]
    }
   ],
   "source": [
    "pos = []\n",
    "for text, _ in train_data:\n",
    "    doc = nlp(text)\n",
    "    for token in doc:\n",
    "        pos.append(token.pos_)\n",
    "pos = count_pos(pos)\n",
    "print(\"Aufgabe 1:\")\n",
    "print(*pos.items(), sep=\"\\n\")\n",
    "    "
   ]
  },
  {
   "cell_type": "markdown",
   "id": "effective-senator",
   "metadata": {},
   "source": [
    "Wie viele [SpatialEntities, Places, Motions, Locations, Signals, QsLinks, OLinks] gibt es?"
   ]
  },
  {
   "cell_type": "code",
   "execution_count": 9,
   "id": "republican-label",
   "metadata": {},
   "outputs": [
    {
     "name": "stdout",
     "output_type": "stream",
     "text": [
      "Aufgabe 2:\n",
      "('PLACE', 1852)\n",
      "('NONMOTION_EVENT', 341)\n",
      "('QSLINK', 970)\n",
      "('MLINK', 42)\n",
      "('URL', 17)\n",
      "('MOVELINK', 803)\n",
      "('SPATIAL_SIGNAL', 714)\n",
      "('CP', 17)\n",
      "('PATH', 434)\n",
      "('SPATIAL_ENTITY', 1417)\n",
      "('OLINK', 244)\n",
      "('MOTION_SIGNAL', 526)\n",
      "('MEASURELINK', 93)\n",
      "('MOTION', 771)\n",
      "('METALINK', 1788)\n",
      "('MEASURE', 170)\n"
     ]
    }
   ],
   "source": [
    "ents = []\n",
    "for data in full_data:\n",
    "    for elem in data[1]:\n",
    "         ents.append(elem.tag)\n",
    "\n",
    "ents = count_pos(ents)\n",
    "print(\"Aufgabe 2:\")\n",
    "print(*ents.items(), sep=\"\\n\")"
   ]
  },
  {
   "cell_type": "markdown",
   "id": "through-cabinet",
   "metadata": {},
   "source": [
    "Wie oft kommen welche QsLink Typen vor? (DC,EC, ...)?"
   ]
  },
  {
   "cell_type": "code",
   "execution_count": 10,
   "id": "educational-hierarchy",
   "metadata": {},
   "outputs": [
    {
     "name": "stdout",
     "output_type": "stream",
     "text": [
      "Aufgabe 3:\n",
      "('', 2)\n",
      "('DC', 41)\n",
      "('PO', 12)\n",
      "('TPP', 53)\n",
      "('OUT', 3)\n",
      "('NTPP', 42)\n",
      "('EQ', 35)\n",
      "('EC', 196)\n",
      "('IN', 586)\n"
     ]
    }
   ],
   "source": [
    "links = []\n",
    "for data in full_data:\n",
    "    for elem in data[1]:\n",
    "        if elem.tag == \"QSLINK\":\n",
    "            links.append(elem.get('relType'))\n",
    "            \n",
    "links = count_pos(links)\n",
    "print(\"Aufgabe 3:\")\n",
    "print(*links.items(), sep=\"\\n\")"
   ]
  },
  {
   "cell_type": "markdown",
   "id": "secondary-retreat",
   "metadata": {},
   "source": [
    "Verteilung der Satzlänge graphisch darstellen (x: Satzlänge, y: Wie häufig)?"
   ]
  },
  {
   "cell_type": "code",
   "execution_count": 11,
   "id": "compliant-tiffany",
   "metadata": {},
   "outputs": [
    {
     "data": {
      "image/png": "[encoded data removed]",
      "text/plain": [
       "<Figure size 432x288 with 1 Axes>"
      ]
     },
     "metadata": {
      "needs_background": "light"
     },
     "output_type": "display_data"
    }
   ],
   "source": [
    "sents = []\n",
    "for text, _ in train_data:\n",
    "    doc = nlp(text)\n",
    "    for sent in doc.sents:\n",
    "        # find length by counting whitespaces in the sentence\n",
    "        temp1 = sent.text\n",
    "        temp2 = temp1.replace(' ', '')\n",
    "        spaces = len(temp1) - len(temp2)\n",
    "        sents.append(spaces+1)\n",
    "# map lengths to amount of times it appereard\n",
    "distribution = count_pos(sents)\n",
    "plt.bar(list(distribution.keys()), list(distribution.values()))\n",
    "plt.title(\"Satzlängen\")\n",
    "plt.xlabel(\"Satzlängen\")\n",
    "plt.ylabel(\"Häufigkeiten\")\n",
    "plt.show()"
   ]
  },
  {
   "cell_type": "markdown",
   "id": "diverse-elder",
   "metadata": {},
   "source": [
    "Welche Links (QSLinks, OLinks) werden von welchen Präpositionen (markiert durch SPATIAL_SIGNAL) getriggert (z.B. wie oft werden QSLinks durch die Präposition „on“ getriggert)?"
   ]
  },
  {
   "cell_type": "code",
   "execution_count": 12,
   "id": "binding-supplier",
   "metadata": {},
   "outputs": [
    {
     "name": "stdout",
     "output_type": "stream",
     "text": [
      "Aufgabe 5:\n",
      "\n",
      "Qslink trigger:\n",
      "('Everywhere', 1)\n",
      "('about', 1)\n",
      "('Along', 1)\n",
      "('In', 22)\n",
      "('afar', 1)\n",
      "('Down', 1)\n",
      "('up', 1)\n",
      "('surrounded', 2)\n",
      "('between', 5)\n",
      "('into', 1)\n",
      "('In front of', 1)\n",
      "('adjacent to', 1)\n",
      "('overlooking', 2)\n",
      "('in front of', 1)\n",
      "('where', 68)\n",
      "('after', 1)\n",
      "('out of', 1)\n",
      "('further', 1)\n",
      "('contains', 1)\n",
      "('restricted', 1)\n",
      "('through', 4)\n",
      "('houses', 11)\n",
      "('covered', 5)\n",
      "('line', 1)\n",
      "('away from', 4)\n",
      "('on', 75)\n",
      "('upon', 1)\n",
      "('away', 2)\n",
      "('on top of', 1)\n",
      "('inside', 4)\n",
      "('to', 2)\n",
      "('next to', 10)\n",
      "('filled', 3)\n",
      "('far from', 3)\n",
      "('house', 1)\n",
      "('surmounted', 1)\n",
      "('with', 15)\n",
      "('along', 14)\n",
      "('at', 54)\n",
      "('beside', 1)\n",
      "('At', 6)\n",
      "('under', 2)\n",
      "('over', 2)\n",
      "('behind', 1)\n",
      "('coiling up', 1)\n",
      "('of', 44)\n",
      "('contain', 4)\n",
      "('against', 1)\n",
      "('has', 2)\n",
      "('outside', 2)\n",
      "('directly beneath', 1)\n",
      "('packed', 1)\n",
      "('up to', 1)\n",
      "('apart', 1)\n",
      "('connects', 4)\n",
      "('including', 3)\n",
      "('around', 4)\n",
      "('inside of', 1)\n",
      "('On', 4)\n",
      "('bordering', 1)\n",
      "('atop', 2)\n",
      "('for', 1)\n",
      "('stocked', 1)\n",
      "('part         of', 1)\n",
      "('inhabited', 1)\n",
      "('in', 228)\n",
      "('packed with', 1)\n",
      "('full of', 10)\n",
      "('surrounding', 3)\n",
      "('covering', 1)\n",
      "('apart from', 1)\n",
      "('on top', 2)\n",
      "('from', 3)\n",
      "('across', 2)\n",
      "\n",
      "Olink trigger:\n",
      "('Along', 1)\n",
      "('South\\xadeast of', 1)\n",
      "('north of', 2)\n",
      "('to the west from', 1)\n",
      "('east of', 3)\n",
      "('on top', 2)\n",
      "('Down', 2)\n",
      "('toward', 1)\n",
      "('next door to', 1)\n",
      "('up', 5)\n",
      "('surrounded', 4)\n",
      "('between', 8)\n",
      "('across from', 1)\n",
      "('In front of', 1)\n",
      "('adjacent to', 1)\n",
      "('overlooking', 3)\n",
      "('northeast', 1)\n",
      "('in front of', 2)\n",
      "('West of', 1)\n",
      "('to SW', 1)\n",
      "('covered', 5)\n",
      "('line', 1)\n",
      "('Across', 1)\n",
      "('on', 45)\n",
      "('alongside', 1)\n",
      "('upon', 1)\n",
      "('south', 4)\n",
      "('Facing', 1)\n",
      "('on top of', 1)\n",
      "('on your left', 1)\n",
      "('southwest', 1)\n",
      "('beneath', 4)\n",
      "('next to', 12)\n",
      "('to', 3)\n",
      "('backwards', 1)\n",
      "('west', 1)\n",
      "('upstream from', 1)\n",
      "('surmounted', 1)\n",
      "('to the left', 1)\n",
      "('east', 2)\n",
      "('along', 14)\n",
      "('in the direction to', 1)\n",
      "('beside', 1)\n",
      "('down', 5)\n",
      "('under', 3)\n",
      "('over', 7)\n",
      "('behind', 3)\n",
      "('coiling up', 1)\n",
      "('of', 3)\n",
      "('below', 4)\n",
      "('in that direction', 1)\n",
      "('directly beneath', 1)\n",
      "('facing', 1)\n",
      "('up to', 1)\n",
      "('around', 3)\n",
      "('On', 2)\n",
      "('atop', 2)\n",
      "('Southeast of', 2)\n",
      "('above', 4)\n",
      "('in', 2)\n",
      "('on the right', 1)\n",
      "('overlook', 1)\n",
      "('neighboring', 1)\n",
      "('surrounding', 3)\n",
      "('south of', 2)\n",
      "('north', 2)\n",
      "('across', 1)\n"
     ]
    }
   ],
   "source": [
    "qs_trigger = []\n",
    "o_trigger = []\n",
    "\n",
    "# collect all triggers\n",
    "for data in full_data:\n",
    "    temp_qs = []\n",
    "    temp_o = []\n",
    "    trigg_dic = {}\n",
    "    \n",
    "    # add all triggers ONLY with their id\n",
    "    for elem in data[1]:\n",
    "        if elem.tag == \"QSLINK\":\n",
    "            temp_qs.append(elem.attrib['trigger'])\n",
    "        elif elem.tag == \"OLINK\":\n",
    "            temp_o.append(elem.attrib['trigger'])\n",
    "        if elem.tag == \"SPATIAL_SIGNAL\":\n",
    "            trigg_dic[elem.get('id')] = elem.get('text')\n",
    "\n",
    "    # replace trigger id with their respective texts\n",
    "    for i in range(len(temp_qs)):\n",
    "        try:\n",
    "            qs_trigger.append(trigg_dic[temp_qs[i]])\n",
    "        except:\n",
    "            pass\n",
    "    for i in range(len(temp_o)):\n",
    "        try:\n",
    "            o_trigger.append(trigg_dic[temp_o[i]])\n",
    "        except:\n",
    "            pass\n",
    "\n",
    "qs_trigger = count_pos(qs_trigger)\n",
    "o_trigger = count_pos(o_trigger)\n",
    "\n",
    "print(\"Aufgabe 5:\")\n",
    "print(\"\\nQslink trigger:\", *qs_trigger.items(), sep=\"\\n\")\n",
    "print(\"\\nOlink trigger:\", *o_trigger.items(), sep=\"\\n\")"
   ]
  },
  {
   "cell_type": "markdown",
   "id": "republican-bulletin",
   "metadata": {},
   "source": [
    "Welches sind die fünf häufigsten „MOTION“ Verben (und wie oft kommen diese vor)?"
   ]
  },
  {
   "cell_type": "code",
   "execution_count": 13,
   "id": "widespread-chuck",
   "metadata": {},
   "outputs": [
    {
     "name": "stdout",
     "output_type": "stream",
     "text": [
      "Aufgabe 6:\n",
      "('bike', 68)\n",
      "('go', 38)\n",
      "('visit', 35)\n",
      "('drive', 32)\n",
      "('leave', 32)\n"
     ]
    }
   ],
   "source": [
    "lemma_verbs = []   # only collect lemma from verbs\n",
    "for data in full_data:\n",
    "    # collect all different motion verbs\n",
    "    verbs = []  \n",
    "    for elem in data[1]:\n",
    "        if elem.tag == \"MOTION\":\n",
    "            verbs.append(elem.attrib['text'])\n",
    "            \n",
    "    # only add their lemma to the actual list\n",
    "    doc = nlp(data[0].text)\n",
    "    for token in doc:\n",
    "        if token.text in verbs:\n",
    "            lemma_verbs.append(token.lemma_)\n",
    "\n",
    "lemma_verbs = count_pos(lemma_verbs)\n",
    "lemma_verbs = sorted(lemma_verbs.items(), key=lambda x: x[1], reverse=True)\n",
    "print(\"Aufgabe 6:\", *lemma_verbs[0:5], sep=\"\\n\")"
   ]
  },
  {
   "cell_type": "markdown",
   "id": "attempted-backup",
   "metadata": {},
   "source": [
    "## 2.4 Visualisierung"
   ]
  },
  {
   "cell_type": "markdown",
   "id": "stock-excess",
   "metadata": {},
   "source": [
    "Graphische Darstellung von Verbindungen zwischen Entitäten"
   ]
  },
  {
   "cell_type": "markdown",
   "id": "marked-assault",
   "metadata": {},
   "source": [
    "**Bicycle.xml**"
   ]
  },
  {
   "cell_type": "code",
   "execution_count": 14,
   "id": "activated-circuit",
   "metadata": {},
   "outputs": [
    {
     "name": "stdout",
     "output_type": "stream",
     "text": [
      "<Element 'SpaceEvalTaskv1.2' at 0x7faa199cb9a0>\n"
     ]
    },
    {
     "data": {
      "image/png": "[encoded data removed]",
      "text/plain": [
       "<Figure size 432x288 with 1 Axes>"
      ]
     },
     "metadata": {},
     "output_type": "display_data"
    }
   ],
   "source": [
    "print(special1)\n",
    "\n",
    "G = nx.Graph()\n",
    "color_map = []\n",
    "counter = 0\n",
    "for elem in special1[1]:\n",
    "     if elem.tag == \"SPATIAL_ENTITY\":\n",
    "          G.add_node(elem.attrib['text'])\n",
    "\n",
    "nx.draw(G, node_color='r', with_labels=True)\n",
    "\n",
    "for elem in special1[1]:\n",
    "     if elem.tag == \"PLACE\":\n",
    "          G.add_node(elem.attrib['text'])\n",
    "\n",
    "nx.draw(G, node_color='b', with_labels=True)\n",
    "\n",
    "\n",
    "for elem in special1[1]:\n",
    "     if elem.tag == \"LOCATION\":\n",
    "          G.add_node(elem.attrib['text'])\n",
    "\n",
    "nx.draw(G, node_color='g', with_labels=True)\n",
    "\n",
    "\n",
    "for elem in special1[1]:\n",
    "     if elem.tag == \"PATH\":\n",
    "          G.add_node(elem.attrib['text'])\n",
    "\n",
    "nx.draw(G, node_color='w', with_labels=True)\n",
    "\n",
    "\n",
    "for elem in special1[1]:\n",
    "     if elem.tag == \"NONMOTIONEVENT\":\n",
    "          G.add_node(elem.attrib['text'])\n",
    "\n",
    "nx.draw(G, node_color='y', with_labels=True)"
   ]
  },
  {
   "cell_type": "markdown",
   "id": "angry-hazard",
   "metadata": {},
   "source": [
    "**Highlights_of_the_Prado_Museum.xml**"
   ]
  },
  {
   "cell_type": "code",
   "execution_count": null,
   "id": "covered-devices",
   "metadata": {},
   "outputs": [],
   "source": []
  },
  {
   "cell_type": "code",
   "execution_count": null,
   "id": "boxed-latin",
   "metadata": {},
   "outputs": [],
   "source": []
  },
  {
   "cell_type": "code",
   "execution_count": null,
   "id": "useful-alloy",
   "metadata": {},
   "outputs": [],
   "source": []
  }
 ],
 "metadata": {
  "kernelspec": {
   "display_name": "Python 3",
   "language": "python",
   "name": "python3"
  },
  "language_info": {
   "codemirror_mode": {
    "name": "ipython",
    "version": 3
   },
   "file_extension": ".py",
   "mimetype": "text/x-python",
   "name": "python",
   "nbconvert_exporter": "python",
   "pygments_lexer": "ipython3",
   "version": "3.8.5"
  }
 },
 "nbformat": 4,
 "nbformat_minor": 5
}
